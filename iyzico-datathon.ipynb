{
 "cells": [
  {
   "cell_type": "code",
   "execution_count": 2,
   "metadata": {},
   "outputs": [],
   "source": [
    "import pandas as pd\n",
    "import numpy as np\n",
    "import matplotlib.pyplot as plt\n",
    "import seaborn as sns\n",
    "from datetime import datetime\n",
    "import statsmodels.api as sm\n",
    "from statsmodels.tsa.arima_model import ARIMA       \n"
   ]
  },
  {
   "cell_type": "code",
   "execution_count": 4,
   "metadata": {},
   "outputs": [
    {
     "data": {
      "text/html": [
       "<div>\n",
       "<style scoped>\n",
       "    .dataframe tbody tr th:only-of-type {\n",
       "        vertical-align: middle;\n",
       "    }\n",
       "\n",
       "    .dataframe tbody tr th {\n",
       "        vertical-align: top;\n",
       "    }\n",
       "\n",
       "    .dataframe thead th {\n",
       "        text-align: right;\n",
       "    }\n",
       "</style>\n",
       "<table border=\"1\" class=\"dataframe\">\n",
       "  <thead>\n",
       "    <tr style=\"text-align: right;\">\n",
       "      <th></th>\n",
       "      <th>merchant_id</th>\n",
       "      <th>month_id</th>\n",
       "      <th>merchant_source_name</th>\n",
       "      <th>settlement_period</th>\n",
       "      <th>working_type</th>\n",
       "      <th>mcc_id</th>\n",
       "      <th>merchant_segment</th>\n",
       "      <th>net_payment_count</th>\n",
       "    </tr>\n",
       "  </thead>\n",
       "  <tbody>\n",
       "    <tr>\n",
       "      <th>0</th>\n",
       "      <td>merchant_43992</td>\n",
       "      <td>202307</td>\n",
       "      <td>Merchant Source - 3</td>\n",
       "      <td>Settlement Period - 3</td>\n",
       "      <td>Working Type - 2</td>\n",
       "      <td>mcc_197</td>\n",
       "      <td>Segment - 2</td>\n",
       "      <td>15106</td>\n",
       "    </tr>\n",
       "    <tr>\n",
       "      <th>1</th>\n",
       "      <td>merchant_43992</td>\n",
       "      <td>202301</td>\n",
       "      <td>Merchant Source - 3</td>\n",
       "      <td>Settlement Period - 3</td>\n",
       "      <td>Working Type - 2</td>\n",
       "      <td>mcc_197</td>\n",
       "      <td>Segment - 2</td>\n",
       "      <td>16918</td>\n",
       "    </tr>\n",
       "    <tr>\n",
       "      <th>2</th>\n",
       "      <td>merchant_43992</td>\n",
       "      <td>202305</td>\n",
       "      <td>Merchant Source - 3</td>\n",
       "      <td>Settlement Period - 3</td>\n",
       "      <td>Working Type - 2</td>\n",
       "      <td>mcc_197</td>\n",
       "      <td>Segment - 2</td>\n",
       "      <td>13452</td>\n",
       "    </tr>\n",
       "    <tr>\n",
       "      <th>3</th>\n",
       "      <td>merchant_43992</td>\n",
       "      <td>202308</td>\n",
       "      <td>Merchant Source - 3</td>\n",
       "      <td>Settlement Period - 3</td>\n",
       "      <td>Working Type - 2</td>\n",
       "      <td>mcc_197</td>\n",
       "      <td>Segment - 2</td>\n",
       "      <td>16787</td>\n",
       "    </tr>\n",
       "    <tr>\n",
       "      <th>4</th>\n",
       "      <td>merchant_43992</td>\n",
       "      <td>202302</td>\n",
       "      <td>Merchant Source - 3</td>\n",
       "      <td>Settlement Period - 3</td>\n",
       "      <td>Working Type - 2</td>\n",
       "      <td>mcc_197</td>\n",
       "      <td>Segment - 2</td>\n",
       "      <td>12428</td>\n",
       "    </tr>\n",
       "  </tbody>\n",
       "</table>\n",
       "</div>"
      ],
      "text/plain": [
       "      merchant_id  month_id merchant_source_name      settlement_period   \n",
       "0  merchant_43992    202307  Merchant Source - 3  Settlement Period - 3  \\\n",
       "1  merchant_43992    202301  Merchant Source - 3  Settlement Period - 3   \n",
       "2  merchant_43992    202305  Merchant Source - 3  Settlement Period - 3   \n",
       "3  merchant_43992    202308  Merchant Source - 3  Settlement Period - 3   \n",
       "4  merchant_43992    202302  Merchant Source - 3  Settlement Period - 3   \n",
       "\n",
       "       working_type   mcc_id merchant_segment  net_payment_count  \n",
       "0  Working Type - 2  mcc_197      Segment - 2              15106  \n",
       "1  Working Type - 2  mcc_197      Segment - 2              16918  \n",
       "2  Working Type - 2  mcc_197      Segment - 2              13452  \n",
       "3  Working Type - 2  mcc_197      Segment - 2              16787  \n",
       "4  Working Type - 2  mcc_197      Segment - 2              12428  "
      ]
     },
     "execution_count": 4,
     "metadata": {},
     "output_type": "execute_result"
    }
   ],
   "source": [
    "train = pd.read_csv(\"/Users/seydanurkayir/Desktop/iyzico-datathon/train.csv\")\n",
    "train.head()"
   ]
  },
  {
   "cell_type": "code",
   "execution_count": 239,
   "metadata": {},
   "outputs": [
    {
     "data": {
      "text/html": [
       "<div>\n",
       "<style scoped>\n",
       "    .dataframe tbody tr th:only-of-type {\n",
       "        vertical-align: middle;\n",
       "    }\n",
       "\n",
       "    .dataframe tbody tr th {\n",
       "        vertical-align: top;\n",
       "    }\n",
       "\n",
       "    .dataframe thead th {\n",
       "        text-align: right;\n",
       "    }\n",
       "</style>\n",
       "<table border=\"1\" class=\"dataframe\">\n",
       "  <thead>\n",
       "    <tr style=\"text-align: right;\">\n",
       "      <th></th>\n",
       "      <th>merchant_id</th>\n",
       "      <th>month_id</th>\n",
       "      <th>merchant_source_name</th>\n",
       "      <th>settlement_period</th>\n",
       "      <th>working_type</th>\n",
       "      <th>mcc_id</th>\n",
       "      <th>merchant_segment</th>\n",
       "      <th>net_payment_count</th>\n",
       "      <th>sub_id</th>\n",
       "    </tr>\n",
       "  </thead>\n",
       "  <tbody>\n",
       "    <tr>\n",
       "      <th>0</th>\n",
       "      <td>merchant_43992</td>\n",
       "      <td>202307</td>\n",
       "      <td>Merchant Source - 3</td>\n",
       "      <td>Settlement Period - 3</td>\n",
       "      <td>Working Type - 2</td>\n",
       "      <td>mcc_197</td>\n",
       "      <td>Segment - 2</td>\n",
       "      <td>15106</td>\n",
       "      <td>202307merchant_43992</td>\n",
       "    </tr>\n",
       "    <tr>\n",
       "      <th>1</th>\n",
       "      <td>merchant_43992</td>\n",
       "      <td>202301</td>\n",
       "      <td>Merchant Source - 3</td>\n",
       "      <td>Settlement Period - 3</td>\n",
       "      <td>Working Type - 2</td>\n",
       "      <td>mcc_197</td>\n",
       "      <td>Segment - 2</td>\n",
       "      <td>16918</td>\n",
       "      <td>202301merchant_43992</td>\n",
       "    </tr>\n",
       "    <tr>\n",
       "      <th>2</th>\n",
       "      <td>merchant_43992</td>\n",
       "      <td>202305</td>\n",
       "      <td>Merchant Source - 3</td>\n",
       "      <td>Settlement Period - 3</td>\n",
       "      <td>Working Type - 2</td>\n",
       "      <td>mcc_197</td>\n",
       "      <td>Segment - 2</td>\n",
       "      <td>13452</td>\n",
       "      <td>202305merchant_43992</td>\n",
       "    </tr>\n",
       "    <tr>\n",
       "      <th>3</th>\n",
       "      <td>merchant_43992</td>\n",
       "      <td>202308</td>\n",
       "      <td>Merchant Source - 3</td>\n",
       "      <td>Settlement Period - 3</td>\n",
       "      <td>Working Type - 2</td>\n",
       "      <td>mcc_197</td>\n",
       "      <td>Segment - 2</td>\n",
       "      <td>16787</td>\n",
       "      <td>202308merchant_43992</td>\n",
       "    </tr>\n",
       "    <tr>\n",
       "      <th>4</th>\n",
       "      <td>merchant_43992</td>\n",
       "      <td>202302</td>\n",
       "      <td>Merchant Source - 3</td>\n",
       "      <td>Settlement Period - 3</td>\n",
       "      <td>Working Type - 2</td>\n",
       "      <td>mcc_197</td>\n",
       "      <td>Segment - 2</td>\n",
       "      <td>12428</td>\n",
       "      <td>202302merchant_43992</td>\n",
       "    </tr>\n",
       "  </tbody>\n",
       "</table>\n",
       "</div>"
      ],
      "text/plain": [
       "      merchant_id  month_id merchant_source_name      settlement_period   \n",
       "0  merchant_43992    202307  Merchant Source - 3  Settlement Period - 3  \\\n",
       "1  merchant_43992    202301  Merchant Source - 3  Settlement Period - 3   \n",
       "2  merchant_43992    202305  Merchant Source - 3  Settlement Period - 3   \n",
       "3  merchant_43992    202308  Merchant Source - 3  Settlement Period - 3   \n",
       "4  merchant_43992    202302  Merchant Source - 3  Settlement Period - 3   \n",
       "\n",
       "       working_type   mcc_id merchant_segment  net_payment_count   \n",
       "0  Working Type - 2  mcc_197      Segment - 2              15106  \\\n",
       "1  Working Type - 2  mcc_197      Segment - 2              16918   \n",
       "2  Working Type - 2  mcc_197      Segment - 2              13452   \n",
       "3  Working Type - 2  mcc_197      Segment - 2              16787   \n",
       "4  Working Type - 2  mcc_197      Segment - 2              12428   \n",
       "\n",
       "                 sub_id  \n",
       "0  202307merchant_43992  \n",
       "1  202301merchant_43992  \n",
       "2  202305merchant_43992  \n",
       "3  202308merchant_43992  \n",
       "4  202302merchant_43992  "
      ]
     },
     "execution_count": 239,
     "metadata": {},
     "output_type": "execute_result"
    }
   ],
   "source": [
    "train['sub_id'] = train['month_id'].astype(str) + train['merchant_id'].astype(str)\n",
    "train.head()"
   ]
  },
  {
   "cell_type": "code",
   "execution_count": 5,
   "metadata": {},
   "outputs": [
    {
     "data": {
      "text/html": [
       "<div>\n",
       "<style scoped>\n",
       "    .dataframe tbody tr th:only-of-type {\n",
       "        vertical-align: middle;\n",
       "    }\n",
       "\n",
       "    .dataframe tbody tr th {\n",
       "        vertical-align: top;\n",
       "    }\n",
       "\n",
       "    .dataframe thead th {\n",
       "        text-align: right;\n",
       "    }\n",
       "</style>\n",
       "<table border=\"1\" class=\"dataframe\">\n",
       "  <thead>\n",
       "    <tr style=\"text-align: right;\">\n",
       "      <th></th>\n",
       "      <th>id</th>\n",
       "      <th>net_payment_count</th>\n",
       "    </tr>\n",
       "  </thead>\n",
       "  <tbody>\n",
       "    <tr>\n",
       "      <th>0</th>\n",
       "      <td>202311merchant_36004</td>\n",
       "      <td>0</td>\n",
       "    </tr>\n",
       "    <tr>\n",
       "      <th>1</th>\n",
       "      <td>202312merchant_36004</td>\n",
       "      <td>0</td>\n",
       "    </tr>\n",
       "    <tr>\n",
       "      <th>2</th>\n",
       "      <td>202310merchant_36004</td>\n",
       "      <td>0</td>\n",
       "    </tr>\n",
       "    <tr>\n",
       "      <th>3</th>\n",
       "      <td>202311merchant_23099</td>\n",
       "      <td>0</td>\n",
       "    </tr>\n",
       "    <tr>\n",
       "      <th>4</th>\n",
       "      <td>202312merchant_23099</td>\n",
       "      <td>0</td>\n",
       "    </tr>\n",
       "  </tbody>\n",
       "</table>\n",
       "</div>"
      ],
      "text/plain": [
       "                     id  net_payment_count\n",
       "0  202311merchant_36004                  0\n",
       "1  202312merchant_36004                  0\n",
       "2  202310merchant_36004                  0\n",
       "3  202311merchant_23099                  0\n",
       "4  202312merchant_23099                  0"
      ]
     },
     "execution_count": 5,
     "metadata": {},
     "output_type": "execute_result"
    }
   ],
   "source": [
    "sub = pd.read_csv(\"/Users/seydanurkayir/Desktop/iyzico-datathon/sample_submission.csv\")\n",
    "sub.head()"
   ]
  },
  {
   "cell_type": "code",
   "execution_count": 6,
   "metadata": {},
   "outputs": [
    {
     "name": "stdout",
     "output_type": "stream",
     "text": [
      "<class 'pandas.core.frame.DataFrame'>\n",
      "Index: 291142 entries, 63650 to 291141\n",
      "Data columns (total 8 columns):\n",
      " #   Column                Non-Null Count   Dtype         \n",
      "---  ------                --------------   -----         \n",
      " 0   merchant_id           291142 non-null  object        \n",
      " 1   month_id              291142 non-null  datetime64[ns]\n",
      " 2   merchant_source_name  291142 non-null  object        \n",
      " 3   settlement_period     291142 non-null  object        \n",
      " 4   working_type          291142 non-null  object        \n",
      " 5   mcc_id                291142 non-null  object        \n",
      " 6   merchant_segment      291142 non-null  object        \n",
      " 7   net_payment_count     291142 non-null  int64         \n",
      "dtypes: datetime64[ns](1), int64(1), object(6)\n",
      "memory usage: 20.0+ MB\n"
     ]
    }
   ],
   "source": [
    "train[\"month_id\"] = pd.to_datetime(train[\"month_id\"], format=\"%Y%m\")\n",
    "\n",
    "train = train.sort_values(by='month_id')\n",
    "train['month_id'] = train['month_id'].astype('datetime64[ns]')\n",
    "\n",
    "train.info()"
   ]
  },
  {
   "cell_type": "code",
   "execution_count": null,
   "metadata": {},
   "outputs": [],
   "source": [
    "#train.index = pd.to_period(train.index, freq='M')\n",
    "\n",
    "#train.index = pd.to_datetime(train.index)\n",
    "#month_index = train.index.to_period('M')\n",
    "\n",
    "#train.index.to_period(\"M\")\n",
    "#train_index = train['month_id'].strftime('%Y-%m')"
   ]
  },
  {
   "cell_type": "code",
   "execution_count": 7,
   "metadata": {},
   "outputs": [
    {
     "data": {
      "text/plain": [
       "DatetimeIndex(['2020-01-01', '2020-01-01', '2020-01-01', '2020-01-01',\n",
       "               '2020-01-01', '2020-01-01', '2020-01-01', '2020-01-01',\n",
       "               '2020-01-01', '2020-01-01',\n",
       "               ...\n",
       "               '2023-09-01', '2023-09-01', '2023-09-01', '2023-09-01',\n",
       "               '2023-09-01', '2023-09-01', '2023-09-01', '2023-09-01',\n",
       "               '2023-09-01', '2023-09-01'],\n",
       "              dtype='datetime64[ns]', name='month_id', length=291142, freq=None)"
      ]
     },
     "execution_count": 7,
     "metadata": {},
     "output_type": "execute_result"
    }
   ],
   "source": [
    "train['month_id']=pd.to_datetime(train['month_id'])\n",
    "train.set_index('month_id', inplace=True)\n",
    "\n",
    "train.index"
   ]
  },
  {
   "cell_type": "code",
   "execution_count": 8,
   "metadata": {},
   "outputs": [],
   "source": [
    "train[[\"merchant\",\"id\"]] = train[\"merchant_id\"].str.split(\"_\", expand=True)\n"
   ]
  },
  {
   "cell_type": "code",
   "execution_count": 9,
   "metadata": {},
   "outputs": [
    {
     "data": {
      "text/html": [
       "<div>\n",
       "<style scoped>\n",
       "    .dataframe tbody tr th:only-of-type {\n",
       "        vertical-align: middle;\n",
       "    }\n",
       "\n",
       "    .dataframe tbody tr th {\n",
       "        vertical-align: top;\n",
       "    }\n",
       "\n",
       "    .dataframe thead th {\n",
       "        text-align: right;\n",
       "    }\n",
       "</style>\n",
       "<table border=\"1\" class=\"dataframe\">\n",
       "  <thead>\n",
       "    <tr style=\"text-align: right;\">\n",
       "      <th></th>\n",
       "      <th>merchant_source_name</th>\n",
       "      <th>settlement_period</th>\n",
       "      <th>working_type</th>\n",
       "      <th>mcc_id</th>\n",
       "      <th>merchant_segment</th>\n",
       "      <th>net_payment_count</th>\n",
       "      <th>id</th>\n",
       "    </tr>\n",
       "    <tr>\n",
       "      <th>month_id</th>\n",
       "      <th></th>\n",
       "      <th></th>\n",
       "      <th></th>\n",
       "      <th></th>\n",
       "      <th></th>\n",
       "      <th></th>\n",
       "      <th></th>\n",
       "    </tr>\n",
       "  </thead>\n",
       "  <tbody>\n",
       "    <tr>\n",
       "      <th>2020-01-01</th>\n",
       "      <td>Merchant Source - 1</td>\n",
       "      <td>Settlement Period - 1</td>\n",
       "      <td>Working Type - 6</td>\n",
       "      <td>mcc_130</td>\n",
       "      <td>Segment - 4</td>\n",
       "      <td>6</td>\n",
       "      <td>66740</td>\n",
       "    </tr>\n",
       "    <tr>\n",
       "      <th>2020-01-01</th>\n",
       "      <td>Merchant Source - 1</td>\n",
       "      <td>Settlement Period - 1</td>\n",
       "      <td>Working Type - 2</td>\n",
       "      <td>mcc_153</td>\n",
       "      <td>Segment - 4</td>\n",
       "      <td>3</td>\n",
       "      <td>12444</td>\n",
       "    </tr>\n",
       "    <tr>\n",
       "      <th>2020-01-01</th>\n",
       "      <td>Merchant Source - 2</td>\n",
       "      <td>Settlement Period - 1</td>\n",
       "      <td>Working Type - 5</td>\n",
       "      <td>mcc_168</td>\n",
       "      <td>Segment - 4</td>\n",
       "      <td>3</td>\n",
       "      <td>40154</td>\n",
       "    </tr>\n",
       "    <tr>\n",
       "      <th>2020-01-01</th>\n",
       "      <td>Merchant Source - 3</td>\n",
       "      <td>Settlement Period - 3</td>\n",
       "      <td>Working Type - 2</td>\n",
       "      <td>mcc_25</td>\n",
       "      <td>Segment - 2</td>\n",
       "      <td>787</td>\n",
       "      <td>33179</td>\n",
       "    </tr>\n",
       "    <tr>\n",
       "      <th>2020-01-01</th>\n",
       "      <td>Merchant Source - 2</td>\n",
       "      <td>Settlement Period - 1</td>\n",
       "      <td>Working Type - 6</td>\n",
       "      <td>mcc_31</td>\n",
       "      <td>Segment - 4</td>\n",
       "      <td>5</td>\n",
       "      <td>16977</td>\n",
       "    </tr>\n",
       "  </tbody>\n",
       "</table>\n",
       "</div>"
      ],
      "text/plain": [
       "           merchant_source_name      settlement_period      working_type   \n",
       "month_id                                                                   \n",
       "2020-01-01  Merchant Source - 1  Settlement Period - 1  Working Type - 6  \\\n",
       "2020-01-01  Merchant Source - 1  Settlement Period - 1  Working Type - 2   \n",
       "2020-01-01  Merchant Source - 2  Settlement Period - 1  Working Type - 5   \n",
       "2020-01-01  Merchant Source - 3  Settlement Period - 3  Working Type - 2   \n",
       "2020-01-01  Merchant Source - 2  Settlement Period - 1  Working Type - 6   \n",
       "\n",
       "             mcc_id merchant_segment  net_payment_count     id  \n",
       "month_id                                                        \n",
       "2020-01-01  mcc_130      Segment - 4                  6  66740  \n",
       "2020-01-01  mcc_153      Segment - 4                  3  12444  \n",
       "2020-01-01  mcc_168      Segment - 4                  3  40154  \n",
       "2020-01-01   mcc_25      Segment - 2                787  33179  \n",
       "2020-01-01   mcc_31      Segment - 4                  5  16977  "
      ]
     },
     "execution_count": 9,
     "metadata": {},
     "output_type": "execute_result"
    }
   ],
   "source": [
    "train.drop(['merchant_id','merchant'], axis=1, inplace=True)\n",
    "train.head()"
   ]
  },
  {
   "cell_type": "code",
   "execution_count": 14,
   "metadata": {},
   "outputs": [
    {
     "data": {
      "text/html": [
       "<div>\n",
       "<style scoped>\n",
       "    .dataframe tbody tr th:only-of-type {\n",
       "        vertical-align: middle;\n",
       "    }\n",
       "\n",
       "    .dataframe tbody tr th {\n",
       "        vertical-align: top;\n",
       "    }\n",
       "\n",
       "    .dataframe thead th {\n",
       "        text-align: right;\n",
       "    }\n",
       "</style>\n",
       "<table border=\"1\" class=\"dataframe\">\n",
       "  <thead>\n",
       "    <tr style=\"text-align: right;\">\n",
       "      <th></th>\n",
       "      <th>merchant_source_name</th>\n",
       "      <th>settlement_period</th>\n",
       "      <th>working_type</th>\n",
       "      <th>mcc_id</th>\n",
       "      <th>merchant_segment</th>\n",
       "      <th>net_payment_count</th>\n",
       "      <th>id</th>\n",
       "    </tr>\n",
       "    <tr>\n",
       "      <th>month_id</th>\n",
       "      <th></th>\n",
       "      <th></th>\n",
       "      <th></th>\n",
       "      <th></th>\n",
       "      <th></th>\n",
       "      <th></th>\n",
       "      <th></th>\n",
       "    </tr>\n",
       "  </thead>\n",
       "  <tbody>\n",
       "    <tr>\n",
       "      <th>2022-10-01</th>\n",
       "      <td>Merchant Source - 2</td>\n",
       "      <td>Settlement Period - 1</td>\n",
       "      <td>Working Type - 5</td>\n",
       "      <td>mcc_128</td>\n",
       "      <td>Segment - 4</td>\n",
       "      <td>3</td>\n",
       "      <td>1</td>\n",
       "    </tr>\n",
       "    <tr>\n",
       "      <th>2021-08-01</th>\n",
       "      <td>Merchant Source - 2</td>\n",
       "      <td>Settlement Period - 1</td>\n",
       "      <td>Working Type - 5</td>\n",
       "      <td>mcc_128</td>\n",
       "      <td>Segment - 4</td>\n",
       "      <td>3</td>\n",
       "      <td>1</td>\n",
       "    </tr>\n",
       "    <tr>\n",
       "      <th>2022-03-01</th>\n",
       "      <td>Merchant Source - 2</td>\n",
       "      <td>Settlement Period - 3</td>\n",
       "      <td>Working Type - 6</td>\n",
       "      <td>mcc_42</td>\n",
       "      <td>Segment - 4</td>\n",
       "      <td>9</td>\n",
       "      <td>10</td>\n",
       "    </tr>\n",
       "    <tr>\n",
       "      <th>2021-11-01</th>\n",
       "      <td>Merchant Source - 2</td>\n",
       "      <td>Settlement Period - 3</td>\n",
       "      <td>Working Type - 6</td>\n",
       "      <td>mcc_42</td>\n",
       "      <td>Segment - 4</td>\n",
       "      <td>6</td>\n",
       "      <td>10</td>\n",
       "    </tr>\n",
       "    <tr>\n",
       "      <th>2022-04-01</th>\n",
       "      <td>Merchant Source - 2</td>\n",
       "      <td>Settlement Period - 3</td>\n",
       "      <td>Working Type - 6</td>\n",
       "      <td>mcc_42</td>\n",
       "      <td>Segment - 4</td>\n",
       "      <td>4</td>\n",
       "      <td>10</td>\n",
       "    </tr>\n",
       "  </tbody>\n",
       "</table>\n",
       "</div>"
      ],
      "text/plain": [
       "           merchant_source_name      settlement_period      working_type   \n",
       "month_id                                                                   \n",
       "2022-10-01  Merchant Source - 2  Settlement Period - 1  Working Type - 5  \\\n",
       "2021-08-01  Merchant Source - 2  Settlement Period - 1  Working Type - 5   \n",
       "2022-03-01  Merchant Source - 2  Settlement Period - 3  Working Type - 6   \n",
       "2021-11-01  Merchant Source - 2  Settlement Period - 3  Working Type - 6   \n",
       "2022-04-01  Merchant Source - 2  Settlement Period - 3  Working Type - 6   \n",
       "\n",
       "             mcc_id merchant_segment  net_payment_count  id  \n",
       "month_id                                                     \n",
       "2022-10-01  mcc_128      Segment - 4                  3   1  \n",
       "2021-08-01  mcc_128      Segment - 4                  3   1  \n",
       "2022-03-01   mcc_42      Segment - 4                  9  10  \n",
       "2021-11-01   mcc_42      Segment - 4                  6  10  \n",
       "2022-04-01   mcc_42      Segment - 4                  4  10  "
      ]
     },
     "execution_count": 14,
     "metadata": {},
     "output_type": "execute_result"
    }
   ],
   "source": [
    "result = train.sort_values(by=['id'])\n",
    "result.head()"
   ]
  },
  {
   "cell_type": "code",
   "execution_count": null,
   "metadata": {},
   "outputs": [],
   "source": [
    "result = train.groupby('id')\n",
    "result.describe()"
   ]
  },
  {
   "cell_type": "code",
   "execution_count": 15,
   "metadata": {},
   "outputs": [
    {
     "data": {
      "text/html": [
       "<div>\n",
       "<style scoped>\n",
       "    .dataframe tbody tr th:only-of-type {\n",
       "        vertical-align: middle;\n",
       "    }\n",
       "\n",
       "    .dataframe tbody tr th {\n",
       "        vertical-align: top;\n",
       "    }\n",
       "\n",
       "    .dataframe thead th {\n",
       "        text-align: right;\n",
       "    }\n",
       "</style>\n",
       "<table border=\"1\" class=\"dataframe\">\n",
       "  <thead>\n",
       "    <tr style=\"text-align: right;\">\n",
       "      <th></th>\n",
       "      <th>net_payment_count</th>\n",
       "      <th>id</th>\n",
       "    </tr>\n",
       "    <tr>\n",
       "      <th>month_id</th>\n",
       "      <th></th>\n",
       "      <th></th>\n",
       "    </tr>\n",
       "  </thead>\n",
       "  <tbody>\n",
       "    <tr>\n",
       "      <th>2022-10-01</th>\n",
       "      <td>3</td>\n",
       "      <td>1</td>\n",
       "    </tr>\n",
       "    <tr>\n",
       "      <th>2021-08-01</th>\n",
       "      <td>3</td>\n",
       "      <td>1</td>\n",
       "    </tr>\n",
       "    <tr>\n",
       "      <th>2022-03-01</th>\n",
       "      <td>9</td>\n",
       "      <td>10</td>\n",
       "    </tr>\n",
       "    <tr>\n",
       "      <th>2021-11-01</th>\n",
       "      <td>6</td>\n",
       "      <td>10</td>\n",
       "    </tr>\n",
       "    <tr>\n",
       "      <th>2022-04-01</th>\n",
       "      <td>4</td>\n",
       "      <td>10</td>\n",
       "    </tr>\n",
       "  </tbody>\n",
       "</table>\n",
       "</div>"
      ],
      "text/plain": [
       "            net_payment_count  id\n",
       "month_id                         \n",
       "2022-10-01                  3   1\n",
       "2021-08-01                  3   1\n",
       "2022-03-01                  9  10\n",
       "2021-11-01                  6  10\n",
       "2022-04-01                  4  10"
      ]
     },
     "execution_count": 15,
     "metadata": {},
     "output_type": "execute_result"
    }
   ],
   "source": [
    "ts = pd.DataFrame({\"net_payment_count\":result['net_payment_count'],\n",
    "                  \"id\":result['id']\n",
    "                  })\n",
    "ts.head()"
   ]
  },
  {
   "cell_type": "code",
   "execution_count": 16,
   "metadata": {},
   "outputs": [
    {
     "data": {
      "text/plain": [
       "<Axes: xlabel='month_id'>"
      ]
     },
     "execution_count": 16,
     "metadata": {},
     "output_type": "execute_result"
    },
    {
     "data": {
      "image/png": "[encoded data removed]",
      "text/plain": [
       "<Figure size 1500x500 with 1 Axes>"
      ]
     },
     "metadata": {},
     "output_type": "display_data"
    }
   ],
   "source": [
    "ts.plot(figsize=(15,5))\n"
   ]
  },
  {
   "cell_type": "code",
   "execution_count": 17,
   "metadata": {},
   "outputs": [
    {
     "data": {
      "text/plain": [
       "DatetimeIndex(['2020-01-01', '2020-01-01', '2020-01-01', '2020-01-01',\n",
       "               '2020-01-01', '2020-01-01', '2020-01-01', '2020-01-01',\n",
       "               '2020-01-01', '2020-01-01',\n",
       "               ...\n",
       "               '2023-09-01', '2023-09-01', '2023-09-01', '2023-09-01',\n",
       "               '2023-09-01', '2023-09-01', '2023-09-01', '2023-09-01',\n",
       "               '2023-09-01', '2023-09-01'],\n",
       "              dtype='datetime64[ns]', name='month_id', length=291142, freq=None)"
      ]
     },
     "execution_count": 17,
     "metadata": {},
     "output_type": "execute_result"
    }
   ],
   "source": [
    "ts.index.sort_values()"
   ]
  },
  {
   "cell_type": "code",
   "execution_count": 18,
   "metadata": {},
   "outputs": [
    {
     "data": {
      "image/png": "[encoded data removed]",
      "text/plain": [
       "<Figure size 640x480 with 1 Axes>"
      ]
     },
     "metadata": {},
     "output_type": "display_data"
    }
   ],
   "source": [
    "def plot_merchant(ts, id):\n",
    "    data = ts[ts['id'] == id]\n",
    "    merchant_data = data.sort_values(by=['month_id'])\n",
    "\n",
    "    \n",
    "    ts_log = np.log(merchant_data['net_payment_count'])\n",
    "    moving_avg = ts_log.rolling(12).mean()\n",
    "    moving_std = ts_log.rolling(12).std()\n",
    "    #plt.plot(ts, color='red')\n",
    "    plt.plot(ts_log, label=f'Merchant ID: {id}')\n",
    "    plt.plot(moving_avg, color='red', label='Moving Average')\n",
    "    plt.plot(moving_std, color='yellow', label='Moving Std.')\n",
    "\n",
    "    plt.legend()\n",
    "    plt.xlabel('Month')\n",
    "    plt.ylabel('Net Payment Count')\n",
    "    plt.title('Zaman Serisi Grafiği')\n",
    "\n",
    "    plt.show()\n",
    "\n",
    "\n",
    "plot_merchant(ts,'9965')"
   ]
  },
  {
   "cell_type": "code",
   "execution_count": 43,
   "metadata": {},
   "outputs": [
    {
     "data": {
      "text/html": [
       "<div>\n",
       "<style scoped>\n",
       "    .dataframe tbody tr th:only-of-type {\n",
       "        vertical-align: middle;\n",
       "    }\n",
       "\n",
       "    .dataframe tbody tr th {\n",
       "        vertical-align: top;\n",
       "    }\n",
       "\n",
       "    .dataframe thead th {\n",
       "        text-align: right;\n",
       "    }\n",
       "</style>\n",
       "<table border=\"1\" class=\"dataframe\">\n",
       "  <thead>\n",
       "    <tr style=\"text-align: right;\">\n",
       "      <th></th>\n",
       "      <th>net_payment_count</th>\n",
       "      <th>id</th>\n",
       "    </tr>\n",
       "    <tr>\n",
       "      <th>month_id</th>\n",
       "      <th></th>\n",
       "      <th></th>\n",
       "    </tr>\n",
       "  </thead>\n",
       "  <tbody>\n",
       "    <tr>\n",
       "      <th>2021-03-01</th>\n",
       "      <td>28</td>\n",
       "      <td>10059</td>\n",
       "    </tr>\n",
       "    <tr>\n",
       "      <th>2021-11-01</th>\n",
       "      <td>3</td>\n",
       "      <td>10059</td>\n",
       "    </tr>\n",
       "    <tr>\n",
       "      <th>2021-05-01</th>\n",
       "      <td>4</td>\n",
       "      <td>10059</td>\n",
       "    </tr>\n",
       "    <tr>\n",
       "      <th>2021-06-01</th>\n",
       "      <td>8</td>\n",
       "      <td>10059</td>\n",
       "    </tr>\n",
       "    <tr>\n",
       "      <th>2021-04-01</th>\n",
       "      <td>11</td>\n",
       "      <td>10059</td>\n",
       "    </tr>\n",
       "    <tr>\n",
       "      <th>2021-07-01</th>\n",
       "      <td>3</td>\n",
       "      <td>10059</td>\n",
       "    </tr>\n",
       "  </tbody>\n",
       "</table>\n",
       "</div>"
      ],
      "text/plain": [
       "            net_payment_count     id\n",
       "month_id                            \n",
       "2021-03-01                 28  10059\n",
       "2021-11-01                  3  10059\n",
       "2021-05-01                  4  10059\n",
       "2021-06-01                  8  10059\n",
       "2021-04-01                 11  10059\n",
       "2021-07-01                  3  10059"
      ]
     },
     "execution_count": 43,
     "metadata": {},
     "output_type": "execute_result"
    }
   ],
   "source": [
    "data = ts[ts['id'] == '10059']\n",
    "merchant_data = data.sort_values(by=['month_id'])\n",
    "data\n",
    "ts_log = np.log(merchant_data['net_payment_count'])\n",
    "data\n"
   ]
  },
  {
   "cell_type": "code",
   "execution_count": 33,
   "metadata": {},
   "outputs": [
    {
     "name": "stderr",
     "output_type": "stream",
     "text": [
      "/Users/seydanurkayir/Library/Python/3.9/lib/python/site-packages/pmdarima/arima/_validation.py:62: UserWarning: m (12) set for non-seasonal fit. Setting to 0\n",
      "  warnings.warn(\"m (%i) set for non-seasonal fit. Setting to 0\" % m)\n"
     ]
    },
    {
     "name": "stdout",
     "output_type": "stream",
     "text": [
      "Performing stepwise search to minimize aic\n",
      " ARIMA(0,1,0)(0,0,0)[0] intercept   : AIC=78.486, Time=0.03 sec\n",
      " ARIMA(1,1,0)(0,0,0)[0] intercept   : AIC=80.067, Time=0.12 sec\n",
      " ARIMA(0,1,1)(0,0,0)[0] intercept   : AIC=79.195, Time=0.25 sec\n",
      " ARIMA(0,1,0)(0,0,0)[0]             : AIC=76.687, Time=0.01 sec\n",
      " ARIMA(1,1,1)(0,0,0)[0] intercept   : AIC=inf, Time=0.68 sec\n",
      "\n",
      "Best model:  ARIMA(0,1,0)(0,0,0)[0]          \n",
      "Total fit time: 1.121 seconds\n",
      "                               SARIMAX Results                                \n",
      "==============================================================================\n",
      "Dep. Variable:                      y   No. Observations:                   45\n",
      "Model:               SARIMAX(0, 1, 0)   Log Likelihood                 -37.344\n",
      "Date:                Sat, 10 Feb 2024   AIC                             76.687\n",
      "Time:                        22:09:31   BIC                             78.471\n",
      "Sample:                             0   HQIC                            77.349\n",
      "                                 - 45                                         \n",
      "Covariance Type:                  opg                                         \n",
      "==============================================================================\n",
      "                 coef    std err          z      P>|z|      [0.025      0.975]\n",
      "------------------------------------------------------------------------------\n",
      "sigma2         0.3197      0.042      7.536      0.000       0.237       0.403\n",
      "===================================================================================\n",
      "Ljung-Box (L1) (Q):                   0.43   Jarque-Bera (JB):                20.77\n",
      "Prob(Q):                              0.51   Prob(JB):                         0.00\n",
      "Heteroskedasticity (H):               0.60   Skew:                             0.78\n",
      "Prob(H) (two-sided):                  0.34   Kurtosis:                         5.98\n",
      "===================================================================================\n",
      "\n",
      "Warnings:\n",
      "[1] Covariance matrix calculated using the outer product of gradients (complex-step).\n"
     ]
    }
   ],
   "source": [
    "import pmdarima as pm\n",
    "\n",
    "model = pm.auto_arima(ts_log, \n",
    "                    m=12,               # frequency of series                      \n",
    "                    seasonal=False,  # TRUE if seasonal series\n",
    "                    d=None,             # let model determine 'd'\n",
    "                    test='adf',         # use adftest to find optimal 'd'\n",
    "                    start_p=0, start_q=0, # minimum p and q\n",
    "                    max_p=3, max_q=3,   # maximum p and q\n",
    "                    D=None,             # let model determine 'D'\n",
    "                    trace=True,\n",
    "                    error_action='ignore',  \n",
    "                    suppress_warnings=True, \n",
    "                    stepwise=True)\n",
    "print(model.summary())"
   ]
  },
  {
   "cell_type": "code",
   "execution_count": 41,
   "metadata": {},
   "outputs": [
    {
     "name": "stderr",
     "output_type": "stream",
     "text": [
      "/Users/seydanurkayir/Library/Python/3.9/lib/python/site-packages/statsmodels/tsa/base/tsa_model.py:471: ValueWarning: No frequency information was provided, so inferred frequency MS will be used.\n",
      "  self._init_dates(dates, freq)\n",
      "/Users/seydanurkayir/Library/Python/3.9/lib/python/site-packages/statsmodels/tsa/base/tsa_model.py:471: ValueWarning: No frequency information was provided, so inferred frequency MS will be used.\n",
      "  self._init_dates(dates, freq)\n",
      "/Users/seydanurkayir/Library/Python/3.9/lib/python/site-packages/statsmodels/tsa/base/tsa_model.py:471: ValueWarning: No frequency information was provided, so inferred frequency MS will be used.\n",
      "  self._init_dates(dates, freq)\n"
     ]
    },
    {
     "name": "stdout",
     "output_type": "stream",
     "text": [
      "Forecast for Merchant ID 33179:\n",
      "\n",
      "                 Forecast\n",
      "2023-10-01  543291.471902\n",
      "2023-11-01  581395.709094\n",
      "2023-12-01  561118.250807\n"
     ]
    },
    {
     "data": {
      "image/png": "[encoded data removed]",
      "text/plain": [
       "<Figure size 640x480 with 1 Axes>"
      ]
     },
     "metadata": {},
     "output_type": "display_data"
    }
   ],
   "source": [
    "def forecast_merchant(ts, merchant_id, forecast_periods=3):\n",
    "    data = ts[ts['id'] == merchant_id]\n",
    "    merchant_data = data.sort_values(by=['month_id'])\n",
    "\n",
    "    ts_log = np.log(merchant_data['net_payment_count'])\n",
    " \n",
    "    # ARIMA modelini oluşturun ve eğitin\n",
    "    model = sm.tsa.ARIMA(ts_log, order=(2, 1, 1))  \n",
    "    results_ARIMA = model.fit()\n",
    "\n",
    "    # Tahminleri alın\n",
    "    forecast = results_ARIMA.get_forecast(steps=forecast_periods)\n",
    "\n",
    "    # Tahminleri indeks ile eşleştirin\n",
    "    forecast_index = pd.date_range(start=ts_log.index[-1], periods=forecast_periods+1, freq='MS')[1:]\n",
    "    #forecast_index = forecast_index.strftime('%Y-%m')\n",
    "\n",
    "    forecast_values = np.exp(forecast.predicted_mean)\n",
    "    # Tahminleri DataFrame olarak oluşturun\n",
    "    forecast_df = pd.DataFrame({\n",
    "        'Forecast': forecast_values,\n",
    "    }, index=forecast_index)\n",
    "\n",
    "    # Tahminleri göster\n",
    "    print(f\"Forecast for Merchant ID {merchant_id}:\\n\")\n",
    "    print(forecast_df)\n",
    "\n",
    "    # Grafik üzerinde gösterim\n",
    "    plt.plot(merchant_data.net_payment_count, label=f'Merchant ID: {merchant_id}')\n",
    "    plt.plot(np.exp(results_ARIMA.fittedvalues), color='red', label='Fitted Values')\n",
    "    plt.plot(forecast_df, color='green', linestyle='--', label='Forecast')\n",
    "    plt.legend()\n",
    "    plt.xlabel('Month')\n",
    "    plt.ylabel('Net Payment Count')\n",
    "    plt.title('ARIMA Modeli Tahminleri')\n",
    "\n",
    "    plt.show()\n",
    "\n",
    "# Belirli bir 'id' için 3 aylık tahmin yapın\n",
    "forecast_merchant(ts, '33179', forecast_periods=3)"
   ]
  },
  {
   "cell_type": "code",
   "execution_count": null,
   "metadata": {},
   "outputs": [],
   "source": [
    "def forecast_merchant(ts, merchant_id, forecast_periods=3):\n",
    "    data = ts[ts['id'] == merchant_id]\n",
    "    merchant_data = data.sort_values(by=['month_id'])\n",
    "\n",
    "    ts_log = np.log(merchant_data['net_payment_count'])\n",
    "\n",
    "    # ARIMA modelini oluşturun ve eğitin\n",
    "    model = sm.tsa.ARIMA(ts_log, order=(2, 1, 1))  \n",
    "    results_ARIMA = model.fit()\n",
    "\n",
    "    # Tahminleri alın\n",
    "    forecast = results_ARIMA.get_forecast(steps=forecast_periods)\n",
    "\n",
    "    # Tahminleri indeks ile eşleştirin\n",
    "    forecast_index = pd.date_range(start=ts_log.index[-1], periods=forecast_periods+1, freq='MS')[1:]\n",
    "    #forecast_index = forecast_index.strftime('%Y-%m')\n",
    "\n",
    "    forecast_values = np.exp(forecast.predicted_mean)\n",
    "    # Tahminleri DataFrame olarak oluşturun\n",
    "    forecast_df = pd.DataFrame({\n",
    "        'Forecast': forecast_values,\n",
    "    }, index=forecast_index)\n",
    "\n",
    "    # Tahminleri göster\n",
    "    print(f\"Forecast for Merchant ID {merchant_id}:\\n\")\n",
    "    print(forecast_df)\n",
    "\n",
    "    # Grafik üzerinde gösterim\n",
    "    plt.plot(ts_log, label=f'Merchant ID: {merchant_id}')\n",
    "    plt.plot(np.exp(results_ARIMA.fittedvalues), color='red', label='Fitted Values')\n",
    "    plt.plot(forecast_df, color='green', linestyle='--', label='Forecast')\n",
    "    plt.legend()\n",
    "    plt.xlabel('Month')\n",
    "    plt.ylabel('Net Payment Count')\n",
    "    plt.title('ARIMA Modeli Tahminleri')\n",
    "\n",
    "    plt.show()\n",
    "\n",
    "# Belirli bir 'id' için 3 aylık tahmin yapın\n",
    "forecast_merchant(ts, '33179', forecast_periods=3)"
   ]
  },
  {
   "cell_type": "code",
   "execution_count": null,
   "metadata": {},
   "outputs": [],
   "source": [
    "merchant_data = ts[ts['id'] == '33179'].sort_values(by=['month_id'])\n",
    "merchant_data.head()\n"
   ]
  },
  {
   "cell_type": "code",
   "execution_count": 242,
   "metadata": {},
   "outputs": [
    {
     "name": "stderr",
     "output_type": "stream",
     "text": [
      "/Users/seydanurkayir/Library/Python/3.9/lib/python/site-packages/statsmodels/tsa/base/tsa_model.py:471: ValueWarning: An unsupported index was provided and will be ignored when e.g. forecasting.\n",
      "  self._init_dates(dates, freq)\n",
      "/Users/seydanurkayir/Library/Python/3.9/lib/python/site-packages/statsmodels/tsa/base/tsa_model.py:471: ValueWarning: An unsupported index was provided and will be ignored when e.g. forecasting.\n",
      "  self._init_dates(dates, freq)\n",
      "/Users/seydanurkayir/Library/Python/3.9/lib/python/site-packages/statsmodels/tsa/base/tsa_model.py:471: ValueWarning: An unsupported index was provided and will be ignored when e.g. forecasting.\n",
      "  self._init_dates(dates, freq)\n",
      "/Users/seydanurkayir/Library/Python/3.9/lib/python/site-packages/statsmodels/tsa/statespace/sarimax.py:866: UserWarning: Too few observations to estimate starting parameters for ARMA and trend. All parameters except for variances will be set to zeros.\n",
      "  warn('Too few observations to estimate starting parameters%s.'\n",
      "/Users/seydanurkayir/Library/Python/3.9/lib/python/site-packages/statsmodels/base/model.py:531: RuntimeWarning: invalid value encountered in scalar divide\n",
      "  return -self.loglike(params, *args) / nobs\n",
      "/Users/seydanurkayir/Library/Python/3.9/lib/python/site-packages/statsmodels/base/model.py:604: ConvergenceWarning: Maximum Likelihood optimization failed to converge. Check mle_retvals\n",
      "  warnings.warn(\"Maximum Likelihood optimization failed to \"\n"
     ]
    },
    {
     "ename": "KeyError",
     "evalue": "'The `end` argument could not be matched to a location related to the index of the data.'",
     "output_type": "error",
     "traceback": [
      "\u001b[0;31m---------------------------------------------------------------------------\u001b[0m",
      "\u001b[0;31mIndexError\u001b[0m                                Traceback (most recent call last)",
      "File \u001b[0;32m~/Library/Python/3.9/lib/python/site-packages/pandas/core/indexes/range.py:912\u001b[0m, in \u001b[0;36mRangeIndex.__getitem__\u001b[0;34m(self, key)\u001b[0m\n\u001b[1;32m    911\u001b[0m \u001b[39mtry\u001b[39;00m:\n\u001b[0;32m--> 912\u001b[0m     \u001b[39mreturn\u001b[39;00m \u001b[39mself\u001b[39;49m\u001b[39m.\u001b[39;49m_range[new_key]\n\u001b[1;32m    913\u001b[0m \u001b[39mexcept\u001b[39;00m \u001b[39mIndexError\u001b[39;00m \u001b[39mas\u001b[39;00m err:\n",
      "\u001b[0;31mIndexError\u001b[0m: range object index out of range",
      "\nThe above exception was the direct cause of the following exception:\n",
      "\u001b[0;31mIndexError\u001b[0m                                Traceback (most recent call last)",
      "File \u001b[0;32m~/Library/Python/3.9/lib/python/site-packages/statsmodels/tsa/base/tsa_model.py:182\u001b[0m, in \u001b[0;36mget_index_loc\u001b[0;34m(key, index)\u001b[0m\n\u001b[1;32m    181\u001b[0m \u001b[39mtry\u001b[39;00m:\n\u001b[0;32m--> 182\u001b[0m     index[key]\n\u001b[1;32m    183\u001b[0m \u001b[39m# We want to raise a KeyError in this case, to keep the exception\u001b[39;00m\n\u001b[1;32m    184\u001b[0m \u001b[39m# consistent across index types.\u001b[39;00m\n\u001b[1;32m    185\u001b[0m \u001b[39m# - Attempting to index with an out-of-bound location (e.g.\u001b[39;00m\n\u001b[0;32m   (...)\u001b[0m\n\u001b[1;32m    190\u001b[0m \u001b[39m#   index is RangeIndex (otherwise will raise an IndexError)\u001b[39;00m\n\u001b[1;32m    191\u001b[0m \u001b[39m#   (as of Pandas 0.22)\u001b[39;00m\n",
      "File \u001b[0;32m~/Library/Python/3.9/lib/python/site-packages/pandas/core/indexes/range.py:914\u001b[0m, in \u001b[0;36mRangeIndex.__getitem__\u001b[0;34m(self, key)\u001b[0m\n\u001b[1;32m    913\u001b[0m     \u001b[39mexcept\u001b[39;00m \u001b[39mIndexError\u001b[39;00m \u001b[39mas\u001b[39;00m err:\n\u001b[0;32m--> 914\u001b[0m         \u001b[39mraise\u001b[39;00m \u001b[39mIndexError\u001b[39;00m(\n\u001b[1;32m    915\u001b[0m             \u001b[39mf\u001b[39m\u001b[39m\"\u001b[39m\u001b[39mindex \u001b[39m\u001b[39m{\u001b[39;00mkey\u001b[39m}\u001b[39;00m\u001b[39m is out of bounds for axis 0 with size \u001b[39m\u001b[39m{\u001b[39;00m\u001b[39mlen\u001b[39m(\u001b[39mself\u001b[39m)\u001b[39m}\u001b[39;00m\u001b[39m\"\u001b[39m\n\u001b[1;32m    916\u001b[0m         ) \u001b[39mfrom\u001b[39;00m \u001b[39merr\u001b[39;00m\n\u001b[1;32m    917\u001b[0m \u001b[39melif\u001b[39;00m is_scalar(key):\n",
      "\u001b[0;31mIndexError\u001b[0m: index -1 is out of bounds for axis 0 with size 0",
      "\nDuring handling of the above exception, another exception occurred:\n",
      "\u001b[0;31mKeyError\u001b[0m                                  Traceback (most recent call last)",
      "File \u001b[0;32m~/Library/Python/3.9/lib/python/site-packages/statsmodels/tsa/base/tsa_model.py:367\u001b[0m, in \u001b[0;36mget_prediction_index\u001b[0;34m(start, end, nobs, base_index, index, silent, index_none, index_generated, data)\u001b[0m\n\u001b[1;32m    366\u001b[0m \u001b[39mtry\u001b[39;00m:\n\u001b[0;32m--> 367\u001b[0m     end, end_index, end_oos \u001b[39m=\u001b[39m get_index_label_loc(\n\u001b[1;32m    368\u001b[0m         end, base_index, data\u001b[39m.\u001b[39;49mrow_labels\n\u001b[1;32m    369\u001b[0m     )\n\u001b[1;32m    370\u001b[0m \u001b[39mexcept\u001b[39;00m \u001b[39mKeyError\u001b[39;00m:\n",
      "File \u001b[0;32m~/Library/Python/3.9/lib/python/site-packages/statsmodels/tsa/base/tsa_model.py:279\u001b[0m, in \u001b[0;36mget_index_label_loc\u001b[0;34m(key, index, row_labels)\u001b[0m\n\u001b[1;32m    278\u001b[0m     \u001b[39mexcept\u001b[39;00m:\n\u001b[0;32m--> 279\u001b[0m         \u001b[39mraise\u001b[39;00m e\n\u001b[1;32m    280\u001b[0m \u001b[39mreturn\u001b[39;00m loc, index, index_was_expanded\n",
      "File \u001b[0;32m~/Library/Python/3.9/lib/python/site-packages/statsmodels/tsa/base/tsa_model.py:243\u001b[0m, in \u001b[0;36mget_index_label_loc\u001b[0;34m(key, index, row_labels)\u001b[0m\n\u001b[1;32m    242\u001b[0m \u001b[39mtry\u001b[39;00m:\n\u001b[0;32m--> 243\u001b[0m     loc, index, index_was_expanded \u001b[39m=\u001b[39m get_index_loc(key, index)\n\u001b[1;32m    244\u001b[0m \u001b[39mexcept\u001b[39;00m \u001b[39mKeyError\u001b[39;00m \u001b[39mas\u001b[39;00m e:\n",
      "File \u001b[0;32m~/Library/Python/3.9/lib/python/site-packages/statsmodels/tsa/base/tsa_model.py:193\u001b[0m, in \u001b[0;36mget_index_loc\u001b[0;34m(key, index)\u001b[0m\n\u001b[1;32m    192\u001b[0m \u001b[39mexcept\u001b[39;00m (\u001b[39mIndexError\u001b[39;00m, \u001b[39mValueError\u001b[39;00m) \u001b[39mas\u001b[39;00m e:\n\u001b[0;32m--> 193\u001b[0m     \u001b[39mraise\u001b[39;00m \u001b[39mKeyError\u001b[39;00m(\u001b[39mstr\u001b[39m(e))\n\u001b[1;32m    194\u001b[0m loc \u001b[39m=\u001b[39m key\n",
      "\u001b[0;31mKeyError\u001b[0m: 'index -1 is out of bounds for axis 0 with size 0'",
      "\nDuring handling of the above exception, another exception occurred:\n",
      "\u001b[0;31mKeyError\u001b[0m                                  Traceback (most recent call last)",
      "Cell \u001b[0;32mIn[242], line 33\u001b[0m\n\u001b[1;32m     31\u001b[0m start_date \u001b[39m=\u001b[39m df_full_filled\u001b[39m.\u001b[39mindex[\u001b[39m-\u001b[39m\u001b[39m3\u001b[39m]  \u001b[39m# 2023'ün son 3 ayı\u001b[39;00m\n\u001b[1;32m     32\u001b[0m end_date \u001b[39m=\u001b[39m df_full_filled\u001b[39m.\u001b[39mindex[\u001b[39m-\u001b[39m\u001b[39m1\u001b[39m]\n\u001b[0;32m---> 33\u001b[0m predictions \u001b[39m=\u001b[39m results_ARIMA\u001b[39m.\u001b[39;49mget_forecast(steps\u001b[39m=\u001b[39;49m\u001b[39mlen\u001b[39;49m(ts_log_diff))\n\u001b[1;32m     34\u001b[0m y_pred_df \u001b[39m=\u001b[39m predictions\u001b[39m.\u001b[39mconf_int(alpha\u001b[39m=\u001b[39m\u001b[39m0.05\u001b[39m)\n\u001b[1;32m     35\u001b[0m y_pred_df[\u001b[39m\"\u001b[39m\u001b[39mPredictions\u001b[39m\u001b[39m\"\u001b[39m] \u001b[39m=\u001b[39m results_ARIMA\u001b[39m.\u001b[39mpredict(start\u001b[39m=\u001b[39mstart_date, end\u001b[39m=\u001b[39mend_date)\n",
      "File \u001b[0;32m~/Library/Python/3.9/lib/python/site-packages/statsmodels/tsa/statespace/mlemodel.py:3354\u001b[0m, in \u001b[0;36mMLEResults.get_forecast\u001b[0;34m(self, steps, **kwargs)\u001b[0m\n\u001b[1;32m   3352\u001b[0m \u001b[39melse\u001b[39;00m:\n\u001b[1;32m   3353\u001b[0m     end \u001b[39m=\u001b[39m steps\n\u001b[0;32m-> 3354\u001b[0m \u001b[39mreturn\u001b[39;00m \u001b[39mself\u001b[39;49m\u001b[39m.\u001b[39;49mget_prediction(start\u001b[39m=\u001b[39;49m\u001b[39mself\u001b[39;49m\u001b[39m.\u001b[39;49mnobs, end\u001b[39m=\u001b[39;49mend, \u001b[39m*\u001b[39;49m\u001b[39m*\u001b[39;49mkwargs)\n",
      "File \u001b[0;32m~/Library/Python/3.9/lib/python/site-packages/statsmodels/tsa/statespace/mlemodel.py:3287\u001b[0m, in \u001b[0;36mMLEResults.get_prediction\u001b[0;34m(self, start, end, dynamic, index, exog, extend_model, extend_kwargs, **kwargs)\u001b[0m\n\u001b[1;32m   3283\u001b[0m     start \u001b[39m=\u001b[39m \u001b[39m0\u001b[39m\n\u001b[1;32m   3285\u001b[0m \u001b[39m# Handle start, end, dynamic\u001b[39;00m\n\u001b[1;32m   3286\u001b[0m start, end, out_of_sample, prediction_index \u001b[39m=\u001b[39m (\n\u001b[0;32m-> 3287\u001b[0m     \u001b[39mself\u001b[39;49m\u001b[39m.\u001b[39;49mmodel\u001b[39m.\u001b[39;49m_get_prediction_index(start, end, index))\n\u001b[1;32m   3289\u001b[0m \u001b[39m# Handle `dynamic`\u001b[39;00m\n\u001b[1;32m   3290\u001b[0m \u001b[39mif\u001b[39;00m \u001b[39misinstance\u001b[39m(dynamic, (\u001b[39mstr\u001b[39m, dt\u001b[39m.\u001b[39mdatetime, pd\u001b[39m.\u001b[39mTimestamp)):\n",
      "File \u001b[0;32m~/Library/Python/3.9/lib/python/site-packages/statsmodels/tsa/base/tsa_model.py:834\u001b[0m, in \u001b[0;36mTimeSeriesModel._get_prediction_index\u001b[0;34m(self, start, end, index, silent)\u001b[0m\n\u001b[1;32m    778\u001b[0m \u001b[39m\u001b[39m\u001b[39m\"\"\"\u001b[39;00m\n\u001b[1;32m    779\u001b[0m \u001b[39mGet the location of a specific key in an index or model row labels\u001b[39;00m\n\u001b[1;32m    780\u001b[0m \n\u001b[0;32m   (...)\u001b[0m\n\u001b[1;32m    831\u001b[0m \u001b[39msince we have required them to be full indexes, there is no ambiguity).\u001b[39;00m\n\u001b[1;32m    832\u001b[0m \u001b[39m\"\"\"\u001b[39;00m\n\u001b[1;32m    833\u001b[0m nobs \u001b[39m=\u001b[39m \u001b[39mlen\u001b[39m(\u001b[39mself\u001b[39m\u001b[39m.\u001b[39mendog)\n\u001b[0;32m--> 834\u001b[0m \u001b[39mreturn\u001b[39;00m get_prediction_index(\n\u001b[1;32m    835\u001b[0m     start,\n\u001b[1;32m    836\u001b[0m     end,\n\u001b[1;32m    837\u001b[0m     nobs,\n\u001b[1;32m    838\u001b[0m     base_index\u001b[39m=\u001b[39;49m\u001b[39mself\u001b[39;49m\u001b[39m.\u001b[39;49m_index,\n\u001b[1;32m    839\u001b[0m     index\u001b[39m=\u001b[39;49mindex,\n\u001b[1;32m    840\u001b[0m     silent\u001b[39m=\u001b[39;49msilent,\n\u001b[1;32m    841\u001b[0m     index_none\u001b[39m=\u001b[39;49m\u001b[39mself\u001b[39;49m\u001b[39m.\u001b[39;49m_index_none,\n\u001b[1;32m    842\u001b[0m     index_generated\u001b[39m=\u001b[39;49m\u001b[39mself\u001b[39;49m\u001b[39m.\u001b[39;49m_index_generated,\n\u001b[1;32m    843\u001b[0m     data\u001b[39m=\u001b[39;49m\u001b[39mself\u001b[39;49m\u001b[39m.\u001b[39;49mdata,\n\u001b[1;32m    844\u001b[0m )\n",
      "File \u001b[0;32m~/Library/Python/3.9/lib/python/site-packages/statsmodels/tsa/base/tsa_model.py:371\u001b[0m, in \u001b[0;36mget_prediction_index\u001b[0;34m(start, end, nobs, base_index, index, silent, index_none, index_generated, data)\u001b[0m\n\u001b[1;32m    367\u001b[0m     end, end_index, end_oos \u001b[39m=\u001b[39m get_index_label_loc(\n\u001b[1;32m    368\u001b[0m         end, base_index, data\u001b[39m.\u001b[39mrow_labels\n\u001b[1;32m    369\u001b[0m     )\n\u001b[1;32m    370\u001b[0m \u001b[39mexcept\u001b[39;00m \u001b[39mKeyError\u001b[39;00m:\n\u001b[0;32m--> 371\u001b[0m     \u001b[39mraise\u001b[39;00m \u001b[39mKeyError\u001b[39;00m(\n\u001b[1;32m    372\u001b[0m         \u001b[39m\"\u001b[39m\u001b[39mThe `end` argument could not be matched to a\u001b[39m\u001b[39m\"\u001b[39m\n\u001b[1;32m    373\u001b[0m         \u001b[39m\"\u001b[39m\u001b[39m location related to the index of the data.\u001b[39m\u001b[39m\"\u001b[39m\n\u001b[1;32m    374\u001b[0m     )\n\u001b[1;32m    376\u001b[0m \u001b[39m# Handle slices (if the given index keys cover more than one date)\u001b[39;00m\n\u001b[1;32m    377\u001b[0m \u001b[39mif\u001b[39;00m \u001b[39misinstance\u001b[39m(start, \u001b[39mslice\u001b[39m):\n",
      "\u001b[0;31mKeyError\u001b[0m: 'The `end` argument could not be matched to a location related to the index of the data.'"
     ]
    },
    {
     "data": {
      "image/png": "[encoded data removed]",
      "text/plain": [
       "<Figure size 640x480 with 1 Axes>"
      ]
     },
     "metadata": {},
     "output_type": "display_data"
    }
   ],
   "source": [
    "forecast_periods=3\n",
    "# Tüm ayları içeren bir zaman serisi oluşturun\n",
    "#full_date_range = pd.date_range(start='2020-01-01', end='2023-07-01', freq='MS')\n",
    "forecast_index = pd.date_range(start=ts_log.index[-1], periods=forecast_periods+1, freq='MS')[1:]\n",
    "\n",
    "full_ts = pd.DataFrame(index=forecast_index)\n",
    "\n",
    "# Veri setini aylık olarak birleştirin\n",
    "df_full = full_ts.merge(ts, how='left', left_index=True, right_index=True)\n",
    "\n",
    "# Eksik verileri doldurun (örneğin, forward fill)\n",
    "df_full_filled = df_full.ffill()\n",
    "\n",
    "# Belirli bir 'id' için veriyi seçin\n",
    "merchant_id = 33179\n",
    "merchant_data = df_full_filled[df_full_filled['id'] == merchant_id]\n",
    "\n",
    "# Log dönüşümü yapın\n",
    "ts_log = np.log(merchant_data['net_payment_count'])\n",
    "\n",
    "# İlk farkı alın (differencing)\n",
    "ts_log_diff = ts_log - ts_log.shift()\n",
    "plt.plot(ts_log_diff)\n",
    "ts_log_diff.dropna(inplace=True)\n",
    "\n",
    "# ARIMA modelini oluşturun ve eğitin\n",
    "model = sm.tsa.ARIMA(ts_log, order=(0, 1, 1))\n",
    "results_ARIMA = model.fit()\n",
    "\n",
    "# Tahminleri alın\n",
    "start_date = df_full_filled.index[-3]  # 2023'ün son 3 ayı\n",
    "end_date = df_full_filled.index[-1]\n",
    "predictions = results_ARIMA.get_forecast(steps=len(ts_log_diff))\n",
    "y_pred_df = predictions.conf_int(alpha=0.05)\n",
    "y_pred_df[\"Predictions\"] = results_ARIMA.predict(start=start_date, end=end_date)\n",
    "\n",
    "# Tahminleri indeks ile eşleştirin\n",
    "y_pred_df.index = ts_log.index[1:]  # Fark aldığımız için birinci indeksi atladık\n",
    "y_pred_out = np.exp(y_pred_df[\"Predictions\"])  # Eğer log dönüşümü uygulandıysa, orijinal ölçekteki değerlere çevirin\n",
    "\n",
    "# Tahminleri DataFrame olarak oluşturun\n",
    "prediction_df = pd.DataFrame({\n",
    "    'Actual_Data': df_full_filled[df_full_filled['id'] == merchant_id]['net_payment_count'][-3:].values\n",
    "}, index=ts_log.index[-3:])\n",
    "\n",
    "# Tahminleri göster\n",
    "print(prediction_df)"
   ]
  },
  {
   "cell_type": "code",
   "execution_count": 227,
   "metadata": {},
   "outputs": [
    {
     "name": "stdout",
     "output_type": "stream",
     "text": [
      "Performing stepwise search to minimize aic\n",
      " ARIMA(0,1,0)(1,0,1)[12] intercept   : AIC=1257.380, Time=0.26 sec\n",
      " ARIMA(0,1,0)(0,0,0)[12] intercept   : AIC=1255.136, Time=0.01 sec\n",
      " ARIMA(1,1,0)(1,0,0)[12] intercept   : AIC=1249.738, Time=0.07 sec\n",
      " ARIMA(0,1,1)(0,0,1)[12] intercept   : AIC=1233.400, Time=0.06 sec\n",
      " ARIMA(0,1,0)(0,0,0)[12]             : AIC=1253.184, Time=0.01 sec\n",
      " ARIMA(0,1,1)(0,0,0)[12] intercept   : AIC=1231.933, Time=0.11 sec\n",
      " ARIMA(0,1,1)(1,0,0)[12] intercept   : AIC=1233.045, Time=0.21 sec\n",
      " ARIMA(0,1,1)(1,0,1)[12] intercept   : AIC=inf, Time=0.47 sec\n",
      " ARIMA(1,1,1)(0,0,0)[12] intercept   : AIC=1233.959, Time=0.12 sec\n",
      " ARIMA(0,1,2)(0,0,0)[12] intercept   : AIC=1236.198, Time=0.28 sec\n",
      " ARIMA(1,1,0)(0,0,0)[12] intercept   : AIC=1248.102, Time=0.04 sec\n",
      " ARIMA(1,1,2)(0,0,0)[12] intercept   : AIC=1234.853, Time=0.11 sec\n",
      " ARIMA(0,1,1)(0,0,0)[12]             : AIC=1227.227, Time=0.02 sec\n",
      " ARIMA(0,1,1)(1,0,0)[12]             : AIC=1228.777, Time=0.10 sec\n",
      " ARIMA(0,1,1)(0,0,1)[12]             : AIC=1228.749, Time=0.08 sec\n",
      " ARIMA(0,1,1)(1,0,1)[12]             : AIC=1230.746, Time=0.10 sec\n",
      " ARIMA(1,1,1)(0,0,0)[12]             : AIC=1229.149, Time=0.06 sec\n",
      " ARIMA(0,1,2)(0,0,0)[12]             : AIC=1229.747, Time=0.06 sec\n",
      " ARIMA(1,1,0)(0,0,0)[12]             : AIC=1246.142, Time=0.02 sec\n",
      " ARIMA(1,1,2)(0,0,0)[12]             : AIC=1230.161, Time=0.05 sec\n",
      "\n",
      "Best model:  ARIMA(0,1,1)(0,0,0)[12]          \n",
      "Total fit time: 2.388 seconds\n",
      "                               SARIMAX Results                                \n",
      "==============================================================================\n",
      "Dep. Variable:                      y   No. Observations:                   45\n",
      "Model:               SARIMAX(0, 1, 1)   Log Likelihood                -611.613\n",
      "Date:                Tue, 06 Feb 2024   AIC                           1227.227\n",
      "Time:                        17:02:03   BIC                           1230.795\n",
      "Sample:                             0   HQIC                          1228.550\n",
      "                                 - 45                                         \n",
      "Covariance Type:                  opg                                         \n",
      "==============================================================================\n",
      "                 coef    std err          z      P>|z|      [0.025      0.975]\n",
      "------------------------------------------------------------------------------\n",
      "ma.L1         -0.9800      0.294     -3.328      0.001      -1.557      -0.403\n",
      "sigma2      8.313e+10   2.21e-12   3.75e+22      0.000    8.31e+10    8.31e+10\n",
      "===================================================================================\n",
      "Ljung-Box (L1) (Q):                   0.13   Jarque-Bera (JB):                 4.75\n",
      "Prob(Q):                              0.72   Prob(JB):                         0.09\n",
      "Heteroskedasticity (H):               1.33   Skew:                             0.71\n",
      "Prob(H) (two-sided):                  0.59   Kurtosis:                         2.25\n",
      "===================================================================================\n",
      "\n",
      "Warnings:\n",
      "[1] Covariance matrix calculated using the outer product of gradients (complex-step).\n",
      "[2] Covariance matrix is singular or near-singular, with condition number    inf. Standard errors may be unstable.\n"
     ]
    }
   ],
   "source": [
    "from statsmodels.tsa.arima_model import ARIMA\n",
    "import pmdarima as pm\n",
    "\n",
    "merchant_data = ts[ts['id'] == '33179']\n",
    "\n",
    "data = merchant_data['net_payment_count']\n",
    "seasonal = True\n",
    "\n",
    "model = pm.auto_arima(data, \n",
    "                      m=12,               # frequency of series                      \n",
    "                      seasonal=seasonal,  # TRUE if seasonal series\n",
    "                      d=None,             # let model determine 'd'\n",
    "                      test='adf',         # use adftest to find optimal 'd'\n",
    "                      start_p=0, start_q=0, # minimum p and q\n",
    "                      max_p=3, max_q=3,   # maximum p and q\n",
    "                      D=None,             # let model determine 'D'\n",
    "                      trace=True,\n",
    "                      error_action='ignore',  \n",
    "                      suppress_warnings=True, \n",
    "                      stepwise=True)\n",
    "\n",
    "#print model summary\n",
    "print(model.summary())"
   ]
  },
  {
   "cell_type": "code",
   "execution_count": null,
   "metadata": {},
   "outputs": [],
   "source": [
    "model.summary()\n"
   ]
  },
  {
   "cell_type": "code",
   "execution_count": 236,
   "metadata": {},
   "outputs": [
    {
     "name": "stderr",
     "output_type": "stream",
     "text": [
      "/Users/seydanurkayir/Library/Python/3.9/lib/python/site-packages/pandas/core/indexes/base.py:911: RuntimeWarning: divide by zero encountered in log\n",
      "  result = getattr(ufunc, method)(*new_inputs, **kwargs)\n"
     ]
    },
    {
     "ename": "AttributeError",
     "evalue": "module 'pandas' has no attribute 'rolling_mean'",
     "output_type": "error",
     "traceback": [
      "\u001b[0;31m---------------------------------------------------------------------------\u001b[0m",
      "\u001b[0;31mAttributeError\u001b[0m                            Traceback (most recent call last)",
      "Cell \u001b[0;32mIn[236], line 11\u001b[0m\n\u001b[1;32m      8\u001b[0m plt\u001b[39m.\u001b[39mplot(TS_log)\n\u001b[1;32m     10\u001b[0m \u001b[39m#In this approach, we take average of ‘k’ consecutive values depending on the frequency of time series. Here we can take the average over the past 1 year, i.e. last 12 values. Pandas has specific functions defined for determining rolling statistics.\u001b[39;00m\n\u001b[0;32m---> 11\u001b[0m moving_avg \u001b[39m=\u001b[39m pd\u001b[39m.\u001b[39;49mrolling_mean(TS_log,\u001b[39m12\u001b[39m)\n\u001b[1;32m     12\u001b[0m plt\u001b[39m.\u001b[39mplot(TS_log)\n\u001b[1;32m     13\u001b[0m plt\u001b[39m.\u001b[39mplot(moving_avg, color\u001b[39m=\u001b[39m\u001b[39m'\u001b[39m\u001b[39mred\u001b[39m\u001b[39m'\u001b[39m)\n",
      "\u001b[0;31mAttributeError\u001b[0m: module 'pandas' has no attribute 'rolling_mean'"
     ]
    },
    {
     "data": {
      "image/png": "[encoded data removed]",
      "text/plain": [
       "<Figure size 640x480 with 1 Axes>"
      ]
     },
     "metadata": {},
     "output_type": "display_data"
    }
   ],
   "source": [
    "\n",
    "#This block worked as expected and created a simple time series'able data frame for me\n",
    "ts_TS = ts.index\n",
    "\n",
    "#tested for stationarity (it was not stationary). not including code for brevity\n",
    "\n",
    "#There is clearly an upward trend in the line chart, which breaks stationarity rules. So lets transform with log\n",
    "TS_log = np.log(ts_TS)\n",
    "plt.plot(TS_log)\n",
    "\n",
    "#In this approach, we take average of ‘k’ consecutive values depending on the frequency of time series. Here we can take the average over the past 1 year, i.e. last 12 values. Pandas has specific functions defined for determining rolling statistics.\n",
    "moving_avg = pd.rolling_mean(TS_log,12)\n",
    "plt.plot(TS_log)\n",
    "plt.plot(moving_avg, color='red')\n",
    "\n",
    "#The red line above shows the rolling mean. Lets subtract this from the original series. Note that since we are taking average of last 12 values, rolling mean is not defined for first 11 values\n",
    "homepriceTS_log_moving_avg_diff = TS_log - moving_avg\n",
    "homepriceTS_log_moving_avg_diff.head(n=12)\n",
    "\n",
    "#Drop the first 11 NaN rows since we chose a 12 month roll. Then we'll test for stationarity again.\n",
    "homepriceTS_log_moving_avg_diff.dropna(inplace=True)\n",
    "homepriceTS_log_moving_avg_diff.head()\n",
    "\n",
    "#tested for stationarity again. It was much better, so I'll go with it.\n",
    "\n",
    "homepriceTS_log_diff = TS_log - TS_log.shift()\n",
    "plt.plot(homepriceTS_log_diff)\n",
    "\n",
    "#ACF and PACF plots:\n",
    "from statsmodels.tsa.stattools import acf, pacf\n",
    "\n",
    "# I wanted to use method = 'ols'... but it just kept throwing me errors so I gave up and used 'yw' (not even sure if that makes sense to do in this case)\n",
    "lag_acf = acf(homepriceTS_log_diff, nlags=12)\n",
    "lag_pacf = pacf(homepriceTS_log_diff, nlags=12, method='yw')"
   ]
  },
  {
   "cell_type": "code",
   "execution_count": null,
   "metadata": {},
   "outputs": [],
   "source": [
    "prediction, confint = model.predict(n_periods=TEST_SIZE, return_conf_int=True)\n",
    "\n",
    "prediction"
   ]
  },
  {
   "cell_type": "code",
   "execution_count": null,
   "metadata": {},
   "outputs": [],
   "source": [
    "\n",
    "model = sm.tsa.arima.ARIMA(ts_log, order=(0, 1, 1))  \n",
    "results_ARIMA = model.fit()  \n",
    "plt.plot(ts_log_diff)\n",
    "plt.plot(results_ARIMA.fittedvalues, color='red')\n",
    "plt.title('RSS: %.4f'% sum((results_ARIMA.fittedvalues-ts_log_diff)**2))"
   ]
  },
  {
   "cell_type": "code",
   "execution_count": null,
   "metadata": {},
   "outputs": [],
   "source": [
    "\n",
    "y_pred = results_ARIMA.get_forecast(steps = 3)\n",
    "#forecast = forecast_result.predicted_mean\n",
    "y_pred"
   ]
  },
  {
   "cell_type": "markdown",
   "metadata": {},
   "source": []
  },
  {
   "cell_type": "markdown",
   "metadata": {},
   "source": []
  },
  {
   "cell_type": "code",
   "execution_count": null,
   "metadata": {},
   "outputs": [],
   "source": [
    "#y_pred = model.get_forecast(len(ts.index))\n",
    "y_pred_df = y_pred.conf_int(alpha = 0.05) \n",
    "y_pred_df[\"Predictions\"] = results_ARIMA.predict(start = y_pred_df.index[0], end = y_pred_df.index[-1])\n",
    "y_pred_df.index = ts.index\n",
    "y_pred_out = y_pred_df[\"Predictions\"] \n",
    "plt.plot(y_pred_out, color='Yellow', label = 'ARIMA Predictions')\n",
    "plt.legend()"
   ]
  },
  {
   "cell_type": "code",
   "execution_count": null,
   "metadata": {},
   "outputs": [],
   "source": [
    "# İlk farkı alalım (differencing)\n",
    "ts_log_diff = ts_log.diff().dropna()\n",
    "\n",
    "# ARIMA modelini oluşturun ve eğitin\n",
    "model = sm.tsa.ARIMA(ts_log, order=(0, 1, 1))\n",
    "results_ARIMA = model.fit()\n",
    "\n",
    "# Tahminleri alın\n",
    "y_pred = results_ARIMA.get_forecast(steps=len(ts_log_diff))\n",
    "y_pred_df = y_pred.conf_int(alpha=0.05)\n",
    "y_pred_df[\"Predictions\"] = results_ARIMA.predict(start=y_pred_df.index[0], end=y_pred_df.index[-1])\n",
    "\n",
    "# Tahminleri indeks ile eşleştirin\n",
    "y_pred_df.index = ts_log.index[1:]  # Fark aldığımız için birinci indeksi atladık\n",
    "y_pred_out = np.exp(y_pred_df[\"Predictions\"])  # Eğer log dönüşümü uygulandıysa, orijinal ölçekteki değerlere çevirin\n",
    "\n",
    "# Grafik çizimi\n",
    "plt.plot(ts, label='Actual Data')\n",
    "plt.plot(y_pred_out, color='yellow', label='ARIMA Predictions')\n",
    "plt.legend()\n",
    "plt.show()"
   ]
  },
  {
   "cell_type": "code",
   "execution_count": null,
   "metadata": {},
   "outputs": [],
   "source": [
    "y_pred_df[\"Predictions\"]"
   ]
  },
  {
   "cell_type": "code",
   "execution_count": null,
   "metadata": {},
   "outputs": [],
   "source": [
    "y_pred_df"
   ]
  },
  {
   "cell_type": "code",
   "execution_count": null,
   "metadata": {},
   "outputs": [],
   "source": [
    "print(ts_log.index)\n"
   ]
  },
  {
   "cell_type": "code",
   "execution_count": null,
   "metadata": {},
   "outputs": [],
   "source": [
    "predictions_ARIMA_diff = pd.Series(results_ARIMA.fittedvalues, copy=True)\n",
    "\n",
    "\n",
    "predictions_ARIMA_diff_cumsum = predictions_ARIMA_diff.cumsum()"
   ]
  },
  {
   "cell_type": "code",
   "execution_count": null,
   "metadata": {},
   "outputs": [],
   "source": []
  },
  {
   "cell_type": "code",
   "execution_count": null,
   "metadata": {},
   "outputs": [],
   "source": [
    "dategroup=ts.groupby(ts.index).mean()\n",
    "plt.figure(figsize=(12,5))\n",
    "dategroup['net_payment_count'].plot(x=ts.index)\n",
    "plt.title('Time Series')"
   ]
  },
  {
   "cell_type": "code",
   "execution_count": null,
   "metadata": {},
   "outputs": [],
   "source": []
  }
 ],
 "metadata": {
  "kernelspec": {
   "display_name": "Python 3",
   "language": "python",
   "name": "python3"
  },
  "language_info": {
   "codemirror_mode": {
    "name": "ipython",
    "version": 3
   },
   "file_extension": ".py",
   "mimetype": "text/x-python",
   "name": "python",
   "nbconvert_exporter": "python",
   "pygments_lexer": "ipython3",
   "version": "3.9.6"
  },
  "orig_nbformat": 4
 },
 "nbformat": 4,
 "nbformat_minor": 2
}
