{
 "cells": [
  {
   "cell_type": "code",
   "execution_count": 259,
   "metadata": {},
   "outputs": [],
   "source": [
    "import pandas as pd\n",
    "import numpy as np\n",
    "import matplotlib.pyplot as plt\n",
    "import seaborn as sns\n",
    "from datetime import datetime\n",
    "import statsmodels.api as sm\n",
    "from statsmodels.tsa.arima_model import ARIMA       \n"
   ]
  },
  {
   "cell_type": "code",
   "execution_count": 202,
   "metadata": {},
   "outputs": [
    {
     "data": {
      "text/html": [
       "<div>\n",
       "<style scoped>\n",
       "    .dataframe tbody tr th:only-of-type {\n",
       "        vertical-align: middle;\n",
       "    }\n",
       "\n",
       "    .dataframe tbody tr th {\n",
       "        vertical-align: top;\n",
       "    }\n",
       "\n",
       "    .dataframe thead th {\n",
       "        text-align: right;\n",
       "    }\n",
       "</style>\n",
       "<table border=\"1\" class=\"dataframe\">\n",
       "  <thead>\n",
       "    <tr style=\"text-align: right;\">\n",
       "      <th></th>\n",
       "      <th>merchant_id</th>\n",
       "      <th>month_id</th>\n",
       "      <th>merchant_source_name</th>\n",
       "      <th>settlement_period</th>\n",
       "      <th>working_type</th>\n",
       "      <th>mcc_id</th>\n",
       "      <th>merchant_segment</th>\n",
       "      <th>net_payment_count</th>\n",
       "    </tr>\n",
       "  </thead>\n",
       "  <tbody>\n",
       "    <tr>\n",
       "      <th>0</th>\n",
       "      <td>merchant_43992</td>\n",
       "      <td>202307</td>\n",
       "      <td>Merchant Source - 3</td>\n",
       "      <td>Settlement Period - 3</td>\n",
       "      <td>Working Type - 2</td>\n",
       "      <td>mcc_197</td>\n",
       "      <td>Segment - 2</td>\n",
       "      <td>15106</td>\n",
       "    </tr>\n",
       "    <tr>\n",
       "      <th>1</th>\n",
       "      <td>merchant_43992</td>\n",
       "      <td>202301</td>\n",
       "      <td>Merchant Source - 3</td>\n",
       "      <td>Settlement Period - 3</td>\n",
       "      <td>Working Type - 2</td>\n",
       "      <td>mcc_197</td>\n",
       "      <td>Segment - 2</td>\n",
       "      <td>16918</td>\n",
       "    </tr>\n",
       "    <tr>\n",
       "      <th>2</th>\n",
       "      <td>merchant_43992</td>\n",
       "      <td>202305</td>\n",
       "      <td>Merchant Source - 3</td>\n",
       "      <td>Settlement Period - 3</td>\n",
       "      <td>Working Type - 2</td>\n",
       "      <td>mcc_197</td>\n",
       "      <td>Segment - 2</td>\n",
       "      <td>13452</td>\n",
       "    </tr>\n",
       "    <tr>\n",
       "      <th>3</th>\n",
       "      <td>merchant_43992</td>\n",
       "      <td>202308</td>\n",
       "      <td>Merchant Source - 3</td>\n",
       "      <td>Settlement Period - 3</td>\n",
       "      <td>Working Type - 2</td>\n",
       "      <td>mcc_197</td>\n",
       "      <td>Segment - 2</td>\n",
       "      <td>16787</td>\n",
       "    </tr>\n",
       "    <tr>\n",
       "      <th>4</th>\n",
       "      <td>merchant_43992</td>\n",
       "      <td>202302</td>\n",
       "      <td>Merchant Source - 3</td>\n",
       "      <td>Settlement Period - 3</td>\n",
       "      <td>Working Type - 2</td>\n",
       "      <td>mcc_197</td>\n",
       "      <td>Segment - 2</td>\n",
       "      <td>12428</td>\n",
       "    </tr>\n",
       "  </tbody>\n",
       "</table>\n",
       "</div>"
      ],
      "text/plain": [
       "      merchant_id  month_id merchant_source_name      settlement_period   \n",
       "0  merchant_43992    202307  Merchant Source - 3  Settlement Period - 3  \\\n",
       "1  merchant_43992    202301  Merchant Source - 3  Settlement Period - 3   \n",
       "2  merchant_43992    202305  Merchant Source - 3  Settlement Period - 3   \n",
       "3  merchant_43992    202308  Merchant Source - 3  Settlement Period - 3   \n",
       "4  merchant_43992    202302  Merchant Source - 3  Settlement Period - 3   \n",
       "\n",
       "       working_type   mcc_id merchant_segment  net_payment_count  \n",
       "0  Working Type - 2  mcc_197      Segment - 2              15106  \n",
       "1  Working Type - 2  mcc_197      Segment - 2              16918  \n",
       "2  Working Type - 2  mcc_197      Segment - 2              13452  \n",
       "3  Working Type - 2  mcc_197      Segment - 2              16787  \n",
       "4  Working Type - 2  mcc_197      Segment - 2              12428  "
      ]
     },
     "execution_count": 202,
     "metadata": {},
     "output_type": "execute_result"
    }
   ],
   "source": [
    "train = pd.read_csv(\"/Users/seydanurkayir/Desktop/iyzico-datathon/train.csv\")\n",
    "train.head()"
   ]
  },
  {
   "cell_type": "code",
   "execution_count": null,
   "metadata": {},
   "outputs": [],
   "source": [
    "#train = pd.read_csv(\"/Users/seydanurkayir/Desktop/iyzico-datathon/train.csv\", parse_dates=['month_id'], index_col='month_id',)\n"
   ]
  },
  {
   "cell_type": "code",
   "execution_count": 203,
   "metadata": {},
   "outputs": [
    {
     "data": {
      "text/html": [
       "<div>\n",
       "<style scoped>\n",
       "    .dataframe tbody tr th:only-of-type {\n",
       "        vertical-align: middle;\n",
       "    }\n",
       "\n",
       "    .dataframe tbody tr th {\n",
       "        vertical-align: top;\n",
       "    }\n",
       "\n",
       "    .dataframe thead th {\n",
       "        text-align: right;\n",
       "    }\n",
       "</style>\n",
       "<table border=\"1\" class=\"dataframe\">\n",
       "  <thead>\n",
       "    <tr style=\"text-align: right;\">\n",
       "      <th></th>\n",
       "      <th>id</th>\n",
       "      <th>net_payment_count</th>\n",
       "    </tr>\n",
       "  </thead>\n",
       "  <tbody>\n",
       "    <tr>\n",
       "      <th>0</th>\n",
       "      <td>202311merchant_36004</td>\n",
       "      <td>0</td>\n",
       "    </tr>\n",
       "  </tbody>\n",
       "</table>\n",
       "</div>"
      ],
      "text/plain": [
       "                     id  net_payment_count\n",
       "0  202311merchant_36004                  0"
      ]
     },
     "execution_count": 203,
     "metadata": {},
     "output_type": "execute_result"
    }
   ],
   "source": [
    "sub = pd.read_csv(\"/Users/seydanurkayir/Desktop/iyzico-datathon/sample_submission.csv\")\n",
    "sub.head(1)"
   ]
  },
  {
   "cell_type": "code",
   "execution_count": 204,
   "metadata": {},
   "outputs": [
    {
     "name": "stdout",
     "output_type": "stream",
     "text": [
      "<class 'pandas.core.frame.DataFrame'>\n",
      "Index: 291142 entries, 63650 to 291141\n",
      "Data columns (total 8 columns):\n",
      " #   Column                Non-Null Count   Dtype         \n",
      "---  ------                --------------   -----         \n",
      " 0   merchant_id           291142 non-null  object        \n",
      " 1   month_id              291142 non-null  datetime64[ns]\n",
      " 2   merchant_source_name  291142 non-null  object        \n",
      " 3   settlement_period     291142 non-null  object        \n",
      " 4   working_type          291142 non-null  object        \n",
      " 5   mcc_id                291142 non-null  object        \n",
      " 6   merchant_segment      291142 non-null  object        \n",
      " 7   net_payment_count     291142 non-null  int64         \n",
      "dtypes: datetime64[ns](1), int64(1), object(6)\n",
      "memory usage: 20.0+ MB\n"
     ]
    }
   ],
   "source": [
    "train[\"month_id\"] = pd.to_datetime(train[\"month_id\"], format=\"%Y%m\")\n",
    "\n",
    "train = train.sort_values(by='month_id')\n",
    "train['month_id'] = train['month_id'].astype('datetime64[ns]')\n",
    "\n",
    "train.info()"
   ]
  },
  {
   "cell_type": "code",
   "execution_count": 86,
   "metadata": {},
   "outputs": [],
   "source": [
    "#train.index = pd.to_period(train.index, freq='M')\n",
    "\n",
    "#train.index = pd.to_datetime(train.index)\n",
    "#month_index = train.index.to_period('M')\n",
    "\n",
    "#train.index.to_period(\"M\")\n"
   ]
  },
  {
   "cell_type": "code",
   "execution_count": 205,
   "metadata": {},
   "outputs": [
    {
     "data": {
      "text/plain": [
       "DatetimeIndex(['2020-01-01', '2020-01-01', '2020-01-01', '2020-01-01',\n",
       "               '2020-01-01', '2020-01-01', '2020-01-01', '2020-01-01',\n",
       "               '2020-01-01', '2020-01-01',\n",
       "               ...\n",
       "               '2023-09-01', '2023-09-01', '2023-09-01', '2023-09-01',\n",
       "               '2023-09-01', '2023-09-01', '2023-09-01', '2023-09-01',\n",
       "               '2023-09-01', '2023-09-01'],\n",
       "              dtype='datetime64[ns]', name='month_id', length=291142, freq=None)"
      ]
     },
     "execution_count": 205,
     "metadata": {},
     "output_type": "execute_result"
    }
   ],
   "source": [
    "train['month_id']=pd.to_datetime(train['month_id'])\n",
    "\n",
    "train.set_index('month_id', inplace=True)\n",
    "\n",
    "train.index"
   ]
  },
  {
   "cell_type": "code",
   "execution_count": 6,
   "metadata": {},
   "outputs": [],
   "source": [
    "#for i in train['merchant_id'].unique():\n",
    "    #describe_ = train[train['merchant_id'] == i].describe()\n",
    "    #print(f\"Merchant ID: {i}\")\n",
    "    #print(describe_.to_string())\n",
    "    #print(\"\\n\" + \"=\"*50 + \"\\n\")"
   ]
  },
  {
   "cell_type": "code",
   "execution_count": 206,
   "metadata": {},
   "outputs": [],
   "source": [
    "train[[\"merchant\",\"id\"]] = train[\"merchant_id\"].str.split(\"_\", expand=True)\n"
   ]
  },
  {
   "cell_type": "code",
   "execution_count": 207,
   "metadata": {},
   "outputs": [
    {
     "data": {
      "text/html": [
       "<div>\n",
       "<style scoped>\n",
       "    .dataframe tbody tr th:only-of-type {\n",
       "        vertical-align: middle;\n",
       "    }\n",
       "\n",
       "    .dataframe tbody tr th {\n",
       "        vertical-align: top;\n",
       "    }\n",
       "\n",
       "    .dataframe thead th {\n",
       "        text-align: right;\n",
       "    }\n",
       "</style>\n",
       "<table border=\"1\" class=\"dataframe\">\n",
       "  <thead>\n",
       "    <tr style=\"text-align: right;\">\n",
       "      <th></th>\n",
       "      <th>merchant_source_name</th>\n",
       "      <th>settlement_period</th>\n",
       "      <th>working_type</th>\n",
       "      <th>mcc_id</th>\n",
       "      <th>merchant_segment</th>\n",
       "      <th>net_payment_count</th>\n",
       "      <th>id</th>\n",
       "    </tr>\n",
       "    <tr>\n",
       "      <th>month_id</th>\n",
       "      <th></th>\n",
       "      <th></th>\n",
       "      <th></th>\n",
       "      <th></th>\n",
       "      <th></th>\n",
       "      <th></th>\n",
       "      <th></th>\n",
       "    </tr>\n",
       "  </thead>\n",
       "  <tbody>\n",
       "    <tr>\n",
       "      <th>2020-01-01</th>\n",
       "      <td>Merchant Source - 1</td>\n",
       "      <td>Settlement Period - 1</td>\n",
       "      <td>Working Type - 6</td>\n",
       "      <td>mcc_130</td>\n",
       "      <td>Segment - 4</td>\n",
       "      <td>6</td>\n",
       "      <td>66740</td>\n",
       "    </tr>\n",
       "    <tr>\n",
       "      <th>2020-01-01</th>\n",
       "      <td>Merchant Source - 1</td>\n",
       "      <td>Settlement Period - 1</td>\n",
       "      <td>Working Type - 2</td>\n",
       "      <td>mcc_153</td>\n",
       "      <td>Segment - 4</td>\n",
       "      <td>3</td>\n",
       "      <td>12444</td>\n",
       "    </tr>\n",
       "    <tr>\n",
       "      <th>2020-01-01</th>\n",
       "      <td>Merchant Source - 2</td>\n",
       "      <td>Settlement Period - 1</td>\n",
       "      <td>Working Type - 5</td>\n",
       "      <td>mcc_168</td>\n",
       "      <td>Segment - 4</td>\n",
       "      <td>3</td>\n",
       "      <td>40154</td>\n",
       "    </tr>\n",
       "    <tr>\n",
       "      <th>2020-01-01</th>\n",
       "      <td>Merchant Source - 3</td>\n",
       "      <td>Settlement Period - 3</td>\n",
       "      <td>Working Type - 2</td>\n",
       "      <td>mcc_25</td>\n",
       "      <td>Segment - 2</td>\n",
       "      <td>787</td>\n",
       "      <td>33179</td>\n",
       "    </tr>\n",
       "    <tr>\n",
       "      <th>2020-01-01</th>\n",
       "      <td>Merchant Source - 2</td>\n",
       "      <td>Settlement Period - 1</td>\n",
       "      <td>Working Type - 6</td>\n",
       "      <td>mcc_31</td>\n",
       "      <td>Segment - 4</td>\n",
       "      <td>5</td>\n",
       "      <td>16977</td>\n",
       "    </tr>\n",
       "  </tbody>\n",
       "</table>\n",
       "</div>"
      ],
      "text/plain": [
       "           merchant_source_name      settlement_period      working_type   \n",
       "month_id                                                                   \n",
       "2020-01-01  Merchant Source - 1  Settlement Period - 1  Working Type - 6  \\\n",
       "2020-01-01  Merchant Source - 1  Settlement Period - 1  Working Type - 2   \n",
       "2020-01-01  Merchant Source - 2  Settlement Period - 1  Working Type - 5   \n",
       "2020-01-01  Merchant Source - 3  Settlement Period - 3  Working Type - 2   \n",
       "2020-01-01  Merchant Source - 2  Settlement Period - 1  Working Type - 6   \n",
       "\n",
       "             mcc_id merchant_segment  net_payment_count     id  \n",
       "month_id                                                        \n",
       "2020-01-01  mcc_130      Segment - 4                  6  66740  \n",
       "2020-01-01  mcc_153      Segment - 4                  3  12444  \n",
       "2020-01-01  mcc_168      Segment - 4                  3  40154  \n",
       "2020-01-01   mcc_25      Segment - 2                787  33179  \n",
       "2020-01-01   mcc_31      Segment - 4                  5  16977  "
      ]
     },
     "execution_count": 207,
     "metadata": {},
     "output_type": "execute_result"
    }
   ],
   "source": [
    "train.drop(['merchant_id','merchant'], axis=1, inplace=True)\n",
    "train.head()"
   ]
  },
  {
   "cell_type": "code",
   "execution_count": 208,
   "metadata": {},
   "outputs": [
    {
     "data": {
      "text/html": [
       "<div>\n",
       "<style scoped>\n",
       "    .dataframe tbody tr th:only-of-type {\n",
       "        vertical-align: middle;\n",
       "    }\n",
       "\n",
       "    .dataframe tbody tr th {\n",
       "        vertical-align: top;\n",
       "    }\n",
       "\n",
       "    .dataframe thead th {\n",
       "        text-align: right;\n",
       "    }\n",
       "</style>\n",
       "<table border=\"1\" class=\"dataframe\">\n",
       "  <thead>\n",
       "    <tr style=\"text-align: right;\">\n",
       "      <th></th>\n",
       "      <th>merchant_source_name</th>\n",
       "      <th>settlement_period</th>\n",
       "      <th>working_type</th>\n",
       "      <th>mcc_id</th>\n",
       "      <th>merchant_segment</th>\n",
       "      <th>net_payment_count</th>\n",
       "      <th>id</th>\n",
       "    </tr>\n",
       "    <tr>\n",
       "      <th>month_id</th>\n",
       "      <th></th>\n",
       "      <th></th>\n",
       "      <th></th>\n",
       "      <th></th>\n",
       "      <th></th>\n",
       "      <th></th>\n",
       "      <th></th>\n",
       "    </tr>\n",
       "  </thead>\n",
       "  <tbody>\n",
       "    <tr>\n",
       "      <th>2022-10-01</th>\n",
       "      <td>Merchant Source - 2</td>\n",
       "      <td>Settlement Period - 1</td>\n",
       "      <td>Working Type - 5</td>\n",
       "      <td>mcc_128</td>\n",
       "      <td>Segment - 4</td>\n",
       "      <td>3</td>\n",
       "      <td>1</td>\n",
       "    </tr>\n",
       "    <tr>\n",
       "      <th>2021-08-01</th>\n",
       "      <td>Merchant Source - 2</td>\n",
       "      <td>Settlement Period - 1</td>\n",
       "      <td>Working Type - 5</td>\n",
       "      <td>mcc_128</td>\n",
       "      <td>Segment - 4</td>\n",
       "      <td>3</td>\n",
       "      <td>1</td>\n",
       "    </tr>\n",
       "    <tr>\n",
       "      <th>2022-03-01</th>\n",
       "      <td>Merchant Source - 2</td>\n",
       "      <td>Settlement Period - 3</td>\n",
       "      <td>Working Type - 6</td>\n",
       "      <td>mcc_42</td>\n",
       "      <td>Segment - 4</td>\n",
       "      <td>9</td>\n",
       "      <td>10</td>\n",
       "    </tr>\n",
       "    <tr>\n",
       "      <th>2021-11-01</th>\n",
       "      <td>Merchant Source - 2</td>\n",
       "      <td>Settlement Period - 3</td>\n",
       "      <td>Working Type - 6</td>\n",
       "      <td>mcc_42</td>\n",
       "      <td>Segment - 4</td>\n",
       "      <td>6</td>\n",
       "      <td>10</td>\n",
       "    </tr>\n",
       "    <tr>\n",
       "      <th>2022-04-01</th>\n",
       "      <td>Merchant Source - 2</td>\n",
       "      <td>Settlement Period - 3</td>\n",
       "      <td>Working Type - 6</td>\n",
       "      <td>mcc_42</td>\n",
       "      <td>Segment - 4</td>\n",
       "      <td>4</td>\n",
       "      <td>10</td>\n",
       "    </tr>\n",
       "  </tbody>\n",
       "</table>\n",
       "</div>"
      ],
      "text/plain": [
       "           merchant_source_name      settlement_period      working_type   \n",
       "month_id                                                                   \n",
       "2022-10-01  Merchant Source - 2  Settlement Period - 1  Working Type - 5  \\\n",
       "2021-08-01  Merchant Source - 2  Settlement Period - 1  Working Type - 5   \n",
       "2022-03-01  Merchant Source - 2  Settlement Period - 3  Working Type - 6   \n",
       "2021-11-01  Merchant Source - 2  Settlement Period - 3  Working Type - 6   \n",
       "2022-04-01  Merchant Source - 2  Settlement Period - 3  Working Type - 6   \n",
       "\n",
       "             mcc_id merchant_segment  net_payment_count  id  \n",
       "month_id                                                     \n",
       "2022-10-01  mcc_128      Segment - 4                  3   1  \n",
       "2021-08-01  mcc_128      Segment - 4                  3   1  \n",
       "2022-03-01   mcc_42      Segment - 4                  9  10  \n",
       "2021-11-01   mcc_42      Segment - 4                  6  10  \n",
       "2022-04-01   mcc_42      Segment - 4                  4  10  "
      ]
     },
     "execution_count": 208,
     "metadata": {},
     "output_type": "execute_result"
    }
   ],
   "source": [
    "result = train.sort_values(by=['id'])\n",
    "result.head()"
   ]
  },
  {
   "cell_type": "code",
   "execution_count": 182,
   "metadata": {},
   "outputs": [
    {
     "data": {
      "text/html": [
       "<div>\n",
       "<style scoped>\n",
       "    .dataframe tbody tr th:only-of-type {\n",
       "        vertical-align: middle;\n",
       "    }\n",
       "\n",
       "    .dataframe tbody tr th {\n",
       "        vertical-align: top;\n",
       "    }\n",
       "\n",
       "    .dataframe thead tr th {\n",
       "        text-align: left;\n",
       "    }\n",
       "\n",
       "    .dataframe thead tr:last-of-type th {\n",
       "        text-align: right;\n",
       "    }\n",
       "</style>\n",
       "<table border=\"1\" class=\"dataframe\">\n",
       "  <thead>\n",
       "    <tr>\n",
       "      <th></th>\n",
       "      <th colspan=\"8\" halign=\"left\">net_payment_count</th>\n",
       "    </tr>\n",
       "    <tr>\n",
       "      <th></th>\n",
       "      <th>count</th>\n",
       "      <th>mean</th>\n",
       "      <th>std</th>\n",
       "      <th>min</th>\n",
       "      <th>25%</th>\n",
       "      <th>50%</th>\n",
       "      <th>75%</th>\n",
       "      <th>max</th>\n",
       "    </tr>\n",
       "    <tr>\n",
       "      <th>id</th>\n",
       "      <th></th>\n",
       "      <th></th>\n",
       "      <th></th>\n",
       "      <th></th>\n",
       "      <th></th>\n",
       "      <th></th>\n",
       "      <th></th>\n",
       "      <th></th>\n",
       "    </tr>\n",
       "  </thead>\n",
       "  <tbody>\n",
       "    <tr>\n",
       "      <th>1</th>\n",
       "      <td>2.0</td>\n",
       "      <td>3.000000</td>\n",
       "      <td>0.000000</td>\n",
       "      <td>3.0</td>\n",
       "      <td>3.00</td>\n",
       "      <td>3.0</td>\n",
       "      <td>3.00</td>\n",
       "      <td>3.0</td>\n",
       "    </tr>\n",
       "    <tr>\n",
       "      <th>10</th>\n",
       "      <td>6.0</td>\n",
       "      <td>10.833333</td>\n",
       "      <td>7.467708</td>\n",
       "      <td>4.0</td>\n",
       "      <td>6.25</td>\n",
       "      <td>8.0</td>\n",
       "      <td>13.50</td>\n",
       "      <td>24.0</td>\n",
       "    </tr>\n",
       "    <tr>\n",
       "      <th>10000</th>\n",
       "      <td>11.0</td>\n",
       "      <td>4.727273</td>\n",
       "      <td>2.004540</td>\n",
       "      <td>3.0</td>\n",
       "      <td>4.00</td>\n",
       "      <td>4.0</td>\n",
       "      <td>5.00</td>\n",
       "      <td>10.0</td>\n",
       "    </tr>\n",
       "    <tr>\n",
       "      <th>10001</th>\n",
       "      <td>9.0</td>\n",
       "      <td>26.333333</td>\n",
       "      <td>20.916501</td>\n",
       "      <td>6.0</td>\n",
       "      <td>13.00</td>\n",
       "      <td>19.0</td>\n",
       "      <td>36.00</td>\n",
       "      <td>74.0</td>\n",
       "    </tr>\n",
       "    <tr>\n",
       "      <th>10002</th>\n",
       "      <td>6.0</td>\n",
       "      <td>3.166667</td>\n",
       "      <td>0.408248</td>\n",
       "      <td>3.0</td>\n",
       "      <td>3.00</td>\n",
       "      <td>3.0</td>\n",
       "      <td>3.00</td>\n",
       "      <td>4.0</td>\n",
       "    </tr>\n",
       "    <tr>\n",
       "      <th>...</th>\n",
       "      <td>...</td>\n",
       "      <td>...</td>\n",
       "      <td>...</td>\n",
       "      <td>...</td>\n",
       "      <td>...</td>\n",
       "      <td>...</td>\n",
       "      <td>...</td>\n",
       "      <td>...</td>\n",
       "    </tr>\n",
       "    <tr>\n",
       "      <th>9984</th>\n",
       "      <td>11.0</td>\n",
       "      <td>4.363636</td>\n",
       "      <td>1.206045</td>\n",
       "      <td>3.0</td>\n",
       "      <td>3.00</td>\n",
       "      <td>5.0</td>\n",
       "      <td>5.00</td>\n",
       "      <td>6.0</td>\n",
       "    </tr>\n",
       "    <tr>\n",
       "      <th>9985</th>\n",
       "      <td>1.0</td>\n",
       "      <td>4.000000</td>\n",
       "      <td>NaN</td>\n",
       "      <td>4.0</td>\n",
       "      <td>4.00</td>\n",
       "      <td>4.0</td>\n",
       "      <td>4.00</td>\n",
       "      <td>4.0</td>\n",
       "    </tr>\n",
       "    <tr>\n",
       "      <th>9986</th>\n",
       "      <td>6.0</td>\n",
       "      <td>3.666667</td>\n",
       "      <td>0.816497</td>\n",
       "      <td>3.0</td>\n",
       "      <td>3.00</td>\n",
       "      <td>3.5</td>\n",
       "      <td>4.00</td>\n",
       "      <td>5.0</td>\n",
       "    </tr>\n",
       "    <tr>\n",
       "      <th>9991</th>\n",
       "      <td>16.0</td>\n",
       "      <td>10.000000</td>\n",
       "      <td>5.988879</td>\n",
       "      <td>3.0</td>\n",
       "      <td>6.75</td>\n",
       "      <td>8.0</td>\n",
       "      <td>11.25</td>\n",
       "      <td>23.0</td>\n",
       "    </tr>\n",
       "    <tr>\n",
       "      <th>9993</th>\n",
       "      <td>6.0</td>\n",
       "      <td>4.000000</td>\n",
       "      <td>2.000000</td>\n",
       "      <td>3.0</td>\n",
       "      <td>3.00</td>\n",
       "      <td>3.0</td>\n",
       "      <td>3.75</td>\n",
       "      <td>8.0</td>\n",
       "    </tr>\n",
       "  </tbody>\n",
       "</table>\n",
       "<p>26060 rows × 8 columns</p>\n",
       "</div>"
      ],
      "text/plain": [
       "      net_payment_count                                                     \n",
       "                  count       mean        std  min    25%   50%    75%   max\n",
       "id                                                                          \n",
       "1                   2.0   3.000000   0.000000  3.0   3.00   3.0   3.00   3.0\n",
       "10                  6.0  10.833333   7.467708  4.0   6.25   8.0  13.50  24.0\n",
       "10000              11.0   4.727273   2.004540  3.0   4.00   4.0   5.00  10.0\n",
       "10001               9.0  26.333333  20.916501  6.0  13.00  19.0  36.00  74.0\n",
       "10002               6.0   3.166667   0.408248  3.0   3.00   3.0   3.00   4.0\n",
       "...                 ...        ...        ...  ...    ...   ...    ...   ...\n",
       "9984               11.0   4.363636   1.206045  3.0   3.00   5.0   5.00   6.0\n",
       "9985                1.0   4.000000        NaN  4.0   4.00   4.0   4.00   4.0\n",
       "9986                6.0   3.666667   0.816497  3.0   3.00   3.5   4.00   5.0\n",
       "9991               16.0  10.000000   5.988879  3.0   6.75   8.0  11.25  23.0\n",
       "9993                6.0   4.000000   2.000000  3.0   3.00   3.0   3.75   8.0\n",
       "\n",
       "[26060 rows x 8 columns]"
      ]
     },
     "execution_count": 182,
     "metadata": {},
     "output_type": "execute_result"
    }
   ],
   "source": [
    "result = train.groupby('id')\n",
    "result.describe()"
   ]
  },
  {
   "cell_type": "code",
   "execution_count": 277,
   "metadata": {},
   "outputs": [
    {
     "data": {
      "text/html": [
       "<div>\n",
       "<style scoped>\n",
       "    .dataframe tbody tr th:only-of-type {\n",
       "        vertical-align: middle;\n",
       "    }\n",
       "\n",
       "    .dataframe tbody tr th {\n",
       "        vertical-align: top;\n",
       "    }\n",
       "\n",
       "    .dataframe thead th {\n",
       "        text-align: right;\n",
       "    }\n",
       "</style>\n",
       "<table border=\"1\" class=\"dataframe\">\n",
       "  <thead>\n",
       "    <tr style=\"text-align: right;\">\n",
       "      <th></th>\n",
       "      <th>net_payment_count</th>\n",
       "      <th>id</th>\n",
       "    </tr>\n",
       "    <tr>\n",
       "      <th>month_id</th>\n",
       "      <th></th>\n",
       "      <th></th>\n",
       "    </tr>\n",
       "  </thead>\n",
       "  <tbody>\n",
       "    <tr>\n",
       "      <th>2022-10-01</th>\n",
       "      <td>3</td>\n",
       "      <td>1</td>\n",
       "    </tr>\n",
       "    <tr>\n",
       "      <th>2021-08-01</th>\n",
       "      <td>3</td>\n",
       "      <td>1</td>\n",
       "    </tr>\n",
       "    <tr>\n",
       "      <th>2022-03-01</th>\n",
       "      <td>9</td>\n",
       "      <td>10</td>\n",
       "    </tr>\n",
       "    <tr>\n",
       "      <th>2021-11-01</th>\n",
       "      <td>6</td>\n",
       "      <td>10</td>\n",
       "    </tr>\n",
       "    <tr>\n",
       "      <th>2022-04-01</th>\n",
       "      <td>4</td>\n",
       "      <td>10</td>\n",
       "    </tr>\n",
       "  </tbody>\n",
       "</table>\n",
       "</div>"
      ],
      "text/plain": [
       "            net_payment_count  id\n",
       "month_id                         \n",
       "2022-10-01                  3   1\n",
       "2021-08-01                  3   1\n",
       "2022-03-01                  9  10\n",
       "2021-11-01                  6  10\n",
       "2022-04-01                  4  10"
      ]
     },
     "execution_count": 277,
     "metadata": {},
     "output_type": "execute_result"
    }
   ],
   "source": [
    "#ts = result[\"net_payment_count\",\"id\"]\n",
    "#ts.head()\n",
    "\n",
    "ts = pd.DataFrame({\"net_payment_count\":result['net_payment_count'],\n",
    "                  \"id\":result['id']\n",
    "                  })\n",
    "ts.head()\n",
    "\n"
   ]
  },
  {
   "cell_type": "code",
   "execution_count": 210,
   "metadata": {},
   "outputs": [
    {
     "data": {
      "text/plain": [
       "<Axes: xlabel='month_id'>"
      ]
     },
     "execution_count": 210,
     "metadata": {},
     "output_type": "execute_result"
    },
    {
     "data": {
      "image/png": "[encoded data removed]",
      "text/plain": [
       "<Figure size 1500x500 with 1 Axes>"
      ]
     },
     "metadata": {},
     "output_type": "display_data"
    }
   ],
   "source": [
    "ts.plot(figsize=(15,5))\n"
   ]
  },
  {
   "cell_type": "code",
   "execution_count": 129,
   "metadata": {},
   "outputs": [],
   "source": [
    "#ts.index = ts.index.to_period(\"M\")\n"
   ]
  },
  {
   "cell_type": "code",
   "execution_count": 211,
   "metadata": {},
   "outputs": [
    {
     "data": {
      "text/plain": [
       "<Axes: xlabel='month_id', ylabel='net_payment_count'>"
      ]
     },
     "execution_count": 211,
     "metadata": {},
     "output_type": "execute_result"
    },
    {
     "data": {
      "image/png": "[encoded data removed]",
      "text/plain": [
       "<Figure size 2200x400 with 1 Axes>"
      ]
     },
     "metadata": {},
     "output_type": "display_data"
    }
   ],
   "source": [
    "plt.figure(figsize=(22,4))\n",
    "sns.lineplot(data = ts.reset_index(), x=\"month_id\", y=\"net_payment_count\")"
   ]
  },
  {
   "cell_type": "code",
   "execution_count": 274,
   "metadata": {},
   "outputs": [
    {
     "ename": "ValueError",
     "evalue": "You must specify a period or x must be a pandas object with a PeriodIndex or a DatetimeIndex with a freq not set to None",
     "output_type": "error",
     "traceback": [
      "\u001b[0;31m---------------------------------------------------------------------------\u001b[0m",
      "\u001b[0;31mValueError\u001b[0m                                Traceback (most recent call last)",
      "Cell \u001b[0;32mIn[274], line 3\u001b[0m\n\u001b[1;32m      1\u001b[0m \u001b[39mfrom\u001b[39;00m \u001b[39mstatsmodels\u001b[39;00m\u001b[39m.\u001b[39;00m\u001b[39mtsa\u001b[39;00m\u001b[39m.\u001b[39;00m\u001b[39mseasonal\u001b[39;00m \u001b[39mimport\u001b[39;00m seasonal_decompose\n\u001b[0;32m----> 3\u001b[0m result \u001b[39m=\u001b[39m seasonal_decompose(ts)\n",
      "File \u001b[0;32m~/Library/Python/3.9/lib/python/site-packages/statsmodels/tsa/seasonal.py:159\u001b[0m, in \u001b[0;36mseasonal_decompose\u001b[0;34m(x, model, filt, period, two_sided, extrapolate_trend)\u001b[0m\n\u001b[1;32m    157\u001b[0m         period \u001b[39m=\u001b[39m pfreq\n\u001b[1;32m    158\u001b[0m     \u001b[39melse\u001b[39;00m:\n\u001b[0;32m--> 159\u001b[0m         \u001b[39mraise\u001b[39;00m \u001b[39mValueError\u001b[39;00m(\n\u001b[1;32m    160\u001b[0m             \u001b[39m\"\u001b[39m\u001b[39mYou must specify a period or x must be a pandas object with \u001b[39m\u001b[39m\"\u001b[39m\n\u001b[1;32m    161\u001b[0m             \u001b[39m\"\u001b[39m\u001b[39ma PeriodIndex or a DatetimeIndex with a freq not set to None\u001b[39m\u001b[39m\"\u001b[39m\n\u001b[1;32m    162\u001b[0m         )\n\u001b[1;32m    163\u001b[0m \u001b[39mif\u001b[39;00m x\u001b[39m.\u001b[39mshape[\u001b[39m0\u001b[39m] \u001b[39m<\u001b[39m \u001b[39m2\u001b[39m \u001b[39m*\u001b[39m pfreq:\n\u001b[1;32m    164\u001b[0m     \u001b[39mraise\u001b[39;00m \u001b[39mValueError\u001b[39;00m(\n\u001b[1;32m    165\u001b[0m         \u001b[39mf\u001b[39m\u001b[39m\"\u001b[39m\u001b[39mx must have 2 complete cycles requires \u001b[39m\u001b[39m{\u001b[39;00m\u001b[39m2\u001b[39m\u001b[39m \u001b[39m\u001b[39m*\u001b[39m\u001b[39m \u001b[39mpfreq\u001b[39m}\u001b[39;00m\u001b[39m \u001b[39m\u001b[39m\"\u001b[39m\n\u001b[1;32m    166\u001b[0m         \u001b[39mf\u001b[39m\u001b[39m\"\u001b[39m\u001b[39mobservations. x only has \u001b[39m\u001b[39m{\u001b[39;00mx\u001b[39m.\u001b[39mshape[\u001b[39m0\u001b[39m]\u001b[39m}\u001b[39;00m\u001b[39m observation(s)\u001b[39m\u001b[39m\"\u001b[39m\n\u001b[1;32m    167\u001b[0m     )\n",
      "\u001b[0;31mValueError\u001b[0m: You must specify a period or x must be a pandas object with a PeriodIndex or a DatetimeIndex with a freq not set to None"
     ]
    }
   ],
   "source": [
    "from statsmodels.tsa.seasonal import seasonal_decompose\n",
    "\n",
    "result = seasonal_decompose(ts)\n"
   ]
  },
  {
   "cell_type": "code",
   "execution_count": null,
   "metadata": {},
   "outputs": [],
   "source": [
    "fig, axes = plt.subplots(4, 1, sharex=True)\n",
    "\n",
    "result.observed.plot(ax = axes[0], color='r')\n",
    "axes[0].set_ylabel('Gözlemlenen')\n",
    "\n",
    "result.trend.plot(ax = axes[1], color='g')\n",
    "axes[1].set_ylabel('Trend')\n",
    "\n",
    "result.seasonal.plot(ax = axes[2])\n",
    "axes[2].set_ylabel('Sezonsallık')\n",
    "\n",
    "result.resid.plot(ax = axes[3], color='k')\n",
    "axes[3].set_ylabel('Artıklar');"
   ]
  },
  {
   "cell_type": "code",
   "execution_count": 264,
   "metadata": {},
   "outputs": [
    {
     "ename": "ValueError",
     "evalue": "You must specify a period or x must be a pandas object with a PeriodIndex or a DatetimeIndex with a freq not set to None",
     "output_type": "error",
     "traceback": [
      "\u001b[0;31m---------------------------------------------------------------------------\u001b[0m",
      "\u001b[0;31mValueError\u001b[0m                                Traceback (most recent call last)",
      "Cell \u001b[0;32mIn[264], line 2\u001b[0m\n\u001b[1;32m      1\u001b[0m plt\u001b[39m.\u001b[39mrcParams[\u001b[39m'\u001b[39m\u001b[39mfigure.figsize\u001b[39m\u001b[39m'\u001b[39m] \u001b[39m=\u001b[39m [\u001b[39m20\u001b[39m,\u001b[39m7\u001b[39m]\n\u001b[0;32m----> 2\u001b[0m decomposition \u001b[39m=\u001b[39m sm\u001b[39m.\u001b[39;49mtsa\u001b[39m.\u001b[39;49mseasonal_decompose(ts, model\u001b[39m=\u001b[39;49m\u001b[39m'\u001b[39;49m\u001b[39madditive\u001b[39;49m\u001b[39m'\u001b[39;49m)\n\u001b[1;32m      3\u001b[0m fig \u001b[39m=\u001b[39m decomposition\u001b[39m.\u001b[39mplot()\n\u001b[1;32m      4\u001b[0m plt\u001b[39m.\u001b[39mshow()\n",
      "File \u001b[0;32m~/Library/Python/3.9/lib/python/site-packages/statsmodels/tsa/seasonal.py:159\u001b[0m, in \u001b[0;36mseasonal_decompose\u001b[0;34m(x, model, filt, period, two_sided, extrapolate_trend)\u001b[0m\n\u001b[1;32m    157\u001b[0m         period \u001b[39m=\u001b[39m pfreq\n\u001b[1;32m    158\u001b[0m     \u001b[39melse\u001b[39;00m:\n\u001b[0;32m--> 159\u001b[0m         \u001b[39mraise\u001b[39;00m \u001b[39mValueError\u001b[39;00m(\n\u001b[1;32m    160\u001b[0m             \u001b[39m\"\u001b[39m\u001b[39mYou must specify a period or x must be a pandas object with \u001b[39m\u001b[39m\"\u001b[39m\n\u001b[1;32m    161\u001b[0m             \u001b[39m\"\u001b[39m\u001b[39ma PeriodIndex or a DatetimeIndex with a freq not set to None\u001b[39m\u001b[39m\"\u001b[39m\n\u001b[1;32m    162\u001b[0m         )\n\u001b[1;32m    163\u001b[0m \u001b[39mif\u001b[39;00m x\u001b[39m.\u001b[39mshape[\u001b[39m0\u001b[39m] \u001b[39m<\u001b[39m \u001b[39m2\u001b[39m \u001b[39m*\u001b[39m pfreq:\n\u001b[1;32m    164\u001b[0m     \u001b[39mraise\u001b[39;00m \u001b[39mValueError\u001b[39;00m(\n\u001b[1;32m    165\u001b[0m         \u001b[39mf\u001b[39m\u001b[39m\"\u001b[39m\u001b[39mx must have 2 complete cycles requires \u001b[39m\u001b[39m{\u001b[39;00m\u001b[39m2\u001b[39m\u001b[39m \u001b[39m\u001b[39m*\u001b[39m\u001b[39m \u001b[39mpfreq\u001b[39m}\u001b[39;00m\u001b[39m \u001b[39m\u001b[39m\"\u001b[39m\n\u001b[1;32m    166\u001b[0m         \u001b[39mf\u001b[39m\u001b[39m\"\u001b[39m\u001b[39mobservations. x only has \u001b[39m\u001b[39m{\u001b[39;00mx\u001b[39m.\u001b[39mshape[\u001b[39m0\u001b[39m]\u001b[39m}\u001b[39;00m\u001b[39m observation(s)\u001b[39m\u001b[39m\"\u001b[39m\n\u001b[1;32m    167\u001b[0m     )\n",
      "\u001b[0;31mValueError\u001b[0m: You must specify a period or x must be a pandas object with a PeriodIndex or a DatetimeIndex with a freq not set to None"
     ]
    }
   ],
   "source": [
    "plt.rcParams['figure.figsize'] = [20,7]\n",
    "decomposition = sm.tsa.seasonal_decompose(ts, model='additive')\n",
    "fig = decomposition.plot()\n",
    "plt.show()"
   ]
  },
  {
   "cell_type": "code",
   "execution_count": 255,
   "metadata": {},
   "outputs": [
    {
     "ename": "NameError",
     "evalue": "name 'seasonal_decompose' is not defined",
     "output_type": "error",
     "traceback": [
      "\u001b[0;31m---------------------------------------------------------------------------\u001b[0m",
      "\u001b[0;31mNameError\u001b[0m                                 Traceback (most recent call last)",
      "Cell \u001b[0;32mIn[255], line 1\u001b[0m\n\u001b[0;32m----> 1\u001b[0m decompose_result \u001b[39m=\u001b[39m seasonal_decompose(ts[\u001b[39m'\u001b[39m\u001b[39mnet_payment_count\u001b[39m\u001b[39m'\u001b[39m], model\u001b[39m=\u001b[39m\u001b[39m'\u001b[39m\u001b[39mmultiplicative\u001b[39m\u001b[39m'\u001b[39m, period\u001b[39m=\u001b[39m\u001b[39m1\u001b[39m)\n\u001b[1;32m      2\u001b[0m decompose_result\u001b[39m.\u001b[39mplot();\n",
      "\u001b[0;31mNameError\u001b[0m: name 'seasonal_decompose' is not defined"
     ]
    }
   ],
   "source": [
    "decompose_result = seasonal_decompose(ts['net_payment_count'], model='multiplicative', period=1)\n",
    "decompose_result.plot();"
   ]
  },
  {
   "cell_type": "code",
   "execution_count": 212,
   "metadata": {},
   "outputs": [
    {
     "data": {
      "text/plain": [
       "DatetimeIndex(['2022-10-01', '2021-08-01', '2022-03-01', '2021-11-01',\n",
       "               '2022-04-01', '2022-02-01', '2021-12-01', '2022-01-01',\n",
       "               '2022-06-01', '2023-03-01',\n",
       "               ...\n",
       "               '2023-02-01', '2023-08-01', '2022-11-01', '2023-06-01',\n",
       "               '2023-01-01', '2023-06-01', '2022-12-01', '2023-02-01',\n",
       "               '2022-10-01', '2022-11-01'],\n",
       "              dtype='datetime64[ns]', name='month_id', length=291142, freq=None)"
      ]
     },
     "execution_count": 212,
     "metadata": {},
     "output_type": "execute_result"
    }
   ],
   "source": [
    "ts.index"
   ]
  },
  {
   "cell_type": "code",
   "execution_count": 228,
   "metadata": {},
   "outputs": [
    {
     "data": {
      "text/html": [
       "<div>\n",
       "<style scoped>\n",
       "    .dataframe tbody tr th:only-of-type {\n",
       "        vertical-align: middle;\n",
       "    }\n",
       "\n",
       "    .dataframe tbody tr th {\n",
       "        vertical-align: top;\n",
       "    }\n",
       "\n",
       "    .dataframe thead th {\n",
       "        text-align: right;\n",
       "    }\n",
       "</style>\n",
       "<table border=\"1\" class=\"dataframe\">\n",
       "  <thead>\n",
       "    <tr style=\"text-align: right;\">\n",
       "      <th></th>\n",
       "      <th>net_payment_count</th>\n",
       "      <th>id</th>\n",
       "    </tr>\n",
       "    <tr>\n",
       "      <th>month_id</th>\n",
       "      <th></th>\n",
       "      <th></th>\n",
       "    </tr>\n",
       "  </thead>\n",
       "  <tbody>\n",
       "    <tr>\n",
       "      <th>2022-10-01</th>\n",
       "      <td>3</td>\n",
       "      <td>1</td>\n",
       "    </tr>\n",
       "    <tr>\n",
       "      <th>2021-08-01</th>\n",
       "      <td>3</td>\n",
       "      <td>1</td>\n",
       "    </tr>\n",
       "    <tr>\n",
       "      <th>2022-03-01</th>\n",
       "      <td>9</td>\n",
       "      <td>10</td>\n",
       "    </tr>\n",
       "    <tr>\n",
       "      <th>2021-11-01</th>\n",
       "      <td>6</td>\n",
       "      <td>10</td>\n",
       "    </tr>\n",
       "    <tr>\n",
       "      <th>2022-04-01</th>\n",
       "      <td>4</td>\n",
       "      <td>10</td>\n",
       "    </tr>\n",
       "    <tr>\n",
       "      <th>...</th>\n",
       "      <td>...</td>\n",
       "      <td>...</td>\n",
       "    </tr>\n",
       "    <tr>\n",
       "      <th>2023-06-01</th>\n",
       "      <td>4</td>\n",
       "      <td>9993</td>\n",
       "    </tr>\n",
       "    <tr>\n",
       "      <th>2022-12-01</th>\n",
       "      <td>3</td>\n",
       "      <td>9993</td>\n",
       "    </tr>\n",
       "    <tr>\n",
       "      <th>2023-02-01</th>\n",
       "      <td>3</td>\n",
       "      <td>9993</td>\n",
       "    </tr>\n",
       "    <tr>\n",
       "      <th>2022-10-01</th>\n",
       "      <td>8</td>\n",
       "      <td>9993</td>\n",
       "    </tr>\n",
       "    <tr>\n",
       "      <th>2022-11-01</th>\n",
       "      <td>3</td>\n",
       "      <td>9993</td>\n",
       "    </tr>\n",
       "  </tbody>\n",
       "</table>\n",
       "<p>291142 rows × 2 columns</p>\n",
       "</div>"
      ],
      "text/plain": [
       "            net_payment_count    id\n",
       "month_id                           \n",
       "2022-10-01                  3     1\n",
       "2021-08-01                  3     1\n",
       "2022-03-01                  9    10\n",
       "2021-11-01                  6    10\n",
       "2022-04-01                  4    10\n",
       "...                       ...   ...\n",
       "2023-06-01                  4  9993\n",
       "2022-12-01                  3  9993\n",
       "2023-02-01                  3  9993\n",
       "2022-10-01                  8  9993\n",
       "2022-11-01                  3  9993\n",
       "\n",
       "[291142 rows x 2 columns]"
      ]
     },
     "execution_count": 228,
     "metadata": {},
     "output_type": "execute_result"
    }
   ],
   "source": [
    "ts"
   ]
  },
  {
   "cell_type": "code",
   "execution_count": 214,
   "metadata": {},
   "outputs": [
    {
     "data": {
      "text/plain": [
       "net_payment_count    0\n",
       "id                   0\n",
       "dtype: int64"
      ]
     },
     "execution_count": 214,
     "metadata": {},
     "output_type": "execute_result"
    }
   ],
   "source": [
    "ts.isnull().sum()"
   ]
  },
  {
   "cell_type": "code",
   "execution_count": 229,
   "metadata": {},
   "outputs": [
    {
     "data": {
      "image/png": "[encoded data removed]",
      "text/plain": [
       "<Figure size 2000x700 with 1 Axes>"
      ]
     },
     "metadata": {},
     "output_type": "display_data"
    }
   ],
   "source": [
    "def plot_merchant(ts, id):\n",
    "    data = ts[ts['id'] == id]\n",
    "    merchant_data = data.sort_values(by=['month_id'])\n",
    "\n",
    "    \n",
    "    ts_log = np.log(merchant_data['net_payment_count'])\n",
    "    moving_avg = ts_log.rolling(12).mean()\n",
    "    moving_std = ts_log.rolling(12).std()\n",
    "    #plt.plot(ts, color='red')\n",
    "    plt.plot(ts_log, label=f'Merchant ID: {id}')\n",
    "    plt.plot(moving_avg, color='red', label='Moving Average')\n",
    "    plt.plot(moving_std, color='yellow', label='Moving Std.')\n",
    "\n",
    "    plt.legend()\n",
    "    plt.xlabel('Month')\n",
    "    plt.ylabel('Net Payment Count')\n",
    "    plt.title('Zaman Serisi Grafiği')\n",
    "\n",
    "    plt.show()\n",
    "\n",
    "\n",
    "plot_merchant(ts,'33179')"
   ]
  },
  {
   "cell_type": "code",
   "execution_count": 216,
   "metadata": {},
   "outputs": [
    {
     "data": {
      "text/html": [
       "<div>\n",
       "<style scoped>\n",
       "    .dataframe tbody tr th:only-of-type {\n",
       "        vertical-align: middle;\n",
       "    }\n",
       "\n",
       "    .dataframe tbody tr th {\n",
       "        vertical-align: top;\n",
       "    }\n",
       "\n",
       "    .dataframe thead th {\n",
       "        text-align: right;\n",
       "    }\n",
       "</style>\n",
       "<table border=\"1\" class=\"dataframe\">\n",
       "  <thead>\n",
       "    <tr style=\"text-align: right;\">\n",
       "      <th></th>\n",
       "      <th>net_payment_count</th>\n",
       "      <th>id</th>\n",
       "    </tr>\n",
       "    <tr>\n",
       "      <th>month_id</th>\n",
       "      <th></th>\n",
       "      <th></th>\n",
       "    </tr>\n",
       "  </thead>\n",
       "  <tbody>\n",
       "    <tr>\n",
       "      <th>2023-07-01</th>\n",
       "      <td>608646</td>\n",
       "      <td>33179</td>\n",
       "    </tr>\n",
       "    <tr>\n",
       "      <th>2023-06-01</th>\n",
       "      <td>485558</td>\n",
       "      <td>33179</td>\n",
       "    </tr>\n",
       "    <tr>\n",
       "      <th>2021-04-01</th>\n",
       "      <td>1377</td>\n",
       "      <td>33179</td>\n",
       "    </tr>\n",
       "    <tr>\n",
       "      <th>2023-02-01</th>\n",
       "      <td>225655</td>\n",
       "      <td>33179</td>\n",
       "    </tr>\n",
       "    <tr>\n",
       "      <th>2020-02-01</th>\n",
       "      <td>2499</td>\n",
       "      <td>33179</td>\n",
       "    </tr>\n",
       "    <tr>\n",
       "      <th>2021-12-01</th>\n",
       "      <td>175473</td>\n",
       "      <td>33179</td>\n",
       "    </tr>\n",
       "    <tr>\n",
       "      <th>2020-01-01</th>\n",
       "      <td>787</td>\n",
       "      <td>33179</td>\n",
       "    </tr>\n",
       "    <tr>\n",
       "      <th>2020-06-01</th>\n",
       "      <td>2030</td>\n",
       "      <td>33179</td>\n",
       "    </tr>\n",
       "    <tr>\n",
       "      <th>2022-06-01</th>\n",
       "      <td>558958</td>\n",
       "      <td>33179</td>\n",
       "    </tr>\n",
       "    <tr>\n",
       "      <th>2021-08-01</th>\n",
       "      <td>52382</td>\n",
       "      <td>33179</td>\n",
       "    </tr>\n",
       "    <tr>\n",
       "      <th>2021-02-01</th>\n",
       "      <td>398</td>\n",
       "      <td>33179</td>\n",
       "    </tr>\n",
       "    <tr>\n",
       "      <th>2023-01-01</th>\n",
       "      <td>343121</td>\n",
       "      <td>33179</td>\n",
       "    </tr>\n",
       "    <tr>\n",
       "      <th>2022-12-01</th>\n",
       "      <td>392954</td>\n",
       "      <td>33179</td>\n",
       "    </tr>\n",
       "    <tr>\n",
       "      <th>2020-09-01</th>\n",
       "      <td>459</td>\n",
       "      <td>33179</td>\n",
       "    </tr>\n",
       "    <tr>\n",
       "      <th>2023-05-01</th>\n",
       "      <td>433289</td>\n",
       "      <td>33179</td>\n",
       "    </tr>\n",
       "    <tr>\n",
       "      <th>2022-09-01</th>\n",
       "      <td>738558</td>\n",
       "      <td>33179</td>\n",
       "    </tr>\n",
       "    <tr>\n",
       "      <th>2022-01-01</th>\n",
       "      <td>93027</td>\n",
       "      <td>33179</td>\n",
       "    </tr>\n",
       "    <tr>\n",
       "      <th>2022-05-01</th>\n",
       "      <td>512902</td>\n",
       "      <td>33179</td>\n",
       "    </tr>\n",
       "    <tr>\n",
       "      <th>2023-03-01</th>\n",
       "      <td>342111</td>\n",
       "      <td>33179</td>\n",
       "    </tr>\n",
       "    <tr>\n",
       "      <th>2021-01-01</th>\n",
       "      <td>518</td>\n",
       "      <td>33179</td>\n",
       "    </tr>\n",
       "    <tr>\n",
       "      <th>2021-05-01</th>\n",
       "      <td>24093</td>\n",
       "      <td>33179</td>\n",
       "    </tr>\n",
       "    <tr>\n",
       "      <th>2022-04-01</th>\n",
       "      <td>390074</td>\n",
       "      <td>33179</td>\n",
       "    </tr>\n",
       "    <tr>\n",
       "      <th>2022-10-01</th>\n",
       "      <td>677028</td>\n",
       "      <td>33179</td>\n",
       "    </tr>\n",
       "    <tr>\n",
       "      <th>2023-04-01</th>\n",
       "      <td>422702</td>\n",
       "      <td>33179</td>\n",
       "    </tr>\n",
       "    <tr>\n",
       "      <th>2021-10-01</th>\n",
       "      <td>295054</td>\n",
       "      <td>33179</td>\n",
       "    </tr>\n",
       "    <tr>\n",
       "      <th>2020-12-01</th>\n",
       "      <td>239</td>\n",
       "      <td>33179</td>\n",
       "    </tr>\n",
       "    <tr>\n",
       "      <th>2020-03-01</th>\n",
       "      <td>3070</td>\n",
       "      <td>33179</td>\n",
       "    </tr>\n",
       "    <tr>\n",
       "      <th>2020-04-01</th>\n",
       "      <td>23</td>\n",
       "      <td>33179</td>\n",
       "    </tr>\n",
       "    <tr>\n",
       "      <th>2020-07-01</th>\n",
       "      <td>6367</td>\n",
       "      <td>33179</td>\n",
       "    </tr>\n",
       "    <tr>\n",
       "      <th>2021-06-01</th>\n",
       "      <td>38735</td>\n",
       "      <td>33179</td>\n",
       "    </tr>\n",
       "    <tr>\n",
       "      <th>2021-09-01</th>\n",
       "      <td>219111</td>\n",
       "      <td>33179</td>\n",
       "    </tr>\n",
       "    <tr>\n",
       "      <th>2020-08-01</th>\n",
       "      <td>255</td>\n",
       "      <td>33179</td>\n",
       "    </tr>\n",
       "    <tr>\n",
       "      <th>2021-11-01</th>\n",
       "      <td>259312</td>\n",
       "      <td>33179</td>\n",
       "    </tr>\n",
       "    <tr>\n",
       "      <th>2022-07-01</th>\n",
       "      <td>686806</td>\n",
       "      <td>33179</td>\n",
       "    </tr>\n",
       "    <tr>\n",
       "      <th>2021-03-01</th>\n",
       "      <td>602</td>\n",
       "      <td>33179</td>\n",
       "    </tr>\n",
       "    <tr>\n",
       "      <th>2021-07-01</th>\n",
       "      <td>46005</td>\n",
       "      <td>33179</td>\n",
       "    </tr>\n",
       "    <tr>\n",
       "      <th>2023-08-01</th>\n",
       "      <td>591197</td>\n",
       "      <td>33179</td>\n",
       "    </tr>\n",
       "    <tr>\n",
       "      <th>2022-11-01</th>\n",
       "      <td>489963</td>\n",
       "      <td>33179</td>\n",
       "    </tr>\n",
       "    <tr>\n",
       "      <th>2020-11-01</th>\n",
       "      <td>308</td>\n",
       "      <td>33179</td>\n",
       "    </tr>\n",
       "    <tr>\n",
       "      <th>2022-02-01</th>\n",
       "      <td>97348</td>\n",
       "      <td>33179</td>\n",
       "    </tr>\n",
       "    <tr>\n",
       "      <th>2022-08-01</th>\n",
       "      <td>814091</td>\n",
       "      <td>33179</td>\n",
       "    </tr>\n",
       "    <tr>\n",
       "      <th>2020-10-01</th>\n",
       "      <td>644</td>\n",
       "      <td>33179</td>\n",
       "    </tr>\n",
       "    <tr>\n",
       "      <th>2023-09-01</th>\n",
       "      <td>521533</td>\n",
       "      <td>33179</td>\n",
       "    </tr>\n",
       "    <tr>\n",
       "      <th>2020-05-01</th>\n",
       "      <td>4</td>\n",
       "      <td>33179</td>\n",
       "    </tr>\n",
       "    <tr>\n",
       "      <th>2022-03-01</th>\n",
       "      <td>151931</td>\n",
       "      <td>33179</td>\n",
       "    </tr>\n",
       "  </tbody>\n",
       "</table>\n",
       "</div>"
      ],
      "text/plain": [
       "            net_payment_count     id\n",
       "month_id                            \n",
       "2023-07-01             608646  33179\n",
       "2023-06-01             485558  33179\n",
       "2021-04-01               1377  33179\n",
       "2023-02-01             225655  33179\n",
       "2020-02-01               2499  33179\n",
       "2021-12-01             175473  33179\n",
       "2020-01-01                787  33179\n",
       "2020-06-01               2030  33179\n",
       "2022-06-01             558958  33179\n",
       "2021-08-01              52382  33179\n",
       "2021-02-01                398  33179\n",
       "2023-01-01             343121  33179\n",
       "2022-12-01             392954  33179\n",
       "2020-09-01                459  33179\n",
       "2023-05-01             433289  33179\n",
       "2022-09-01             738558  33179\n",
       "2022-01-01              93027  33179\n",
       "2022-05-01             512902  33179\n",
       "2023-03-01             342111  33179\n",
       "2021-01-01                518  33179\n",
       "2021-05-01              24093  33179\n",
       "2022-04-01             390074  33179\n",
       "2022-10-01             677028  33179\n",
       "2023-04-01             422702  33179\n",
       "2021-10-01             295054  33179\n",
       "2020-12-01                239  33179\n",
       "2020-03-01               3070  33179\n",
       "2020-04-01                 23  33179\n",
       "2020-07-01               6367  33179\n",
       "2021-06-01              38735  33179\n",
       "2021-09-01             219111  33179\n",
       "2020-08-01                255  33179\n",
       "2021-11-01             259312  33179\n",
       "2022-07-01             686806  33179\n",
       "2021-03-01                602  33179\n",
       "2021-07-01              46005  33179\n",
       "2023-08-01             591197  33179\n",
       "2022-11-01             489963  33179\n",
       "2020-11-01                308  33179\n",
       "2022-02-01              97348  33179\n",
       "2022-08-01             814091  33179\n",
       "2020-10-01                644  33179\n",
       "2023-09-01             521533  33179\n",
       "2020-05-01                  4  33179\n",
       "2022-03-01             151931  33179"
      ]
     },
     "execution_count": 216,
     "metadata": {},
     "output_type": "execute_result"
    }
   ],
   "source": [
    "merchant_data = ts[ts['id'] == '33179']\n",
    "merchant_data\n"
   ]
  },
  {
   "cell_type": "code",
   "execution_count": 230,
   "metadata": {},
   "outputs": [
    {
     "name": "stdout",
     "output_type": "stream",
     "text": [
      "Performing stepwise search to minimize aic\n",
      " ARIMA(0,1,0)(1,0,1)[12] intercept   : AIC=1257.380, Time=0.48 sec\n",
      " ARIMA(0,1,0)(0,0,0)[12] intercept   : AIC=1255.136, Time=0.01 sec\n",
      " ARIMA(1,1,0)(1,0,0)[12] intercept   : AIC=1249.738, Time=0.08 sec\n",
      " ARIMA(0,1,1)(0,0,1)[12] intercept   : AIC=1233.400, Time=0.04 sec\n",
      " ARIMA(0,1,0)(0,0,0)[12]             : AIC=1253.184, Time=0.01 sec\n",
      " ARIMA(0,1,1)(0,0,0)[12] intercept   : AIC=1231.933, Time=0.02 sec\n",
      " ARIMA(0,1,1)(1,0,0)[12] intercept   : AIC=1233.045, Time=0.06 sec\n",
      " ARIMA(0,1,1)(1,0,1)[12] intercept   : AIC=inf, Time=0.58 sec\n",
      " ARIMA(1,1,1)(0,0,0)[12] intercept   : AIC=1233.959, Time=0.13 sec\n",
      " ARIMA(0,1,2)(0,0,0)[12] intercept   : AIC=1236.198, Time=0.12 sec\n",
      " ARIMA(1,1,0)(0,0,0)[12] intercept   : AIC=1248.102, Time=0.03 sec\n",
      " ARIMA(1,1,2)(0,0,0)[12] intercept   : AIC=1234.853, Time=0.27 sec\n",
      " ARIMA(0,1,1)(0,0,0)[12]             : AIC=1227.227, Time=0.09 sec\n",
      " ARIMA(0,1,1)(1,0,0)[12]             : AIC=1228.777, Time=0.07 sec\n",
      " ARIMA(0,1,1)(0,0,1)[12]             : AIC=1228.749, Time=0.15 sec\n",
      " ARIMA(0,1,1)(1,0,1)[12]             : AIC=1230.746, Time=0.10 sec\n",
      " ARIMA(1,1,1)(0,0,0)[12]             : AIC=1229.149, Time=0.04 sec\n",
      " ARIMA(0,1,2)(0,0,0)[12]             : AIC=1229.747, Time=0.04 sec\n",
      " ARIMA(1,1,0)(0,0,0)[12]             : AIC=1246.142, Time=0.01 sec\n",
      " ARIMA(1,1,2)(0,0,0)[12]             : AIC=1230.161, Time=0.09 sec\n",
      "\n",
      "Best model:  ARIMA(0,1,1)(0,0,0)[12]          \n",
      "Total fit time: 2.574 seconds\n",
      "                               SARIMAX Results                                \n",
      "==============================================================================\n",
      "Dep. Variable:                      y   No. Observations:                   45\n",
      "Model:               SARIMAX(0, 1, 1)   Log Likelihood                -611.613\n",
      "Date:                Sun, 04 Feb 2024   AIC                           1227.227\n",
      "Time:                        11:32:38   BIC                           1230.795\n",
      "Sample:                             0   HQIC                          1228.550\n",
      "                                 - 45                                         \n",
      "Covariance Type:                  opg                                         \n",
      "==============================================================================\n",
      "                 coef    std err          z      P>|z|      [0.025      0.975]\n",
      "------------------------------------------------------------------------------\n",
      "ma.L1         -0.9800      0.294     -3.328      0.001      -1.557      -0.403\n",
      "sigma2      8.313e+10   2.21e-12   3.75e+22      0.000    8.31e+10    8.31e+10\n",
      "===================================================================================\n",
      "Ljung-Box (L1) (Q):                   0.13   Jarque-Bera (JB):                 4.75\n",
      "Prob(Q):                              0.72   Prob(JB):                         0.09\n",
      "Heteroskedasticity (H):               1.33   Skew:                             0.71\n",
      "Prob(H) (two-sided):                  0.59   Kurtosis:                         2.25\n",
      "===================================================================================\n",
      "\n",
      "Warnings:\n",
      "[1] Covariance matrix calculated using the outer product of gradients (complex-step).\n",
      "[2] Covariance matrix is singular or near-singular, with condition number    inf. Standard errors may be unstable.\n"
     ]
    }
   ],
   "source": [
    "from statsmodels.tsa.arima_model import ARIMA\n",
    "import pmdarima as pm\n",
    "\n",
    "merchant_data = ts[ts['id'] == '33179']\n",
    "\n",
    "data = merchant_data['net_payment_count']\n",
    "seasonal = True\n",
    "\n",
    "model = pm.auto_arima(data, \n",
    "                      m=12,               # frequency of series                      \n",
    "                      seasonal=seasonal,  # TRUE if seasonal series\n",
    "                      d=None,             # let model determine 'd'\n",
    "                      test='adf',         # use adftest to find optimal 'd'\n",
    "                      start_p=0, start_q=0, # minimum p and q\n",
    "                      max_p=3, max_q=3,   # maximum p and q\n",
    "                      D=None,             # let model determine 'D'\n",
    "                      trace=True,\n",
    "                      error_action='ignore',  \n",
    "                      suppress_warnings=True, \n",
    "                      stepwise=True)\n",
    "\n",
    "# print model summary\n",
    "print(model.summary())"
   ]
  },
  {
   "cell_type": "code",
   "execution_count": 243,
   "metadata": {},
   "outputs": [
    {
     "data": {
      "text/plain": [
       "array([233459.9934855, 233459.9934855, 233459.9934855, 233459.9934855,\n",
       "       233459.9934855, 233459.9934855, 233459.9934855, 233459.9934855,\n",
       "       233459.9934855, 233459.9934855])"
      ]
     },
     "execution_count": 243,
     "metadata": {},
     "output_type": "execute_result"
    }
   ],
   "source": [
    "prediction, confint = model.predict(n_periods=TEST_SIZE, return_conf_int=True)\n",
    "\n",
    "prediction"
   ]
  },
  {
   "cell_type": "code",
   "execution_count": 244,
   "metadata": {},
   "outputs": [],
   "source": [
    "cf= pd.DataFrame(confint)\n"
   ]
  },
  {
   "cell_type": "code",
   "execution_count": 280,
   "metadata": {},
   "outputs": [
    {
     "data": {
      "text/plain": [
       "((35, 2), (35,), (10, 2), (10,))"
      ]
     },
     "execution_count": 280,
     "metadata": {},
     "output_type": "execute_result"
    }
   ],
   "source": [
    "TEST_SIZE = 10\n",
    "train, test = merchant_data.iloc[:-TEST_SIZE], merchant_data.iloc[-TEST_SIZE:]\n",
    "x_train, x_test = np.array(range(train.shape[0])), np.array(range(train.shape[0], ts[ts['id'] == '33179'].shape[0]))\n",
    "train.shape, x_train.shape, test.shape, x_test.shape\n"
   ]
  },
  {
   "cell_type": "code",
   "execution_count": 249,
   "metadata": {},
   "outputs": [],
   "source": [
    "pred_df = x_test.copy()\n"
   ]
  },
  {
   "cell_type": "code",
   "execution_count": null,
   "metadata": {},
   "outputs": [],
   "source": [
    "fig, ax = plt.subplots(1, 1, figsize=(15, 5))\n",
    "ax.plot(x_train, train)\n",
    "ax.plot(x_test, test)"
   ]
  },
  {
   "cell_type": "code",
   "execution_count": 42,
   "metadata": {},
   "outputs": [
    {
     "data": {
      "text/html": [
       "<div>\n",
       "<style scoped>\n",
       "    .dataframe tbody tr th:only-of-type {\n",
       "        vertical-align: middle;\n",
       "    }\n",
       "\n",
       "    .dataframe tbody tr th {\n",
       "        vertical-align: top;\n",
       "    }\n",
       "\n",
       "    .dataframe thead th {\n",
       "        text-align: right;\n",
       "    }\n",
       "</style>\n",
       "<table border=\"1\" class=\"dataframe\">\n",
       "  <thead>\n",
       "    <tr style=\"text-align: right;\">\n",
       "      <th></th>\n",
       "      <th>net_payment_count</th>\n",
       "      <th>id</th>\n",
       "    </tr>\n",
       "    <tr>\n",
       "      <th>month_id</th>\n",
       "      <th></th>\n",
       "      <th></th>\n",
       "    </tr>\n",
       "  </thead>\n",
       "  <tbody>\n",
       "    <tr>\n",
       "      <th>2022-10-01</th>\n",
       "      <td>3</td>\n",
       "      <td>1</td>\n",
       "    </tr>\n",
       "    <tr>\n",
       "      <th>2021-08-01</th>\n",
       "      <td>3</td>\n",
       "      <td>1</td>\n",
       "    </tr>\n",
       "    <tr>\n",
       "      <th>2022-03-01</th>\n",
       "      <td>9</td>\n",
       "      <td>10</td>\n",
       "    </tr>\n",
       "    <tr>\n",
       "      <th>2021-11-01</th>\n",
       "      <td>6</td>\n",
       "      <td>10</td>\n",
       "    </tr>\n",
       "    <tr>\n",
       "      <th>2022-04-01</th>\n",
       "      <td>4</td>\n",
       "      <td>10</td>\n",
       "    </tr>\n",
       "    <tr>\n",
       "      <th>...</th>\n",
       "      <td>...</td>\n",
       "      <td>...</td>\n",
       "    </tr>\n",
       "    <tr>\n",
       "      <th>2023-06-01</th>\n",
       "      <td>4</td>\n",
       "      <td>9993</td>\n",
       "    </tr>\n",
       "    <tr>\n",
       "      <th>2022-12-01</th>\n",
       "      <td>3</td>\n",
       "      <td>9993</td>\n",
       "    </tr>\n",
       "    <tr>\n",
       "      <th>2023-02-01</th>\n",
       "      <td>3</td>\n",
       "      <td>9993</td>\n",
       "    </tr>\n",
       "    <tr>\n",
       "      <th>2022-10-01</th>\n",
       "      <td>8</td>\n",
       "      <td>9993</td>\n",
       "    </tr>\n",
       "    <tr>\n",
       "      <th>2022-11-01</th>\n",
       "      <td>3</td>\n",
       "      <td>9993</td>\n",
       "    </tr>\n",
       "  </tbody>\n",
       "</table>\n",
       "<p>291142 rows × 2 columns</p>\n",
       "</div>"
      ],
      "text/plain": [
       "            net_payment_count    id\n",
       "month_id                           \n",
       "2022-10-01                  3     1\n",
       "2021-08-01                  3     1\n",
       "2022-03-01                  9    10\n",
       "2021-11-01                  6    10\n",
       "2022-04-01                  4    10\n",
       "...                       ...   ...\n",
       "2023-06-01                  4  9993\n",
       "2022-12-01                  3  9993\n",
       "2023-02-01                  3  9993\n",
       "2022-10-01                  8  9993\n",
       "2022-11-01                  3  9993\n",
       "\n",
       "[291142 rows x 2 columns]"
      ]
     },
     "execution_count": 42,
     "metadata": {},
     "output_type": "execute_result"
    }
   ],
   "source": [
    "ts"
   ]
  },
  {
   "cell_type": "code",
   "execution_count": 285,
   "metadata": {},
   "outputs": [
    {
     "data": {
      "image/png": "[encoded data removed]",
      "text/plain": [
       "<Figure size 1800x600 with 1 Axes>"
      ]
     },
     "metadata": {},
     "output_type": "display_data"
    }
   ],
   "source": [
    "data = ts[ts['id'] == '9993']\n",
    "merchant_data = data.sort_values(by=['month_id'])\n",
    "\n",
    "ts_log = np.log(merchant_data['net_payment_count'])\n",
    "\n",
    "ts_log_diff = ts_log - ts_log.shift()\n",
    "plt.plot(ts_log_diff)\n",
    "ts_log_diff.dropna(inplace=True)"
   ]
  },
  {
   "cell_type": "code",
   "execution_count": 292,
   "metadata": {},
   "outputs": [
    {
     "name": "stderr",
     "output_type": "stream",
     "text": [
      "/Users/seydanurkayir/Library/Python/3.9/lib/python/site-packages/statsmodels/tsa/base/tsa_model.py:471: ValueWarning: A date index has been provided, but it has no associated frequency information and so will be ignored when e.g. forecasting.\n",
      "  self._init_dates(dates, freq)\n",
      "/Users/seydanurkayir/Library/Python/3.9/lib/python/site-packages/statsmodels/tsa/base/tsa_model.py:471: ValueWarning: A date index has been provided, but it has no associated frequency information and so will be ignored when e.g. forecasting.\n",
      "  self._init_dates(dates, freq)\n",
      "/Users/seydanurkayir/Library/Python/3.9/lib/python/site-packages/statsmodels/tsa/base/tsa_model.py:471: ValueWarning: A date index has been provided, but it has no associated frequency information and so will be ignored when e.g. forecasting.\n",
      "  self._init_dates(dates, freq)\n",
      "/Users/seydanurkayir/Library/Python/3.9/lib/python/site-packages/statsmodels/tsa/statespace/sarimax.py:866: UserWarning: Too few observations to estimate starting parameters for ARMA and trend. All parameters except for variances will be set to zeros.\n",
      "  warn('Too few observations to estimate starting parameters%s.'\n"
     ]
    },
    {
     "data": {
      "text/plain": [
       "Text(0.5, 1.0, 'RSS: nan')"
      ]
     },
     "execution_count": 292,
     "metadata": {},
     "output_type": "execute_result"
    },
    {
     "data": {
      "image/png": "[encoded data removed]",
      "text/plain": [
       "<Figure size 1800x600 with 1 Axes>"
      ]
     },
     "metadata": {},
     "output_type": "display_data"
    }
   ],
   "source": [
    "\n",
    "model = sm.tsa.arima.ARIMA(ts_log, order=(2, 1, 2))  \n",
    "results_ARIMA = model.fit()  \n",
    "plt.plot(ts_log_diff)\n",
    "plt.plot(results_ARIMA.fittedvalues, color='red')\n",
    "plt.title('RSS: %.4f'% sum((results_ARIMA.fittedvalues-ts_log_diff)**2))"
   ]
  },
  {
   "cell_type": "code",
   "execution_count": 294,
   "metadata": {},
   "outputs": [
    {
     "name": "stderr",
     "output_type": "stream",
     "text": [
      "/Users/seydanurkayir/Library/Python/3.9/lib/python/site-packages/statsmodels/tsa/base/tsa_model.py:834: ValueWarning: No supported index is available. Prediction results will be given with an integer index beginning at `start`.\n",
      "  return get_prediction_index(\n"
     ]
    }
   ],
   "source": [
    "y_pred = results_ARIMA.get_forecast(len(ts.index))\n"
   ]
  },
  {
   "cell_type": "code",
   "execution_count": 295,
   "metadata": {},
   "outputs": [
    {
     "ename": "TypeError",
     "evalue": "predict() missing 1 required positional argument: 'params'",
     "output_type": "error",
     "traceback": [
      "\u001b[0;31m---------------------------------------------------------------------------\u001b[0m",
      "\u001b[0;31mTypeError\u001b[0m                                 Traceback (most recent call last)",
      "Cell \u001b[0;32mIn[295], line 3\u001b[0m\n\u001b[1;32m      1\u001b[0m \u001b[39m#y_pred = model.get_forecast(len(ts.index))\u001b[39;00m\n\u001b[1;32m      2\u001b[0m y_pred_df \u001b[39m=\u001b[39m y_pred\u001b[39m.\u001b[39mconf_int(alpha \u001b[39m=\u001b[39m \u001b[39m0.05\u001b[39m) \n\u001b[0;32m----> 3\u001b[0m y_pred_df[\u001b[39m\"\u001b[39m\u001b[39mPredictions\u001b[39m\u001b[39m\"\u001b[39m] \u001b[39m=\u001b[39m model\u001b[39m.\u001b[39;49mpredict(start \u001b[39m=\u001b[39;49m y_pred_df\u001b[39m.\u001b[39;49mindex[\u001b[39m0\u001b[39;49m], end \u001b[39m=\u001b[39;49m y_pred_df\u001b[39m.\u001b[39;49mindex[\u001b[39m-\u001b[39;49m\u001b[39m1\u001b[39;49m])\n\u001b[1;32m      4\u001b[0m y_pred_df\u001b[39m.\u001b[39mindex \u001b[39m=\u001b[39m ts\u001b[39m.\u001b[39mindex\n\u001b[1;32m      5\u001b[0m y_pred_out \u001b[39m=\u001b[39m y_pred_df[\u001b[39m\"\u001b[39m\u001b[39mPredictions\u001b[39m\u001b[39m\"\u001b[39m] \n",
      "\u001b[0;31mTypeError\u001b[0m: predict() missing 1 required positional argument: 'params'"
     ]
    }
   ],
   "source": [
    "#y_pred = model.get_forecast(len(ts.index))\n",
    "y_pred_df = y_pred.conf_int(alpha = 0.05) \n",
    "y_pred_df[\"Predictions\"] = model.predict(start = y_pred_df.index[0], end = y_pred_df.index[-1])\n",
    "y_pred_df.index = ts.index\n",
    "y_pred_out = y_pred_df[\"Predictions\"] \n",
    "plt.plot(y_pred_out, color='Yellow', label = 'ARIMA Predictions')\n",
    "plt.legend()"
   ]
  },
  {
   "cell_type": "code",
   "execution_count": 297,
   "metadata": {},
   "outputs": [
    {
     "data": {
      "text/plain": [
       "291147"
      ]
     },
     "execution_count": 297,
     "metadata": {},
     "output_type": "execute_result"
    }
   ],
   "source": []
  },
  {
   "cell_type": "code",
   "execution_count": 73,
   "metadata": {},
   "outputs": [],
   "source": [
    "predictions_ARIMA_diff = pd.Series(results_ARIMA.fittedvalues, copy=True)\n",
    "\n",
    "\n",
    "predictions_ARIMA_diff_cumsum = predictions_ARIMA_diff.cumsum()"
   ]
  },
  {
   "cell_type": "code",
   "execution_count": 66,
   "metadata": {},
   "outputs": [
    {
     "ename": "KeyError",
     "evalue": "'id'",
     "output_type": "error",
     "traceback": [
      "\u001b[0;31m---------------------------------------------------------------------------\u001b[0m",
      "\u001b[0;31mDateParseError\u001b[0m                            Traceback (most recent call last)",
      "File \u001b[0;32m~/Library/Python/3.9/lib/python/site-packages/pandas/core/indexes/datetimes.py:557\u001b[0m, in \u001b[0;36mDatetimeIndex.get_loc\u001b[0;34m(self, key)\u001b[0m\n\u001b[1;32m    556\u001b[0m \u001b[39mtry\u001b[39;00m:\n\u001b[0;32m--> 557\u001b[0m     parsed, reso \u001b[39m=\u001b[39m \u001b[39mself\u001b[39;49m\u001b[39m.\u001b[39;49m_parse_with_reso(key)\n\u001b[1;32m    558\u001b[0m \u001b[39mexcept\u001b[39;00m (\u001b[39mValueError\u001b[39;00m, pytz\u001b[39m.\u001b[39mNonExistentTimeError) \u001b[39mas\u001b[39;00m err:\n",
      "File \u001b[0;32m~/Library/Python/3.9/lib/python/site-packages/pandas/core/indexes/datetimes.py:513\u001b[0m, in \u001b[0;36mDatetimeIndex._parse_with_reso\u001b[0;34m(self, label)\u001b[0m\n\u001b[1;32m    512\u001b[0m \u001b[39mdef\u001b[39;00m \u001b[39m_parse_with_reso\u001b[39m(\u001b[39mself\u001b[39m, label: \u001b[39mstr\u001b[39m):\n\u001b[0;32m--> 513\u001b[0m     parsed, reso \u001b[39m=\u001b[39m \u001b[39msuper\u001b[39;49m()\u001b[39m.\u001b[39;49m_parse_with_reso(label)\n\u001b[1;32m    515\u001b[0m     parsed \u001b[39m=\u001b[39m Timestamp(parsed)\n",
      "File \u001b[0;32m~/Library/Python/3.9/lib/python/site-packages/pandas/core/indexes/datetimelike.py:267\u001b[0m, in \u001b[0;36mDatetimeIndexOpsMixin._parse_with_reso\u001b[0;34m(self, label)\u001b[0m\n\u001b[1;32m    265\u001b[0m     label \u001b[39m=\u001b[39m \u001b[39mstr\u001b[39m(label)\n\u001b[0;32m--> 267\u001b[0m parsed, reso_str \u001b[39m=\u001b[39m parsing\u001b[39m.\u001b[39;49mparse_datetime_string_with_reso(label, freqstr)\n\u001b[1;32m    268\u001b[0m reso \u001b[39m=\u001b[39m Resolution\u001b[39m.\u001b[39mfrom_attrname(reso_str)\n",
      "File \u001b[0;32m~/Library/Python/3.9/lib/python/site-packages/pandas/_libs/tslibs/parsing.pyx:435\u001b[0m, in \u001b[0;36mpandas._libs.tslibs.parsing.parse_datetime_string_with_reso\u001b[0;34m()\u001b[0m\n",
      "File \u001b[0;32m~/Library/Python/3.9/lib/python/site-packages/pandas/_libs/tslibs/parsing.pyx:658\u001b[0m, in \u001b[0;36mpandas._libs.tslibs.parsing.dateutil_parse\u001b[0;34m()\u001b[0m\n",
      "\u001b[0;31mDateParseError\u001b[0m: Unknown datetime string format, unable to parse: id",
      "\nThe above exception was the direct cause of the following exception:\n",
      "\u001b[0;31mKeyError\u001b[0m                                  Traceback (most recent call last)",
      "Cell \u001b[0;32mIn[66], line 3\u001b[0m\n\u001b[1;32m      1\u001b[0m ts_log_moving_avg_diff \u001b[39m=\u001b[39m ts_log \u001b[39m-\u001b[39m moving_avg\n\u001b[1;32m      2\u001b[0m ts_log_moving_avg_diff\u001b[39m.\u001b[39mdropna(inplace\u001b[39m=\u001b[39m\u001b[39mTrue\u001b[39;00m)\n\u001b[0;32m----> 3\u001b[0m plot_merchant(ts_log_moving_avg_diff,\u001b[39m'\u001b[39;49m\u001b[39m66740\u001b[39;49m\u001b[39m'\u001b[39;49m)\n",
      "Cell \u001b[0;32mIn[56], line 2\u001b[0m, in \u001b[0;36mplot_merchant\u001b[0;34m(ts, id)\u001b[0m\n\u001b[1;32m      1\u001b[0m \u001b[39mdef\u001b[39;00m \u001b[39mplot_merchant\u001b[39m(ts, \u001b[39mid\u001b[39m):\n\u001b[0;32m----> 2\u001b[0m     merchant_data \u001b[39m=\u001b[39m ts[ts[\u001b[39m'\u001b[39;49m\u001b[39mid\u001b[39;49m\u001b[39m'\u001b[39;49m] \u001b[39m==\u001b[39m \u001b[39mid\u001b[39m]\n\u001b[1;32m      3\u001b[0m     ts_log \u001b[39m=\u001b[39m np\u001b[39m.\u001b[39mlog(merchant_data[\u001b[39m'\u001b[39m\u001b[39mnet_payment_count\u001b[39m\u001b[39m'\u001b[39m])\n\u001b[1;32m      4\u001b[0m     moving_avg \u001b[39m=\u001b[39m ts_log\u001b[39m.\u001b[39mrolling(\u001b[39m12\u001b[39m)\u001b[39m.\u001b[39mmean()\n",
      "File \u001b[0;32m~/Library/Python/3.9/lib/python/site-packages/pandas/core/series.py:1007\u001b[0m, in \u001b[0;36mSeries.__getitem__\u001b[0;34m(self, key)\u001b[0m\n\u001b[1;32m   1004\u001b[0m     \u001b[39mreturn\u001b[39;00m \u001b[39mself\u001b[39m\u001b[39m.\u001b[39m_values[key]\n\u001b[1;32m   1006\u001b[0m \u001b[39melif\u001b[39;00m key_is_scalar:\n\u001b[0;32m-> 1007\u001b[0m     \u001b[39mreturn\u001b[39;00m \u001b[39mself\u001b[39;49m\u001b[39m.\u001b[39;49m_get_value(key)\n\u001b[1;32m   1009\u001b[0m \u001b[39mif\u001b[39;00m is_hashable(key):\n\u001b[1;32m   1010\u001b[0m     \u001b[39m# Otherwise index.get_value will raise InvalidIndexError\u001b[39;00m\n\u001b[1;32m   1011\u001b[0m     \u001b[39mtry\u001b[39;00m:\n\u001b[1;32m   1012\u001b[0m         \u001b[39m# For labels that don't resolve as scalars like tuples and frozensets\u001b[39;00m\n",
      "File \u001b[0;32m~/Library/Python/3.9/lib/python/site-packages/pandas/core/series.py:1116\u001b[0m, in \u001b[0;36mSeries._get_value\u001b[0;34m(self, label, takeable)\u001b[0m\n\u001b[1;32m   1113\u001b[0m     \u001b[39mreturn\u001b[39;00m \u001b[39mself\u001b[39m\u001b[39m.\u001b[39m_values[label]\n\u001b[1;32m   1115\u001b[0m \u001b[39m# Similar to Index.get_value, but we do not fall back to positional\u001b[39;00m\n\u001b[0;32m-> 1116\u001b[0m loc \u001b[39m=\u001b[39m \u001b[39mself\u001b[39;49m\u001b[39m.\u001b[39;49mindex\u001b[39m.\u001b[39;49mget_loc(label)\n\u001b[1;32m   1118\u001b[0m \u001b[39mif\u001b[39;00m is_integer(loc):\n\u001b[1;32m   1119\u001b[0m     \u001b[39mreturn\u001b[39;00m \u001b[39mself\u001b[39m\u001b[39m.\u001b[39m_values[loc]\n",
      "File \u001b[0;32m~/Library/Python/3.9/lib/python/site-packages/pandas/core/indexes/datetimes.py:559\u001b[0m, in \u001b[0;36mDatetimeIndex.get_loc\u001b[0;34m(self, key)\u001b[0m\n\u001b[1;32m    557\u001b[0m     parsed, reso \u001b[39m=\u001b[39m \u001b[39mself\u001b[39m\u001b[39m.\u001b[39m_parse_with_reso(key)\n\u001b[1;32m    558\u001b[0m \u001b[39mexcept\u001b[39;00m (\u001b[39mValueError\u001b[39;00m, pytz\u001b[39m.\u001b[39mNonExistentTimeError) \u001b[39mas\u001b[39;00m err:\n\u001b[0;32m--> 559\u001b[0m     \u001b[39mraise\u001b[39;00m \u001b[39mKeyError\u001b[39;00m(key) \u001b[39mfrom\u001b[39;00m \u001b[39merr\u001b[39;00m\n\u001b[1;32m    560\u001b[0m \u001b[39mself\u001b[39m\u001b[39m.\u001b[39m_disallow_mismatched_indexing(parsed)\n\u001b[1;32m    562\u001b[0m \u001b[39mif\u001b[39;00m \u001b[39mself\u001b[39m\u001b[39m.\u001b[39m_can_partial_date_slice(reso):\n",
      "\u001b[0;31mKeyError\u001b[0m: 'id'"
     ]
    }
   ],
   "source": [
    "ts_log_moving_avg_diff = ts_log - moving_avg\n",
    "ts_log_moving_avg_diff.dropna(inplace=True)\n",
    "plot_merchant(ts_log_moving_avg_diff,'66740')"
   ]
  },
  {
   "cell_type": "code",
   "execution_count": null,
   "metadata": {},
   "outputs": [],
   "source": []
  },
  {
   "cell_type": "code",
   "execution_count": 39,
   "metadata": {},
   "outputs": [
    {
     "name": "stdout",
     "output_type": "stream",
     "text": [
      "<class 'pandas.core.frame.DataFrame'>\n",
      "DatetimeIndex: 291142 entries, 2022-10-01 to 2022-11-01\n",
      "Data columns (total 2 columns):\n",
      " #   Column             Non-Null Count   Dtype\n",
      "---  ------             --------------   -----\n",
      " 0   net_payment_count  291142 non-null  int64\n",
      " 1   id                 291142 non-null  int64\n",
      "dtypes: int64(2)\n",
      "memory usage: 6.7 MB\n",
      "None\n"
     ]
    }
   ],
   "source": [
    "print(ts.info())\n"
   ]
  },
  {
   "cell_type": "code",
   "execution_count": 257,
   "metadata": {},
   "outputs": [
    {
     "name": "stderr",
     "output_type": "stream",
     "text": [
      "/var/folders/cb/8__b21_56gd5ffsbpj2m5c6m0000gn/T/ipykernel_868/3700301516.py:3: UserWarning: \n",
      "\n",
      "`distplot` is a deprecated function and will be removed in seaborn v0.14.0.\n",
      "\n",
      "Please adapt your code to use either `displot` (a figure-level function with\n",
      "similar flexibility) or `histplot` (an axes-level function for histograms).\n",
      "\n",
      "For a guide to updating your code to use the new functions, please see\n",
      "https://gist.github.com/mwaskom/de44147ed2974457ad6372750bbe5751\n",
      "\n",
      "  ax = sns.distplot(ts[\"net_payment_count\"], color = 'y')\n"
     ]
    },
    {
     "data": {
      "image/png": "[encoded data removed]",
      "text/plain": [
       "<Figure size 700x500 with 1 Axes>"
      ]
     },
     "metadata": {},
     "output_type": "display_data"
    }
   ],
   "source": [
    "plt.figure(figsize=(7,5))\n",
    "plt.title(\"Price Distirbution Graph\")\n",
    "ax = sns.distplot(ts[\"net_payment_count\"], color = 'y')"
   ]
  },
  {
   "cell_type": "code",
   "execution_count": 258,
   "metadata": {},
   "outputs": [
    {
     "data": {
      "text/plain": [
       "Text(0.5, 1.0, 'Time Series')"
      ]
     },
     "execution_count": 258,
     "metadata": {},
     "output_type": "execute_result"
    },
    {
     "data": {
      "image/png": "[encoded data removed]",
      "text/plain": [
       "<Figure size 1200x500 with 1 Axes>"
      ]
     },
     "metadata": {},
     "output_type": "display_data"
    }
   ],
   "source": [
    "dategroup=ts.groupby(ts.index).mean()\n",
    "plt.figure(figsize=(12,5))\n",
    "dategroup['net_payment_count'].plot(x=ts.index)\n",
    "plt.title('Time Series')"
   ]
  },
  {
   "cell_type": "code",
   "execution_count": 42,
   "metadata": {},
   "outputs": [
    {
     "data": {
      "text/html": [
       "<div>\n",
       "<style scoped>\n",
       "    .dataframe tbody tr th:only-of-type {\n",
       "        vertical-align: middle;\n",
       "    }\n",
       "\n",
       "    .dataframe tbody tr th {\n",
       "        vertical-align: top;\n",
       "    }\n",
       "\n",
       "    .dataframe thead th {\n",
       "        text-align: right;\n",
       "    }\n",
       "</style>\n",
       "<table border=\"1\" class=\"dataframe\">\n",
       "  <thead>\n",
       "    <tr style=\"text-align: right;\">\n",
       "      <th></th>\n",
       "      <th>net_payment_count</th>\n",
       "      <th>id</th>\n",
       "    </tr>\n",
       "    <tr>\n",
       "      <th>month_id</th>\n",
       "      <th></th>\n",
       "      <th></th>\n",
       "    </tr>\n",
       "  </thead>\n",
       "  <tbody>\n",
       "    <tr>\n",
       "      <th>2020-01-01</th>\n",
       "      <td>3</td>\n",
       "      <td>10005</td>\n",
       "    </tr>\n",
       "    <tr>\n",
       "      <th>2020-02-01</th>\n",
       "      <td>4</td>\n",
       "      <td>10005</td>\n",
       "    </tr>\n",
       "    <tr>\n",
       "      <th>2020-02-01</th>\n",
       "      <td>5</td>\n",
       "      <td>10034</td>\n",
       "    </tr>\n",
       "    <tr>\n",
       "      <th>2020-01-01</th>\n",
       "      <td>5</td>\n",
       "      <td>10034</td>\n",
       "    </tr>\n",
       "    <tr>\n",
       "      <th>2020-01-01</th>\n",
       "      <td>5</td>\n",
       "      <td>10052</td>\n",
       "    </tr>\n",
       "    <tr>\n",
       "      <th>...</th>\n",
       "      <td>...</td>\n",
       "      <td>...</td>\n",
       "    </tr>\n",
       "    <tr>\n",
       "      <th>2020-02-01</th>\n",
       "      <td>15</td>\n",
       "      <td>9938</td>\n",
       "    </tr>\n",
       "    <tr>\n",
       "      <th>2020-01-01</th>\n",
       "      <td>16</td>\n",
       "      <td>9938</td>\n",
       "    </tr>\n",
       "    <tr>\n",
       "      <th>2020-01-01</th>\n",
       "      <td>3</td>\n",
       "      <td>9942</td>\n",
       "    </tr>\n",
       "    <tr>\n",
       "      <th>2020-02-01</th>\n",
       "      <td>3</td>\n",
       "      <td>9959</td>\n",
       "    </tr>\n",
       "    <tr>\n",
       "      <th>2020-02-01</th>\n",
       "      <td>3</td>\n",
       "      <td>9969</td>\n",
       "    </tr>\n",
       "  </tbody>\n",
       "</table>\n",
       "<p>7616 rows × 2 columns</p>\n",
       "</div>"
      ],
      "text/plain": [
       "            net_payment_count     id\n",
       "month_id                            \n",
       "2020-01-01                  3  10005\n",
       "2020-02-01                  4  10005\n",
       "2020-02-01                  5  10034\n",
       "2020-01-01                  5  10034\n",
       "2020-01-01                  5  10052\n",
       "...                       ...    ...\n",
       "2020-02-01                 15   9938\n",
       "2020-01-01                 16   9938\n",
       "2020-01-01                  3   9942\n",
       "2020-02-01                  3   9959\n",
       "2020-02-01                  3   9969\n",
       "\n",
       "[7616 rows x 2 columns]"
      ]
     },
     "execution_count": 42,
     "metadata": {},
     "output_type": "execute_result"
    }
   ],
   "source": [
    "ts[:'2020-02']"
   ]
  },
  {
   "cell_type": "code",
   "execution_count": null,
   "metadata": {},
   "outputs": [],
   "source": []
  }
 ],
 "metadata": {
  "kernelspec": {
   "display_name": "Python 3",
   "language": "python",
   "name": "python3"
  },
  "language_info": {
   "codemirror_mode": {
    "name": "ipython",
    "version": 3
   },
   "file_extension": ".py",
   "mimetype": "text/x-python",
   "name": "python",
   "nbconvert_exporter": "python",
   "pygments_lexer": "ipython3",
   "version": "3.9.6"
  },
  "orig_nbformat": 4
 },
 "nbformat": 4,
 "nbformat_minor": 2
}
