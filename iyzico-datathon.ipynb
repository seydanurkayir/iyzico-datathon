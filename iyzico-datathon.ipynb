{
 "cells": [
  {
   "cell_type": "code",
   "execution_count": 121,
   "metadata": {},
   "outputs": [],
   "source": [
    "import pandas as pd\n",
    "import numpy as np\n",
    "import matplotlib.pyplot as plt\n",
    "import seaborn as sns\n",
    "from datetime import datetime\n",
    "import statsmodels.api as sm\n",
    "from statsmodels.tsa.arima_model import ARIMA       \n"
   ]
  },
  {
   "cell_type": "code",
   "execution_count": 130,
   "metadata": {},
   "outputs": [
    {
     "data": {
      "text/html": [
       "<div>\n",
       "<style scoped>\n",
       "    .dataframe tbody tr th:only-of-type {\n",
       "        vertical-align: middle;\n",
       "    }\n",
       "\n",
       "    .dataframe tbody tr th {\n",
       "        vertical-align: top;\n",
       "    }\n",
       "\n",
       "    .dataframe thead th {\n",
       "        text-align: right;\n",
       "    }\n",
       "</style>\n",
       "<table border=\"1\" class=\"dataframe\">\n",
       "  <thead>\n",
       "    <tr style=\"text-align: right;\">\n",
       "      <th></th>\n",
       "      <th>merchant_id</th>\n",
       "      <th>month_id</th>\n",
       "      <th>merchant_source_name</th>\n",
       "      <th>settlement_period</th>\n",
       "      <th>working_type</th>\n",
       "      <th>mcc_id</th>\n",
       "      <th>merchant_segment</th>\n",
       "      <th>net_payment_count</th>\n",
       "    </tr>\n",
       "  </thead>\n",
       "  <tbody>\n",
       "    <tr>\n",
       "      <th>0</th>\n",
       "      <td>merchant_43992</td>\n",
       "      <td>202307</td>\n",
       "      <td>Merchant Source - 3</td>\n",
       "      <td>Settlement Period - 3</td>\n",
       "      <td>Working Type - 2</td>\n",
       "      <td>mcc_197</td>\n",
       "      <td>Segment - 2</td>\n",
       "      <td>15106</td>\n",
       "    </tr>\n",
       "    <tr>\n",
       "      <th>1</th>\n",
       "      <td>merchant_43992</td>\n",
       "      <td>202301</td>\n",
       "      <td>Merchant Source - 3</td>\n",
       "      <td>Settlement Period - 3</td>\n",
       "      <td>Working Type - 2</td>\n",
       "      <td>mcc_197</td>\n",
       "      <td>Segment - 2</td>\n",
       "      <td>16918</td>\n",
       "    </tr>\n",
       "    <tr>\n",
       "      <th>2</th>\n",
       "      <td>merchant_43992</td>\n",
       "      <td>202305</td>\n",
       "      <td>Merchant Source - 3</td>\n",
       "      <td>Settlement Period - 3</td>\n",
       "      <td>Working Type - 2</td>\n",
       "      <td>mcc_197</td>\n",
       "      <td>Segment - 2</td>\n",
       "      <td>13452</td>\n",
       "    </tr>\n",
       "    <tr>\n",
       "      <th>3</th>\n",
       "      <td>merchant_43992</td>\n",
       "      <td>202308</td>\n",
       "      <td>Merchant Source - 3</td>\n",
       "      <td>Settlement Period - 3</td>\n",
       "      <td>Working Type - 2</td>\n",
       "      <td>mcc_197</td>\n",
       "      <td>Segment - 2</td>\n",
       "      <td>16787</td>\n",
       "    </tr>\n",
       "    <tr>\n",
       "      <th>4</th>\n",
       "      <td>merchant_43992</td>\n",
       "      <td>202302</td>\n",
       "      <td>Merchant Source - 3</td>\n",
       "      <td>Settlement Period - 3</td>\n",
       "      <td>Working Type - 2</td>\n",
       "      <td>mcc_197</td>\n",
       "      <td>Segment - 2</td>\n",
       "      <td>12428</td>\n",
       "    </tr>\n",
       "  </tbody>\n",
       "</table>\n",
       "</div>"
      ],
      "text/plain": [
       "      merchant_id  month_id merchant_source_name      settlement_period   \n",
       "0  merchant_43992    202307  Merchant Source - 3  Settlement Period - 3  \\\n",
       "1  merchant_43992    202301  Merchant Source - 3  Settlement Period - 3   \n",
       "2  merchant_43992    202305  Merchant Source - 3  Settlement Period - 3   \n",
       "3  merchant_43992    202308  Merchant Source - 3  Settlement Period - 3   \n",
       "4  merchant_43992    202302  Merchant Source - 3  Settlement Period - 3   \n",
       "\n",
       "       working_type   mcc_id merchant_segment  net_payment_count  \n",
       "0  Working Type - 2  mcc_197      Segment - 2              15106  \n",
       "1  Working Type - 2  mcc_197      Segment - 2              16918  \n",
       "2  Working Type - 2  mcc_197      Segment - 2              13452  \n",
       "3  Working Type - 2  mcc_197      Segment - 2              16787  \n",
       "4  Working Type - 2  mcc_197      Segment - 2              12428  "
      ]
     },
     "execution_count": 130,
     "metadata": {},
     "output_type": "execute_result"
    }
   ],
   "source": [
    "train = pd.read_csv(\"/Users/seydanurkayir/Desktop/iyzico-datathon/train.csv\")\n",
    "train.head()"
   ]
  },
  {
   "cell_type": "code",
   "execution_count": 131,
   "metadata": {},
   "outputs": [
    {
     "data": {
      "text/html": [
       "<div>\n",
       "<style scoped>\n",
       "    .dataframe tbody tr th:only-of-type {\n",
       "        vertical-align: middle;\n",
       "    }\n",
       "\n",
       "    .dataframe tbody tr th {\n",
       "        vertical-align: top;\n",
       "    }\n",
       "\n",
       "    .dataframe thead th {\n",
       "        text-align: right;\n",
       "    }\n",
       "</style>\n",
       "<table border=\"1\" class=\"dataframe\">\n",
       "  <thead>\n",
       "    <tr style=\"text-align: right;\">\n",
       "      <th></th>\n",
       "      <th>merchant_id</th>\n",
       "      <th>month_id</th>\n",
       "      <th>merchant_source_name</th>\n",
       "      <th>settlement_period</th>\n",
       "      <th>working_type</th>\n",
       "      <th>mcc_id</th>\n",
       "      <th>merchant_segment</th>\n",
       "      <th>net_payment_count</th>\n",
       "      <th>sub_id</th>\n",
       "    </tr>\n",
       "  </thead>\n",
       "  <tbody>\n",
       "    <tr>\n",
       "      <th>0</th>\n",
       "      <td>merchant_43992</td>\n",
       "      <td>202307</td>\n",
       "      <td>Merchant Source - 3</td>\n",
       "      <td>Settlement Period - 3</td>\n",
       "      <td>Working Type - 2</td>\n",
       "      <td>mcc_197</td>\n",
       "      <td>Segment - 2</td>\n",
       "      <td>15106</td>\n",
       "      <td>202307merchant_43992</td>\n",
       "    </tr>\n",
       "    <tr>\n",
       "      <th>1</th>\n",
       "      <td>merchant_43992</td>\n",
       "      <td>202301</td>\n",
       "      <td>Merchant Source - 3</td>\n",
       "      <td>Settlement Period - 3</td>\n",
       "      <td>Working Type - 2</td>\n",
       "      <td>mcc_197</td>\n",
       "      <td>Segment - 2</td>\n",
       "      <td>16918</td>\n",
       "      <td>202301merchant_43992</td>\n",
       "    </tr>\n",
       "    <tr>\n",
       "      <th>2</th>\n",
       "      <td>merchant_43992</td>\n",
       "      <td>202305</td>\n",
       "      <td>Merchant Source - 3</td>\n",
       "      <td>Settlement Period - 3</td>\n",
       "      <td>Working Type - 2</td>\n",
       "      <td>mcc_197</td>\n",
       "      <td>Segment - 2</td>\n",
       "      <td>13452</td>\n",
       "      <td>202305merchant_43992</td>\n",
       "    </tr>\n",
       "    <tr>\n",
       "      <th>3</th>\n",
       "      <td>merchant_43992</td>\n",
       "      <td>202308</td>\n",
       "      <td>Merchant Source - 3</td>\n",
       "      <td>Settlement Period - 3</td>\n",
       "      <td>Working Type - 2</td>\n",
       "      <td>mcc_197</td>\n",
       "      <td>Segment - 2</td>\n",
       "      <td>16787</td>\n",
       "      <td>202308merchant_43992</td>\n",
       "    </tr>\n",
       "    <tr>\n",
       "      <th>4</th>\n",
       "      <td>merchant_43992</td>\n",
       "      <td>202302</td>\n",
       "      <td>Merchant Source - 3</td>\n",
       "      <td>Settlement Period - 3</td>\n",
       "      <td>Working Type - 2</td>\n",
       "      <td>mcc_197</td>\n",
       "      <td>Segment - 2</td>\n",
       "      <td>12428</td>\n",
       "      <td>202302merchant_43992</td>\n",
       "    </tr>\n",
       "  </tbody>\n",
       "</table>\n",
       "</div>"
      ],
      "text/plain": [
       "      merchant_id  month_id merchant_source_name      settlement_period   \n",
       "0  merchant_43992    202307  Merchant Source - 3  Settlement Period - 3  \\\n",
       "1  merchant_43992    202301  Merchant Source - 3  Settlement Period - 3   \n",
       "2  merchant_43992    202305  Merchant Source - 3  Settlement Period - 3   \n",
       "3  merchant_43992    202308  Merchant Source - 3  Settlement Period - 3   \n",
       "4  merchant_43992    202302  Merchant Source - 3  Settlement Period - 3   \n",
       "\n",
       "       working_type   mcc_id merchant_segment  net_payment_count   \n",
       "0  Working Type - 2  mcc_197      Segment - 2              15106  \\\n",
       "1  Working Type - 2  mcc_197      Segment - 2              16918   \n",
       "2  Working Type - 2  mcc_197      Segment - 2              13452   \n",
       "3  Working Type - 2  mcc_197      Segment - 2              16787   \n",
       "4  Working Type - 2  mcc_197      Segment - 2              12428   \n",
       "\n",
       "                 sub_id  \n",
       "0  202307merchant_43992  \n",
       "1  202301merchant_43992  \n",
       "2  202305merchant_43992  \n",
       "3  202308merchant_43992  \n",
       "4  202302merchant_43992  "
      ]
     },
     "execution_count": 131,
     "metadata": {},
     "output_type": "execute_result"
    }
   ],
   "source": [
    "train['sub_id'] = train['month_id'].astype(str) + train['merchant_id'].astype(str)\n",
    "train.head()"
   ]
  },
  {
   "cell_type": "code",
   "execution_count": 132,
   "metadata": {},
   "outputs": [
    {
     "data": {
      "text/html": [
       "<div>\n",
       "<style scoped>\n",
       "    .dataframe tbody tr th:only-of-type {\n",
       "        vertical-align: middle;\n",
       "    }\n",
       "\n",
       "    .dataframe tbody tr th {\n",
       "        vertical-align: top;\n",
       "    }\n",
       "\n",
       "    .dataframe thead th {\n",
       "        text-align: right;\n",
       "    }\n",
       "</style>\n",
       "<table border=\"1\" class=\"dataframe\">\n",
       "  <thead>\n",
       "    <tr style=\"text-align: right;\">\n",
       "      <th></th>\n",
       "      <th>id</th>\n",
       "      <th>net_payment_count</th>\n",
       "    </tr>\n",
       "  </thead>\n",
       "  <tbody>\n",
       "    <tr>\n",
       "      <th>0</th>\n",
       "      <td>202311merchant_36004</td>\n",
       "      <td>0</td>\n",
       "    </tr>\n",
       "  </tbody>\n",
       "</table>\n",
       "</div>"
      ],
      "text/plain": [
       "                     id  net_payment_count\n",
       "0  202311merchant_36004                  0"
      ]
     },
     "execution_count": 132,
     "metadata": {},
     "output_type": "execute_result"
    }
   ],
   "source": [
    "sub = pd.read_csv(\"/Users/seydanurkayir/Desktop/iyzico-datathon/sample_submission.csv\")\n",
    "sub.head(1)"
   ]
  },
  {
   "cell_type": "code",
   "execution_count": 133,
   "metadata": {},
   "outputs": [
    {
     "name": "stdout",
     "output_type": "stream",
     "text": [
      "<class 'pandas.core.frame.DataFrame'>\n",
      "Index: 291142 entries, 63650 to 291141\n",
      "Data columns (total 9 columns):\n",
      " #   Column                Non-Null Count   Dtype         \n",
      "---  ------                --------------   -----         \n",
      " 0   merchant_id           291142 non-null  object        \n",
      " 1   month_id              291142 non-null  datetime64[ns]\n",
      " 2   merchant_source_name  291142 non-null  object        \n",
      " 3   settlement_period     291142 non-null  object        \n",
      " 4   working_type          291142 non-null  object        \n",
      " 5   mcc_id                291142 non-null  object        \n",
      " 6   merchant_segment      291142 non-null  object        \n",
      " 7   net_payment_count     291142 non-null  int64         \n",
      " 8   sub_id                291142 non-null  object        \n",
      "dtypes: datetime64[ns](1), int64(1), object(7)\n",
      "memory usage: 22.2+ MB\n"
     ]
    }
   ],
   "source": [
    "train[\"month_id\"] = pd.to_datetime(train[\"month_id\"], format=\"%Y%m\")\n",
    "\n",
    "train = train.sort_values(by='month_id')\n",
    "train['month_id'] = train['month_id'].astype('datetime64[ns]')\n",
    "\n",
    "train.info()"
   ]
  },
  {
   "cell_type": "code",
   "execution_count": 86,
   "metadata": {},
   "outputs": [],
   "source": [
    "#train.index = pd.to_period(train.index, freq='M')\n",
    "\n",
    "#train.index = pd.to_datetime(train.index)\n",
    "#month_index = train.index.to_period('M')\n",
    "\n",
    "#train.index.to_period(\"M\")\n",
    "#train_index = train['month_id'].strftime('%Y-%m')"
   ]
  },
  {
   "cell_type": "code",
   "execution_count": 134,
   "metadata": {},
   "outputs": [
    {
     "data": {
      "text/plain": [
       "DatetimeIndex(['2020-01-01', '2020-01-01', '2020-01-01', '2020-01-01',\n",
       "               '2020-01-01', '2020-01-01', '2020-01-01', '2020-01-01',\n",
       "               '2020-01-01', '2020-01-01',\n",
       "               ...\n",
       "               '2023-09-01', '2023-09-01', '2023-09-01', '2023-09-01',\n",
       "               '2023-09-01', '2023-09-01', '2023-09-01', '2023-09-01',\n",
       "               '2023-09-01', '2023-09-01'],\n",
       "              dtype='datetime64[ns]', name='month_id', length=291142, freq=None)"
      ]
     },
     "execution_count": 134,
     "metadata": {},
     "output_type": "execute_result"
    }
   ],
   "source": [
    "train['month_id']=pd.to_datetime(train['month_id'])\n",
    "train.set_index('month_id', inplace=True)\n",
    "\n",
    "train.index"
   ]
  },
  {
   "cell_type": "code",
   "execution_count": 135,
   "metadata": {},
   "outputs": [],
   "source": [
    "train[[\"merchant\",\"id\"]] = train[\"merchant_id\"].str.split(\"_\", expand=True)\n"
   ]
  },
  {
   "cell_type": "code",
   "execution_count": 136,
   "metadata": {},
   "outputs": [
    {
     "data": {
      "text/html": [
       "<div>\n",
       "<style scoped>\n",
       "    .dataframe tbody tr th:only-of-type {\n",
       "        vertical-align: middle;\n",
       "    }\n",
       "\n",
       "    .dataframe tbody tr th {\n",
       "        vertical-align: top;\n",
       "    }\n",
       "\n",
       "    .dataframe thead th {\n",
       "        text-align: right;\n",
       "    }\n",
       "</style>\n",
       "<table border=\"1\" class=\"dataframe\">\n",
       "  <thead>\n",
       "    <tr style=\"text-align: right;\">\n",
       "      <th></th>\n",
       "      <th>merchant_source_name</th>\n",
       "      <th>settlement_period</th>\n",
       "      <th>working_type</th>\n",
       "      <th>mcc_id</th>\n",
       "      <th>merchant_segment</th>\n",
       "      <th>net_payment_count</th>\n",
       "      <th>sub_id</th>\n",
       "      <th>id</th>\n",
       "    </tr>\n",
       "    <tr>\n",
       "      <th>month_id</th>\n",
       "      <th></th>\n",
       "      <th></th>\n",
       "      <th></th>\n",
       "      <th></th>\n",
       "      <th></th>\n",
       "      <th></th>\n",
       "      <th></th>\n",
       "      <th></th>\n",
       "    </tr>\n",
       "  </thead>\n",
       "  <tbody>\n",
       "    <tr>\n",
       "      <th>2020-01-01</th>\n",
       "      <td>Merchant Source - 1</td>\n",
       "      <td>Settlement Period - 1</td>\n",
       "      <td>Working Type - 6</td>\n",
       "      <td>mcc_130</td>\n",
       "      <td>Segment - 4</td>\n",
       "      <td>6</td>\n",
       "      <td>202001merchant_66740</td>\n",
       "      <td>66740</td>\n",
       "    </tr>\n",
       "    <tr>\n",
       "      <th>2020-01-01</th>\n",
       "      <td>Merchant Source - 1</td>\n",
       "      <td>Settlement Period - 1</td>\n",
       "      <td>Working Type - 2</td>\n",
       "      <td>mcc_153</td>\n",
       "      <td>Segment - 4</td>\n",
       "      <td>3</td>\n",
       "      <td>202001merchant_12444</td>\n",
       "      <td>12444</td>\n",
       "    </tr>\n",
       "    <tr>\n",
       "      <th>2020-01-01</th>\n",
       "      <td>Merchant Source - 2</td>\n",
       "      <td>Settlement Period - 1</td>\n",
       "      <td>Working Type - 5</td>\n",
       "      <td>mcc_168</td>\n",
       "      <td>Segment - 4</td>\n",
       "      <td>3</td>\n",
       "      <td>202001merchant_40154</td>\n",
       "      <td>40154</td>\n",
       "    </tr>\n",
       "    <tr>\n",
       "      <th>2020-01-01</th>\n",
       "      <td>Merchant Source - 3</td>\n",
       "      <td>Settlement Period - 3</td>\n",
       "      <td>Working Type - 2</td>\n",
       "      <td>mcc_25</td>\n",
       "      <td>Segment - 2</td>\n",
       "      <td>787</td>\n",
       "      <td>202001merchant_33179</td>\n",
       "      <td>33179</td>\n",
       "    </tr>\n",
       "    <tr>\n",
       "      <th>2020-01-01</th>\n",
       "      <td>Merchant Source - 2</td>\n",
       "      <td>Settlement Period - 1</td>\n",
       "      <td>Working Type - 6</td>\n",
       "      <td>mcc_31</td>\n",
       "      <td>Segment - 4</td>\n",
       "      <td>5</td>\n",
       "      <td>202001merchant_16977</td>\n",
       "      <td>16977</td>\n",
       "    </tr>\n",
       "  </tbody>\n",
       "</table>\n",
       "</div>"
      ],
      "text/plain": [
       "           merchant_source_name      settlement_period      working_type   \n",
       "month_id                                                                   \n",
       "2020-01-01  Merchant Source - 1  Settlement Period - 1  Working Type - 6  \\\n",
       "2020-01-01  Merchant Source - 1  Settlement Period - 1  Working Type - 2   \n",
       "2020-01-01  Merchant Source - 2  Settlement Period - 1  Working Type - 5   \n",
       "2020-01-01  Merchant Source - 3  Settlement Period - 3  Working Type - 2   \n",
       "2020-01-01  Merchant Source - 2  Settlement Period - 1  Working Type - 6   \n",
       "\n",
       "             mcc_id merchant_segment  net_payment_count                sub_id   \n",
       "month_id                                                                        \n",
       "2020-01-01  mcc_130      Segment - 4                  6  202001merchant_66740  \\\n",
       "2020-01-01  mcc_153      Segment - 4                  3  202001merchant_12444   \n",
       "2020-01-01  mcc_168      Segment - 4                  3  202001merchant_40154   \n",
       "2020-01-01   mcc_25      Segment - 2                787  202001merchant_33179   \n",
       "2020-01-01   mcc_31      Segment - 4                  5  202001merchant_16977   \n",
       "\n",
       "               id  \n",
       "month_id           \n",
       "2020-01-01  66740  \n",
       "2020-01-01  12444  \n",
       "2020-01-01  40154  \n",
       "2020-01-01  33179  \n",
       "2020-01-01  16977  "
      ]
     },
     "execution_count": 136,
     "metadata": {},
     "output_type": "execute_result"
    }
   ],
   "source": [
    "train.drop(['merchant_id','merchant'], axis=1, inplace=True)\n",
    "train.head()"
   ]
  },
  {
   "cell_type": "code",
   "execution_count": 137,
   "metadata": {},
   "outputs": [
    {
     "data": {
      "text/html": [
       "<div>\n",
       "<style scoped>\n",
       "    .dataframe tbody tr th:only-of-type {\n",
       "        vertical-align: middle;\n",
       "    }\n",
       "\n",
       "    .dataframe tbody tr th {\n",
       "        vertical-align: top;\n",
       "    }\n",
       "\n",
       "    .dataframe thead th {\n",
       "        text-align: right;\n",
       "    }\n",
       "</style>\n",
       "<table border=\"1\" class=\"dataframe\">\n",
       "  <thead>\n",
       "    <tr style=\"text-align: right;\">\n",
       "      <th></th>\n",
       "      <th>merchant_source_name</th>\n",
       "      <th>settlement_period</th>\n",
       "      <th>working_type</th>\n",
       "      <th>mcc_id</th>\n",
       "      <th>merchant_segment</th>\n",
       "      <th>net_payment_count</th>\n",
       "      <th>sub_id</th>\n",
       "      <th>id</th>\n",
       "    </tr>\n",
       "    <tr>\n",
       "      <th>month_id</th>\n",
       "      <th></th>\n",
       "      <th></th>\n",
       "      <th></th>\n",
       "      <th></th>\n",
       "      <th></th>\n",
       "      <th></th>\n",
       "      <th></th>\n",
       "      <th></th>\n",
       "    </tr>\n",
       "  </thead>\n",
       "  <tbody>\n",
       "    <tr>\n",
       "      <th>2022-10-01</th>\n",
       "      <td>Merchant Source - 2</td>\n",
       "      <td>Settlement Period - 1</td>\n",
       "      <td>Working Type - 5</td>\n",
       "      <td>mcc_128</td>\n",
       "      <td>Segment - 4</td>\n",
       "      <td>3</td>\n",
       "      <td>202210merchant_1</td>\n",
       "      <td>1</td>\n",
       "    </tr>\n",
       "    <tr>\n",
       "      <th>2021-08-01</th>\n",
       "      <td>Merchant Source - 2</td>\n",
       "      <td>Settlement Period - 1</td>\n",
       "      <td>Working Type - 5</td>\n",
       "      <td>mcc_128</td>\n",
       "      <td>Segment - 4</td>\n",
       "      <td>3</td>\n",
       "      <td>202108merchant_1</td>\n",
       "      <td>1</td>\n",
       "    </tr>\n",
       "    <tr>\n",
       "      <th>2022-03-01</th>\n",
       "      <td>Merchant Source - 2</td>\n",
       "      <td>Settlement Period - 3</td>\n",
       "      <td>Working Type - 6</td>\n",
       "      <td>mcc_42</td>\n",
       "      <td>Segment - 4</td>\n",
       "      <td>9</td>\n",
       "      <td>202203merchant_10</td>\n",
       "      <td>10</td>\n",
       "    </tr>\n",
       "    <tr>\n",
       "      <th>2021-11-01</th>\n",
       "      <td>Merchant Source - 2</td>\n",
       "      <td>Settlement Period - 3</td>\n",
       "      <td>Working Type - 6</td>\n",
       "      <td>mcc_42</td>\n",
       "      <td>Segment - 4</td>\n",
       "      <td>6</td>\n",
       "      <td>202111merchant_10</td>\n",
       "      <td>10</td>\n",
       "    </tr>\n",
       "    <tr>\n",
       "      <th>2022-04-01</th>\n",
       "      <td>Merchant Source - 2</td>\n",
       "      <td>Settlement Period - 3</td>\n",
       "      <td>Working Type - 6</td>\n",
       "      <td>mcc_42</td>\n",
       "      <td>Segment - 4</td>\n",
       "      <td>4</td>\n",
       "      <td>202204merchant_10</td>\n",
       "      <td>10</td>\n",
       "    </tr>\n",
       "  </tbody>\n",
       "</table>\n",
       "</div>"
      ],
      "text/plain": [
       "           merchant_source_name      settlement_period      working_type   \n",
       "month_id                                                                   \n",
       "2022-10-01  Merchant Source - 2  Settlement Period - 1  Working Type - 5  \\\n",
       "2021-08-01  Merchant Source - 2  Settlement Period - 1  Working Type - 5   \n",
       "2022-03-01  Merchant Source - 2  Settlement Period - 3  Working Type - 6   \n",
       "2021-11-01  Merchant Source - 2  Settlement Period - 3  Working Type - 6   \n",
       "2022-04-01  Merchant Source - 2  Settlement Period - 3  Working Type - 6   \n",
       "\n",
       "             mcc_id merchant_segment  net_payment_count             sub_id  id  \n",
       "month_id                                                                        \n",
       "2022-10-01  mcc_128      Segment - 4                  3   202210merchant_1   1  \n",
       "2021-08-01  mcc_128      Segment - 4                  3   202108merchant_1   1  \n",
       "2022-03-01   mcc_42      Segment - 4                  9  202203merchant_10  10  \n",
       "2021-11-01   mcc_42      Segment - 4                  6  202111merchant_10  10  \n",
       "2022-04-01   mcc_42      Segment - 4                  4  202204merchant_10  10  "
      ]
     },
     "execution_count": 137,
     "metadata": {},
     "output_type": "execute_result"
    }
   ],
   "source": [
    "result = train.sort_values(by=['id'])\n",
    "result.head()"
   ]
  },
  {
   "cell_type": "code",
   "execution_count": null,
   "metadata": {},
   "outputs": [],
   "source": [
    "result = train.groupby('id')\n",
    "result.describe()"
   ]
  },
  {
   "cell_type": "code",
   "execution_count": 138,
   "metadata": {},
   "outputs": [
    {
     "data": {
      "text/html": [
       "<div>\n",
       "<style scoped>\n",
       "    .dataframe tbody tr th:only-of-type {\n",
       "        vertical-align: middle;\n",
       "    }\n",
       "\n",
       "    .dataframe tbody tr th {\n",
       "        vertical-align: top;\n",
       "    }\n",
       "\n",
       "    .dataframe thead th {\n",
       "        text-align: right;\n",
       "    }\n",
       "</style>\n",
       "<table border=\"1\" class=\"dataframe\">\n",
       "  <thead>\n",
       "    <tr style=\"text-align: right;\">\n",
       "      <th></th>\n",
       "      <th>net_payment_count</th>\n",
       "      <th>id</th>\n",
       "    </tr>\n",
       "    <tr>\n",
       "      <th>month_id</th>\n",
       "      <th></th>\n",
       "      <th></th>\n",
       "    </tr>\n",
       "  </thead>\n",
       "  <tbody>\n",
       "    <tr>\n",
       "      <th>2022-10-01</th>\n",
       "      <td>3</td>\n",
       "      <td>1</td>\n",
       "    </tr>\n",
       "    <tr>\n",
       "      <th>2021-08-01</th>\n",
       "      <td>3</td>\n",
       "      <td>1</td>\n",
       "    </tr>\n",
       "    <tr>\n",
       "      <th>2022-03-01</th>\n",
       "      <td>9</td>\n",
       "      <td>10</td>\n",
       "    </tr>\n",
       "    <tr>\n",
       "      <th>2021-11-01</th>\n",
       "      <td>6</td>\n",
       "      <td>10</td>\n",
       "    </tr>\n",
       "    <tr>\n",
       "      <th>2022-04-01</th>\n",
       "      <td>4</td>\n",
       "      <td>10</td>\n",
       "    </tr>\n",
       "  </tbody>\n",
       "</table>\n",
       "</div>"
      ],
      "text/plain": [
       "            net_payment_count  id\n",
       "month_id                         \n",
       "2022-10-01                  3   1\n",
       "2021-08-01                  3   1\n",
       "2022-03-01                  9  10\n",
       "2021-11-01                  6  10\n",
       "2022-04-01                  4  10"
      ]
     },
     "execution_count": 138,
     "metadata": {},
     "output_type": "execute_result"
    }
   ],
   "source": [
    "ts = pd.DataFrame({\"net_payment_count\":result['net_payment_count'],\n",
    "                  \"id\":result['id']\n",
    "                  })\n",
    "ts.head()\n",
    "\n"
   ]
  },
  {
   "cell_type": "code",
   "execution_count": 139,
   "metadata": {},
   "outputs": [
    {
     "data": {
      "text/plain": [
       "<Axes: xlabel='month_id'>"
      ]
     },
     "execution_count": 139,
     "metadata": {},
     "output_type": "execute_result"
    },
    {
     "data": {
      "image/png": "[encoded data removed]",
      "text/plain": [
       "<Figure size 1500x500 with 1 Axes>"
      ]
     },
     "metadata": {},
     "output_type": "display_data"
    }
   ],
   "source": [
    "ts.plot(figsize=(15,5))\n"
   ]
  },
  {
   "cell_type": "code",
   "execution_count": 140,
   "metadata": {},
   "outputs": [
    {
     "data": {
      "text/plain": [
       "<Axes: xlabel='month_id', ylabel='net_payment_count'>"
      ]
     },
     "execution_count": 140,
     "metadata": {},
     "output_type": "execute_result"
    },
    {
     "data": {
      "image/png": "[encoded data removed]",
      "text/plain": [
       "<Figure size 2200x400 with 1 Axes>"
      ]
     },
     "metadata": {},
     "output_type": "display_data"
    }
   ],
   "source": [
    "plt.figure(figsize=(22,4))\n",
    "sns.lineplot(data = ts.reset_index(), x=\"month_id\", y=\"net_payment_count\")"
   ]
  },
  {
   "cell_type": "code",
   "execution_count": 141,
   "metadata": {},
   "outputs": [
    {
     "data": {
      "text/plain": [
       "DatetimeIndex(['2020-01-01', '2020-01-01', '2020-01-01', '2020-01-01',\n",
       "               '2020-01-01', '2020-01-01', '2020-01-01', '2020-01-01',\n",
       "               '2020-01-01', '2020-01-01',\n",
       "               ...\n",
       "               '2023-09-01', '2023-09-01', '2023-09-01', '2023-09-01',\n",
       "               '2023-09-01', '2023-09-01', '2023-09-01', '2023-09-01',\n",
       "               '2023-09-01', '2023-09-01'],\n",
       "              dtype='datetime64[ns]', name='month_id', length=291142, freq=None)"
      ]
     },
     "execution_count": 141,
     "metadata": {},
     "output_type": "execute_result"
    }
   ],
   "source": [
    "ts.index.sort_values()"
   ]
  },
  {
   "cell_type": "code",
   "execution_count": 142,
   "metadata": {},
   "outputs": [
    {
     "data": {
      "text/plain": [
       "Timestamp('2022-11-01 00:00:00')"
      ]
     },
     "execution_count": 142,
     "metadata": {},
     "output_type": "execute_result"
    }
   ],
   "source": [
    "end_date = ts.index[-1]\n",
    "end_date"
   ]
  },
  {
   "cell_type": "code",
   "execution_count": 79,
   "metadata": {},
   "outputs": [
    {
     "name": "stderr",
     "output_type": "stream",
     "text": [
      "/Users/seydanurkayir/Library/Python/3.9/lib/python/site-packages/statsmodels/tsa/base/tsa_model.py:471: ValueWarning: A date index has been provided, but it has no associated frequency information and so will be ignored when e.g. forecasting.\n",
      "  self._init_dates(dates, freq)\n",
      "/Users/seydanurkayir/Library/Python/3.9/lib/python/site-packages/statsmodels/tsa/base/tsa_model.py:471: ValueWarning: A date index has been provided, but it has no associated frequency information and so will be ignored when e.g. forecasting.\n",
      "  self._init_dates(dates, freq)\n",
      "/Users/seydanurkayir/Library/Python/3.9/lib/python/site-packages/statsmodels/tsa/base/tsa_model.py:471: ValueWarning: A date index has been provided, but it has no associated frequency information and so will be ignored when e.g. forecasting.\n",
      "  self._init_dates(dates, freq)\n",
      "/Users/seydanurkayir/Library/Python/3.9/lib/python/site-packages/statsmodels/tsa/statespace/sarimax.py:866: UserWarning: Too few observations to estimate starting parameters for ARMA and trend. All parameters except for variances will be set to zeros.\n",
      "  warn('Too few observations to estimate starting parameters%s.'\n",
      "/Users/seydanurkayir/Library/Python/3.9/lib/python/site-packages/statsmodels/base/model.py:531: RuntimeWarning: invalid value encountered in scalar divide\n",
      "  return -self.loglike(params, *args) / nobs\n",
      "/Users/seydanurkayir/Library/Python/3.9/lib/python/site-packages/statsmodels/base/model.py:604: ConvergenceWarning: Maximum Likelihood optimization failed to converge. Check mle_retvals\n",
      "  warnings.warn(\"Maximum Likelihood optimization failed to \"\n"
     ]
    },
    {
     "data": {
      "image/png": "[encoded data removed]",
      "text/plain": [
       "<Figure size 640x480 with 1 Axes>"
      ]
     },
     "metadata": {},
     "output_type": "display_data"
    }
   ],
   "source": [
    "\n",
    "# Tüm ayları içeren bir zaman serisi oluşturun\n",
    "full_date_range = pd.date_range(start='2020-01-01', end='2023-09-01', freq='MS')\n",
    "full_ts = pd.DataFrame(index=full_date_range)\n",
    "\n",
    "# Veri setini aylık olarak birleştirin\n",
    "df_full = full_ts.merge(ts, how='left', left_index=True, right_index=True)\n",
    "\n",
    "# Eksik verileri doldurun (örneğin, forward fill)\n",
    "df_full_filled = df_full.ffill()\n",
    "\n",
    "# Belirli bir 'id' için veriyi seçin\n",
    "merchant_id = 33179\n",
    "merchant_data = df_full_filled[df_full_filled['id'] == merchant_id]\n",
    "\n",
    "# Log dönüşümü yapın\n",
    "ts_log = np.log(merchant_data['net_payment_count'])\n",
    "\n",
    "# İlk farkı alın (differencing)\n",
    "ts_log_diff = ts_log - ts_log.shift()\n",
    "plt.plot(ts_log_diff)\n",
    "ts_log_diff.dropna(inplace=True)\n",
    "\n",
    "# ARIMA modelini oluşturun ve eğitin\n",
    "model = sm.tsa.ARIMA(ts_log, order=(0, 1, 1))\n",
    "results_ARIMA = model.fit()"
   ]
  },
  {
   "cell_type": "code",
   "execution_count": 22,
   "metadata": {},
   "outputs": [
    {
     "name": "stderr",
     "output_type": "stream",
     "text": [
      "/Users/seydanurkayir/Library/Python/3.9/lib/python/site-packages/statsmodels/tsa/base/tsa_model.py:471: ValueWarning: A date index has been provided, but it has no associated frequency information and so will be ignored when e.g. forecasting.\n",
      "  self._init_dates(dates, freq)\n",
      "/Users/seydanurkayir/Library/Python/3.9/lib/python/site-packages/statsmodels/tsa/base/tsa_model.py:471: ValueWarning: A date index has been provided, but it has no associated frequency information and so will be ignored when e.g. forecasting.\n",
      "  self._init_dates(dates, freq)\n",
      "/Users/seydanurkayir/Library/Python/3.9/lib/python/site-packages/statsmodels/tsa/base/tsa_model.py:471: ValueWarning: A date index has been provided, but it has no associated frequency information and so will be ignored when e.g. forecasting.\n",
      "  self._init_dates(dates, freq)\n",
      "/Users/seydanurkayir/Library/Python/3.9/lib/python/site-packages/statsmodels/tsa/statespace/sarimax.py:866: UserWarning: Too few observations to estimate starting parameters for ARMA and trend. All parameters except for variances will be set to zeros.\n",
      "  warn('Too few observations to estimate starting parameters%s.'\n",
      "/Users/seydanurkayir/Library/Python/3.9/lib/python/site-packages/statsmodels/base/model.py:531: RuntimeWarning: invalid value encountered in scalar divide\n",
      "  return -self.loglike(params, *args) / nobs\n",
      "/Users/seydanurkayir/Library/Python/3.9/lib/python/site-packages/statsmodels/base/model.py:604: ConvergenceWarning: Maximum Likelihood optimization failed to converge. Check mle_retvals\n",
      "  warnings.warn(\"Maximum Likelihood optimization failed to \"\n"
     ]
    },
    {
     "ename": "KeyError",
     "evalue": "'The `end` argument could not be matched to a location related to the index of the data.'",
     "output_type": "error",
     "traceback": [
      "\u001b[0;31m---------------------------------------------------------------------------\u001b[0m",
      "\u001b[0;31mIndexError\u001b[0m                                Traceback (most recent call last)",
      "File \u001b[0;32m~/Library/Python/3.9/lib/python/site-packages/pandas/core/indexes/range.py:912\u001b[0m, in \u001b[0;36mRangeIndex.__getitem__\u001b[0;34m(self, key)\u001b[0m\n\u001b[1;32m    911\u001b[0m \u001b[39mtry\u001b[39;00m:\n\u001b[0;32m--> 912\u001b[0m     \u001b[39mreturn\u001b[39;00m \u001b[39mself\u001b[39;49m\u001b[39m.\u001b[39;49m_range[new_key]\n\u001b[1;32m    913\u001b[0m \u001b[39mexcept\u001b[39;00m \u001b[39mIndexError\u001b[39;00m \u001b[39mas\u001b[39;00m err:\n",
      "\u001b[0;31mIndexError\u001b[0m: range object index out of range",
      "\nThe above exception was the direct cause of the following exception:\n",
      "\u001b[0;31mIndexError\u001b[0m                                Traceback (most recent call last)",
      "File \u001b[0;32m~/Library/Python/3.9/lib/python/site-packages/statsmodels/tsa/base/tsa_model.py:182\u001b[0m, in \u001b[0;36mget_index_loc\u001b[0;34m(key, index)\u001b[0m\n\u001b[1;32m    181\u001b[0m \u001b[39mtry\u001b[39;00m:\n\u001b[0;32m--> 182\u001b[0m     index[key]\n\u001b[1;32m    183\u001b[0m \u001b[39m# We want to raise a KeyError in this case, to keep the exception\u001b[39;00m\n\u001b[1;32m    184\u001b[0m \u001b[39m# consistent across index types.\u001b[39;00m\n\u001b[1;32m    185\u001b[0m \u001b[39m# - Attempting to index with an out-of-bound location (e.g.\u001b[39;00m\n\u001b[0;32m   (...)\u001b[0m\n\u001b[1;32m    190\u001b[0m \u001b[39m#   index is RangeIndex (otherwise will raise an IndexError)\u001b[39;00m\n\u001b[1;32m    191\u001b[0m \u001b[39m#   (as of Pandas 0.22)\u001b[39;00m\n",
      "File \u001b[0;32m~/Library/Python/3.9/lib/python/site-packages/pandas/core/indexes/range.py:914\u001b[0m, in \u001b[0;36mRangeIndex.__getitem__\u001b[0;34m(self, key)\u001b[0m\n\u001b[1;32m    913\u001b[0m     \u001b[39mexcept\u001b[39;00m \u001b[39mIndexError\u001b[39;00m \u001b[39mas\u001b[39;00m err:\n\u001b[0;32m--> 914\u001b[0m         \u001b[39mraise\u001b[39;00m \u001b[39mIndexError\u001b[39;00m(\n\u001b[1;32m    915\u001b[0m             \u001b[39mf\u001b[39m\u001b[39m\"\u001b[39m\u001b[39mindex \u001b[39m\u001b[39m{\u001b[39;00mkey\u001b[39m}\u001b[39;00m\u001b[39m is out of bounds for axis 0 with size \u001b[39m\u001b[39m{\u001b[39;00m\u001b[39mlen\u001b[39m(\u001b[39mself\u001b[39m)\u001b[39m}\u001b[39;00m\u001b[39m\"\u001b[39m\n\u001b[1;32m    916\u001b[0m         ) \u001b[39mfrom\u001b[39;00m \u001b[39merr\u001b[39;00m\n\u001b[1;32m    917\u001b[0m \u001b[39melif\u001b[39;00m is_scalar(key):\n",
      "\u001b[0;31mIndexError\u001b[0m: index -1 is out of bounds for axis 0 with size 0",
      "\nDuring handling of the above exception, another exception occurred:\n",
      "\u001b[0;31mKeyError\u001b[0m                                  Traceback (most recent call last)",
      "File \u001b[0;32m~/Library/Python/3.9/lib/python/site-packages/statsmodels/tsa/base/tsa_model.py:367\u001b[0m, in \u001b[0;36mget_prediction_index\u001b[0;34m(start, end, nobs, base_index, index, silent, index_none, index_generated, data)\u001b[0m\n\u001b[1;32m    366\u001b[0m \u001b[39mtry\u001b[39;00m:\n\u001b[0;32m--> 367\u001b[0m     end, end_index, end_oos \u001b[39m=\u001b[39m get_index_label_loc(\n\u001b[1;32m    368\u001b[0m         end, base_index, data\u001b[39m.\u001b[39;49mrow_labels\n\u001b[1;32m    369\u001b[0m     )\n\u001b[1;32m    370\u001b[0m \u001b[39mexcept\u001b[39;00m \u001b[39mKeyError\u001b[39;00m:\n",
      "File \u001b[0;32m~/Library/Python/3.9/lib/python/site-packages/statsmodels/tsa/base/tsa_model.py:279\u001b[0m, in \u001b[0;36mget_index_label_loc\u001b[0;34m(key, index, row_labels)\u001b[0m\n\u001b[1;32m    278\u001b[0m     \u001b[39mexcept\u001b[39;00m:\n\u001b[0;32m--> 279\u001b[0m         \u001b[39mraise\u001b[39;00m e\n\u001b[1;32m    280\u001b[0m \u001b[39mreturn\u001b[39;00m loc, index, index_was_expanded\n",
      "File \u001b[0;32m~/Library/Python/3.9/lib/python/site-packages/statsmodels/tsa/base/tsa_model.py:243\u001b[0m, in \u001b[0;36mget_index_label_loc\u001b[0;34m(key, index, row_labels)\u001b[0m\n\u001b[1;32m    242\u001b[0m \u001b[39mtry\u001b[39;00m:\n\u001b[0;32m--> 243\u001b[0m     loc, index, index_was_expanded \u001b[39m=\u001b[39m get_index_loc(key, index)\n\u001b[1;32m    244\u001b[0m \u001b[39mexcept\u001b[39;00m \u001b[39mKeyError\u001b[39;00m \u001b[39mas\u001b[39;00m e:\n",
      "File \u001b[0;32m~/Library/Python/3.9/lib/python/site-packages/statsmodels/tsa/base/tsa_model.py:193\u001b[0m, in \u001b[0;36mget_index_loc\u001b[0;34m(key, index)\u001b[0m\n\u001b[1;32m    192\u001b[0m \u001b[39mexcept\u001b[39;00m (\u001b[39mIndexError\u001b[39;00m, \u001b[39mValueError\u001b[39;00m) \u001b[39mas\u001b[39;00m e:\n\u001b[0;32m--> 193\u001b[0m     \u001b[39mraise\u001b[39;00m \u001b[39mKeyError\u001b[39;00m(\u001b[39mstr\u001b[39m(e))\n\u001b[1;32m    194\u001b[0m loc \u001b[39m=\u001b[39m key\n",
      "\u001b[0;31mKeyError\u001b[0m: 'index -1 is out of bounds for axis 0 with size 0'",
      "\nDuring handling of the above exception, another exception occurred:\n",
      "\u001b[0;31mKeyError\u001b[0m                                  Traceback (most recent call last)",
      "Cell \u001b[0;32mIn[22], line 30\u001b[0m\n\u001b[1;32m     28\u001b[0m start_date \u001b[39m=\u001b[39m df_full_filled\u001b[39m.\u001b[39mindex[\u001b[39m-\u001b[39m\u001b[39m3\u001b[39m]  \u001b[39m# 2023'ün son 3 ayı\u001b[39;00m\n\u001b[1;32m     29\u001b[0m end_date \u001b[39m=\u001b[39m df_full_filled\u001b[39m.\u001b[39mindex[\u001b[39m-\u001b[39m\u001b[39m1\u001b[39m]\n\u001b[0;32m---> 30\u001b[0m predictions \u001b[39m=\u001b[39m results_ARIMA\u001b[39m.\u001b[39;49mget_forecast(steps\u001b[39m=\u001b[39;49m\u001b[39mlen\u001b[39;49m(ts_log_diff))\n\u001b[1;32m     31\u001b[0m y_pred_df \u001b[39m=\u001b[39m predictions\u001b[39m.\u001b[39mconf_int(alpha\u001b[39m=\u001b[39m\u001b[39m0.05\u001b[39m)\n\u001b[1;32m     32\u001b[0m y_pred_df[\u001b[39m\"\u001b[39m\u001b[39mPredictions\u001b[39m\u001b[39m\"\u001b[39m] \u001b[39m=\u001b[39m results_ARIMA\u001b[39m.\u001b[39mpredict(start\u001b[39m=\u001b[39mstart_date, end\u001b[39m=\u001b[39mend_date)\n",
      "File \u001b[0;32m~/Library/Python/3.9/lib/python/site-packages/statsmodels/tsa/statespace/mlemodel.py:3354\u001b[0m, in \u001b[0;36mMLEResults.get_forecast\u001b[0;34m(self, steps, **kwargs)\u001b[0m\n\u001b[1;32m   3352\u001b[0m \u001b[39melse\u001b[39;00m:\n\u001b[1;32m   3353\u001b[0m     end \u001b[39m=\u001b[39m steps\n\u001b[0;32m-> 3354\u001b[0m \u001b[39mreturn\u001b[39;00m \u001b[39mself\u001b[39;49m\u001b[39m.\u001b[39;49mget_prediction(start\u001b[39m=\u001b[39;49m\u001b[39mself\u001b[39;49m\u001b[39m.\u001b[39;49mnobs, end\u001b[39m=\u001b[39;49mend, \u001b[39m*\u001b[39;49m\u001b[39m*\u001b[39;49mkwargs)\n",
      "File \u001b[0;32m~/Library/Python/3.9/lib/python/site-packages/statsmodels/tsa/statespace/mlemodel.py:3287\u001b[0m, in \u001b[0;36mMLEResults.get_prediction\u001b[0;34m(self, start, end, dynamic, index, exog, extend_model, extend_kwargs, **kwargs)\u001b[0m\n\u001b[1;32m   3283\u001b[0m     start \u001b[39m=\u001b[39m \u001b[39m0\u001b[39m\n\u001b[1;32m   3285\u001b[0m \u001b[39m# Handle start, end, dynamic\u001b[39;00m\n\u001b[1;32m   3286\u001b[0m start, end, out_of_sample, prediction_index \u001b[39m=\u001b[39m (\n\u001b[0;32m-> 3287\u001b[0m     \u001b[39mself\u001b[39;49m\u001b[39m.\u001b[39;49mmodel\u001b[39m.\u001b[39;49m_get_prediction_index(start, end, index))\n\u001b[1;32m   3289\u001b[0m \u001b[39m# Handle `dynamic`\u001b[39;00m\n\u001b[1;32m   3290\u001b[0m \u001b[39mif\u001b[39;00m \u001b[39misinstance\u001b[39m(dynamic, (\u001b[39mstr\u001b[39m, dt\u001b[39m.\u001b[39mdatetime, pd\u001b[39m.\u001b[39mTimestamp)):\n",
      "File \u001b[0;32m~/Library/Python/3.9/lib/python/site-packages/statsmodels/tsa/base/tsa_model.py:834\u001b[0m, in \u001b[0;36mTimeSeriesModel._get_prediction_index\u001b[0;34m(self, start, end, index, silent)\u001b[0m\n\u001b[1;32m    778\u001b[0m \u001b[39m\u001b[39m\u001b[39m\"\"\"\u001b[39;00m\n\u001b[1;32m    779\u001b[0m \u001b[39mGet the location of a specific key in an index or model row labels\u001b[39;00m\n\u001b[1;32m    780\u001b[0m \n\u001b[0;32m   (...)\u001b[0m\n\u001b[1;32m    831\u001b[0m \u001b[39msince we have required them to be full indexes, there is no ambiguity).\u001b[39;00m\n\u001b[1;32m    832\u001b[0m \u001b[39m\"\"\"\u001b[39;00m\n\u001b[1;32m    833\u001b[0m nobs \u001b[39m=\u001b[39m \u001b[39mlen\u001b[39m(\u001b[39mself\u001b[39m\u001b[39m.\u001b[39mendog)\n\u001b[0;32m--> 834\u001b[0m \u001b[39mreturn\u001b[39;00m get_prediction_index(\n\u001b[1;32m    835\u001b[0m     start,\n\u001b[1;32m    836\u001b[0m     end,\n\u001b[1;32m    837\u001b[0m     nobs,\n\u001b[1;32m    838\u001b[0m     base_index\u001b[39m=\u001b[39;49m\u001b[39mself\u001b[39;49m\u001b[39m.\u001b[39;49m_index,\n\u001b[1;32m    839\u001b[0m     index\u001b[39m=\u001b[39;49mindex,\n\u001b[1;32m    840\u001b[0m     silent\u001b[39m=\u001b[39;49msilent,\n\u001b[1;32m    841\u001b[0m     index_none\u001b[39m=\u001b[39;49m\u001b[39mself\u001b[39;49m\u001b[39m.\u001b[39;49m_index_none,\n\u001b[1;32m    842\u001b[0m     index_generated\u001b[39m=\u001b[39;49m\u001b[39mself\u001b[39;49m\u001b[39m.\u001b[39;49m_index_generated,\n\u001b[1;32m    843\u001b[0m     data\u001b[39m=\u001b[39;49m\u001b[39mself\u001b[39;49m\u001b[39m.\u001b[39;49mdata,\n\u001b[1;32m    844\u001b[0m )\n",
      "File \u001b[0;32m~/Library/Python/3.9/lib/python/site-packages/statsmodels/tsa/base/tsa_model.py:371\u001b[0m, in \u001b[0;36mget_prediction_index\u001b[0;34m(start, end, nobs, base_index, index, silent, index_none, index_generated, data)\u001b[0m\n\u001b[1;32m    367\u001b[0m     end, end_index, end_oos \u001b[39m=\u001b[39m get_index_label_loc(\n\u001b[1;32m    368\u001b[0m         end, base_index, data\u001b[39m.\u001b[39mrow_labels\n\u001b[1;32m    369\u001b[0m     )\n\u001b[1;32m    370\u001b[0m \u001b[39mexcept\u001b[39;00m \u001b[39mKeyError\u001b[39;00m:\n\u001b[0;32m--> 371\u001b[0m     \u001b[39mraise\u001b[39;00m \u001b[39mKeyError\u001b[39;00m(\n\u001b[1;32m    372\u001b[0m         \u001b[39m\"\u001b[39m\u001b[39mThe `end` argument could not be matched to a\u001b[39m\u001b[39m\"\u001b[39m\n\u001b[1;32m    373\u001b[0m         \u001b[39m\"\u001b[39m\u001b[39m location related to the index of the data.\u001b[39m\u001b[39m\"\u001b[39m\n\u001b[1;32m    374\u001b[0m     )\n\u001b[1;32m    376\u001b[0m \u001b[39m# Handle slices (if the given index keys cover more than one date)\u001b[39;00m\n\u001b[1;32m    377\u001b[0m \u001b[39mif\u001b[39;00m \u001b[39misinstance\u001b[39m(start, \u001b[39mslice\u001b[39m):\n",
      "\u001b[0;31mKeyError\u001b[0m: 'The `end` argument could not be matched to a location related to the index of the data.'"
     ]
    },
    {
     "data": {
      "image/png": "[encoded data removed]",
      "text/plain": [
       "<Figure size 640x480 with 1 Axes>"
      ]
     },
     "metadata": {},
     "output_type": "display_data"
    }
   ],
   "source": [
    "\n",
    "# Tüm ayları içeren bir zaman serisi oluşturun\n",
    "full_date_range = pd.date_range(start='2020-01-01', end='2023-09-01', freq='MS')\n",
    "full_ts = pd.DataFrame(index=full_date_range)\n",
    "\n",
    "# Veri setini aylık olarak birleştirin\n",
    "df_full = full_ts.merge(ts, how='left', left_index=True, right_index=True)\n",
    "\n",
    "# Eksik verileri doldurun (örneğin, forward fill)\n",
    "df_full_filled = df_full.ffill()\n",
    "\n",
    "# Belirli bir 'id' için veriyi seçin\n",
    "merchant_id = 33179\n",
    "merchant_data = df_full_filled[df_full_filled['id'] == merchant_id]\n",
    "\n",
    "# Log dönüşümü yapın\n",
    "ts_log = np.log(merchant_data['net_payment_count'])\n",
    "\n",
    "# İlk farkı alın (differencing)\n",
    "ts_log_diff = ts_log - ts_log.shift()\n",
    "plt.plot(ts_log_diff)\n",
    "ts_log_diff.dropna(inplace=True)\n",
    "\n",
    "# ARIMA modelini oluşturun ve eğitin\n",
    "model = sm.tsa.ARIMA(ts_log, order=(0, 1, 1))\n",
    "results_ARIMA = model.fit()\n",
    "\n",
    "# Tahminleri alın\n",
    "start_date = df_full_filled.index[-3]  # 2023'ün son 3 ayı\n",
    "end_date = df_full_filled.index[-1]\n",
    "predictions = results_ARIMA.get_forecast(steps=len(ts_log_diff))\n",
    "y_pred_df = predictions.conf_int(alpha=0.05)\n",
    "y_pred_df[\"Predictions\"] = results_ARIMA.predict(start=start_date, end=end_date)\n",
    "\n",
    "# Tahminleri indeks ile eşleştirin\n",
    "y_pred_df.index = ts_log.index[1:]  # Fark aldığımız için birinci indeksi atladık\n",
    "y_pred_out = np.exp(y_pred_df[\"Predictions\"])  # Eğer log dönüşümü uygulandıysa, orijinal ölçekteki değerlere çevirin\n",
    "\n",
    "# Tahminleri DataFrame olarak oluşturun\n",
    "prediction_df = pd.DataFrame({\n",
    "    'Actual_Data': df_full_filled[df_full_filled['id'] == merchant_id]['net_payment_count'][-3:].values\n",
    "}, index=ts_log.index[-3:])\n",
    "\n",
    "# Tahminleri göster\n",
    "print(prediction_df)"
   ]
  },
  {
   "cell_type": "code",
   "execution_count": 26,
   "metadata": {},
   "outputs": [
    {
     "data": {
      "text/plain": [
       "<bound method Series.sort_values of 2020-01-01    10005\n",
       "2020-01-01    10034\n",
       "2020-01-01    10052\n",
       "2020-01-01    10078\n",
       "2020-01-01    10134\n",
       "              ...  \n",
       "2023-09-01     9946\n",
       "2023-09-01     9965\n",
       "2023-09-01     9982\n",
       "2023-09-01     9984\n",
       "2023-09-01     9991\n",
       "Name: id, Length: 291142, dtype: object>"
      ]
     },
     "execution_count": 26,
     "metadata": {},
     "output_type": "execute_result"
    }
   ],
   "source": [
    "df_full_filled['id'].sort_values"
   ]
  },
  {
   "cell_type": "code",
   "execution_count": null,
   "metadata": {},
   "outputs": [],
   "source": [
    "# Tüm ayları içeren bir zaman serisi oluşturun\n",
    "full_ts = pd.DataFrame(index=ts.index)\n",
    "\n",
    "# Veri setini aylık olarak birleştirin\n",
    "df_full = full_ts.merge(ts, how='left', left_index=True, right_index=True)\n",
    "\n",
    "df_full_filled = df_full.ffill()\n",
    "\n",
    "# Her bir 'id' için tahmin yapın\n",
    "unique_ids = df_full_filled['id'].unique()\n",
    "\n",
    "for merchant_id in unique_ids:\n",
    "    # Belirli bir 'id' için veriyi seçin\n",
    "    merchant_data = df_full_filled[df_full_filled['id'] == merchant_id]\n",
    "\n",
    "    # Log dönüşümü yapın\n",
    "    ts_log = np.log(merchant_data['net_payment_count'])\n",
    "\n",
    "    # İlk farkı alın (differencing)\n",
    "    ts_log_diff = ts_log - ts_log.shift()\n",
    "    plt.plot(ts_log_diff)\n",
    "    ts_log_diff.dropna(inplace=True)\n",
    "\n",
    "    # ARIMA modelini oluşturun ve eğitin\n",
    "    model = sm.tsa.ARIMA(ts_log, order=(0, 1, 1))\n",
    "    results_ARIMA = model.fit()\n",
    "\n",
    "    # Tahminleri alın\n",
    "    start_date = df_full_filled.index[-3]  # 2023'ün son 3 ayı\n",
    "    end_date = df_full_filled.index[-1]\n",
    "    predictions = results_ARIMA.get_forecast(steps=len(ts_log_diff))\n",
    "    y_pred_df = predictions.conf_int(alpha=0.05)\n",
    "    y_pred_df[\"Predictions\"] = results_ARIMA.predict(start=start_date, end=end_date)\n",
    "\n",
    "    # Tahminleri indeks ile eşleştirin\n",
    "    y_pred_df.index = ts_log.index[1:]  # Fark aldığımız için birinci indeksi atladık\n",
    "    y_pred_out = np.exp(y_pred_df[\"Predictions\"])  # Eğer log dönüşümü uygulandıysa, orijinal ölçekteki değerlere çevirin\n",
    "\n",
    "    # Tahminleri DataFrame olarak oluşturun\n",
    "    prediction_df = pd.DataFrame({\n",
    "        'Actual_Data': df_full_filled[df_full_filled['id'] == merchant_id]['net_payment_count'][-3:].values,\n",
    "        'ARIMA_Predictions': y_pred_out.values,\n",
    "    }, index=ts_log.index[-3:])\n",
    "\n",
    "    # Tahminleri göster\n",
    "    print(f\"Merchant ID: {merchant_id}\")\n",
    "    print(prediction_df)\n",
    "    print(\"\\n\")\n",
    "\n",
    "    # İsteğe bağlı: Tahminleri grafik üzerinde göstermek için\n",
    "    plt.plot(merchant_data['net_payment_count'], label='Actual Data')\n",
    "    plt.plot(y_pred_out, color='yellow', label='ARIMA Predictions')\n",
    "    plt.title(f'Merchant ID: {merchant_id}')\n",
    "    plt.legend()\n",
    "    plt.show()\n"
   ]
  },
  {
   "cell_type": "code",
   "execution_count": 31,
   "metadata": {},
   "outputs": [
    {
     "data": {
      "text/plain": [
       "array(['10005', '10034', '10052', ..., '9373', '9383', '9545'],\n",
       "      dtype=object)"
      ]
     },
     "execution_count": 31,
     "metadata": {},
     "output_type": "execute_result"
    }
   ],
   "source": [
    "unique_ids = df_full_filled['id'].unique()\n",
    "unique_ids"
   ]
  },
  {
   "cell_type": "code",
   "execution_count": 23,
   "metadata": {},
   "outputs": [
    {
     "data": {
      "text/plain": [
       "net_payment_count    0\n",
       "id                   0\n",
       "dtype: int64"
      ]
     },
     "execution_count": 23,
     "metadata": {},
     "output_type": "execute_result"
    }
   ],
   "source": [
    "ts.isnull().sum()"
   ]
  },
  {
   "cell_type": "code",
   "execution_count": 143,
   "metadata": {},
   "outputs": [
    {
     "data": {
      "image/png": "[encoded data removed]",
      "text/plain": [
       "<Figure size 640x480 with 1 Axes>"
      ]
     },
     "metadata": {},
     "output_type": "display_data"
    }
   ],
   "source": [
    "def plot_merchant(ts, id):\n",
    "    data = ts[ts['id'] == id]\n",
    "    merchant_data = data.sort_values(by=['month_id'])\n",
    "\n",
    "    \n",
    "    ts_log = np.log(merchant_data['net_payment_count'])\n",
    "    moving_avg = ts_log.rolling(12).mean()\n",
    "    moving_std = ts_log.rolling(12).std()\n",
    "    #plt.plot(ts, color='red')\n",
    "    plt.plot(ts_log, label=f'Merchant ID: {id}')\n",
    "    plt.plot(moving_avg, color='red', label='Moving Average')\n",
    "    plt.plot(moving_std, color='yellow', label='Moving Std.')\n",
    "\n",
    "    plt.legend()\n",
    "    plt.xlabel('Month')\n",
    "    plt.ylabel('Net Payment Count')\n",
    "    plt.title('Zaman Serisi Grafiği')\n",
    "\n",
    "    plt.show()\n",
    "\n",
    "\n",
    "plot_merchant(ts,'9965')"
   ]
  },
  {
   "cell_type": "code",
   "execution_count": 144,
   "metadata": {},
   "outputs": [
    {
     "name": "stderr",
     "output_type": "stream",
     "text": [
      "/Users/seydanurkayir/Library/Python/3.9/lib/python/site-packages/statsmodels/tsa/base/tsa_model.py:471: ValueWarning: No frequency information was provided, so inferred frequency MS will be used.\n",
      "  self._init_dates(dates, freq)\n",
      "/Users/seydanurkayir/Library/Python/3.9/lib/python/site-packages/statsmodels/tsa/base/tsa_model.py:471: ValueWarning: No frequency information was provided, so inferred frequency MS will be used.\n",
      "  self._init_dates(dates, freq)\n",
      "/Users/seydanurkayir/Library/Python/3.9/lib/python/site-packages/statsmodels/tsa/base/tsa_model.py:471: ValueWarning: No frequency information was provided, so inferred frequency MS will be used.\n",
      "  self._init_dates(dates, freq)\n"
     ]
    },
    {
     "name": "stdout",
     "output_type": "stream",
     "text": [
      "Forecast for Merchant ID 33179:\n",
      "\n",
      "                 Forecast\n",
      "2023-10-01  511977.938063\n",
      "2023-11-01  511977.938063\n",
      "2023-12-01  511977.938063\n"
     ]
    },
    {
     "data": {
      "image/png": "[encoded data removed]",
      "text/plain": [
       "<Figure size 640x480 with 1 Axes>"
      ]
     },
     "metadata": {},
     "output_type": "display_data"
    }
   ],
   "source": [
    "def forecast_merchant(ts, merchant_id, forecast_periods=3):\n",
    "    data = ts[ts['id'] == merchant_id]\n",
    "    merchant_data = data.sort_values(by=['month_id'])\n",
    "\n",
    "    ts_log = np.log(merchant_data['net_payment_count'])\n",
    "\n",
    "    # ARIMA modelini oluşturun ve eğitin\n",
    "    model = sm.tsa.ARIMA(ts_log, order=(0, 1, 1))  \n",
    "    results_ARIMA = model.fit()\n",
    "\n",
    "    # Tahminleri alın\n",
    "    forecast = results_ARIMA.get_forecast(steps=forecast_periods)\n",
    "\n",
    "    # Tahminleri indeks ile eşleştirin\n",
    "    forecast_index = pd.date_range(start=ts_log.index[-1], periods=forecast_periods+1, freq='MS')[1:]\n",
    "    #forecast_index = forecast_index.strftime('%Y-%m')\n",
    "\n",
    "    forecast_values = np.exp(forecast.predicted_mean)\n",
    "    # Tahminleri DataFrame olarak oluşturun\n",
    "    forecast_df = pd.DataFrame({\n",
    "        'Forecast': forecast_values,\n",
    "    }, index=forecast_index)\n",
    "\n",
    "    # Tahminleri göster\n",
    "    print(f\"Forecast for Merchant ID {merchant_id}:\\n\")\n",
    "    print(forecast_df)\n",
    "\n",
    "    # Grafik üzerinde gösterim\n",
    "    plt.plot(ts_log, label=f'Merchant ID: {merchant_id}')\n",
    "    plt.plot(np.exp(results_ARIMA.fittedvalues), color='red', label='Fitted Values')\n",
    "    plt.plot(forecast_df, color='green', linestyle='--', label='Forecast')\n",
    "    plt.legend()\n",
    "    plt.xlabel('Month')\n",
    "    plt.ylabel('Net Payment Count')\n",
    "    plt.title('ARIMA Modeli Tahminleri')\n",
    "\n",
    "    plt.show()\n",
    "\n",
    "# Belirli bir 'id' için 3 aylık tahmin yapın\n",
    "forecast_merchant(ts, '33179', forecast_periods=3)"
   ]
  },
  {
   "cell_type": "code",
   "execution_count": 145,
   "metadata": {},
   "outputs": [
    {
     "data": {
      "text/html": [
       "<div>\n",
       "<style scoped>\n",
       "    .dataframe tbody tr th:only-of-type {\n",
       "        vertical-align: middle;\n",
       "    }\n",
       "\n",
       "    .dataframe tbody tr th {\n",
       "        vertical-align: top;\n",
       "    }\n",
       "\n",
       "    .dataframe thead th {\n",
       "        text-align: right;\n",
       "    }\n",
       "</style>\n",
       "<table border=\"1\" class=\"dataframe\">\n",
       "  <thead>\n",
       "    <tr style=\"text-align: right;\">\n",
       "      <th></th>\n",
       "      <th>net_payment_count</th>\n",
       "      <th>id</th>\n",
       "    </tr>\n",
       "    <tr>\n",
       "      <th>month_id</th>\n",
       "      <th></th>\n",
       "      <th></th>\n",
       "    </tr>\n",
       "  </thead>\n",
       "  <tbody>\n",
       "    <tr>\n",
       "      <th>2020-01-01</th>\n",
       "      <td>787</td>\n",
       "      <td>33179</td>\n",
       "    </tr>\n",
       "    <tr>\n",
       "      <th>2020-02-01</th>\n",
       "      <td>2499</td>\n",
       "      <td>33179</td>\n",
       "    </tr>\n",
       "    <tr>\n",
       "      <th>2020-03-01</th>\n",
       "      <td>3070</td>\n",
       "      <td>33179</td>\n",
       "    </tr>\n",
       "    <tr>\n",
       "      <th>2020-04-01</th>\n",
       "      <td>23</td>\n",
       "      <td>33179</td>\n",
       "    </tr>\n",
       "    <tr>\n",
       "      <th>2020-05-01</th>\n",
       "      <td>4</td>\n",
       "      <td>33179</td>\n",
       "    </tr>\n",
       "  </tbody>\n",
       "</table>\n",
       "</div>"
      ],
      "text/plain": [
       "            net_payment_count     id\n",
       "month_id                            \n",
       "2020-01-01                787  33179\n",
       "2020-02-01               2499  33179\n",
       "2020-03-01               3070  33179\n",
       "2020-04-01                 23  33179\n",
       "2020-05-01                  4  33179"
      ]
     },
     "execution_count": 145,
     "metadata": {},
     "output_type": "execute_result"
    }
   ],
   "source": [
    "merchant_data = ts[ts['id'] == '33179'].sort_values(by=['month_id'])\n",
    "merchant_data.head()\n"
   ]
  },
  {
   "cell_type": "code",
   "execution_count": 101,
   "metadata": {},
   "outputs": [
    {
     "ename": "IndexError",
     "evalue": "index -1 is out of bounds for axis 0 with size 0",
     "output_type": "error",
     "traceback": [
      "\u001b[0;31m---------------------------------------------------------------------------\u001b[0m",
      "\u001b[0;31mIndexError\u001b[0m                                Traceback (most recent call last)",
      "Cell \u001b[0;32mIn[101], line 4\u001b[0m\n\u001b[1;32m      1\u001b[0m forecast_periods\u001b[39m=\u001b[39m\u001b[39m3\u001b[39m\n\u001b[1;32m      2\u001b[0m \u001b[39m# Tüm ayları içeren bir zaman serisi oluşturun\u001b[39;00m\n\u001b[1;32m      3\u001b[0m \u001b[39m#full_date_range = pd.date_range(start='2020-01-01', end='2023-07-01', freq='MS')\u001b[39;00m\n\u001b[0;32m----> 4\u001b[0m forecast_index \u001b[39m=\u001b[39m pd\u001b[39m.\u001b[39mdate_range(start\u001b[39m=\u001b[39mts_log\u001b[39m.\u001b[39;49mindex[\u001b[39m-\u001b[39;49m\u001b[39m1\u001b[39;49m], periods\u001b[39m=\u001b[39mforecast_periods\u001b[39m+\u001b[39m\u001b[39m1\u001b[39m, freq\u001b[39m=\u001b[39m\u001b[39m'\u001b[39m\u001b[39mMS\u001b[39m\u001b[39m'\u001b[39m)[\u001b[39m1\u001b[39m:]\n\u001b[1;32m      6\u001b[0m full_ts \u001b[39m=\u001b[39m pd\u001b[39m.\u001b[39mDataFrame(index\u001b[39m=\u001b[39mforecast_index)\n\u001b[1;32m      8\u001b[0m \u001b[39m# Veri setini aylık olarak birleştirin\u001b[39;00m\n",
      "File \u001b[0;32m~/Library/Python/3.9/lib/python/site-packages/pandas/core/indexes/base.py:5174\u001b[0m, in \u001b[0;36mIndex.__getitem__\u001b[0;34m(self, key)\u001b[0m\n\u001b[1;32m   5171\u001b[0m \u001b[39mif\u001b[39;00m is_integer(key) \u001b[39mor\u001b[39;00m is_float(key):\n\u001b[1;32m   5172\u001b[0m     \u001b[39m# GH#44051 exclude bool, which would return a 2d ndarray\u001b[39;00m\n\u001b[1;32m   5173\u001b[0m     key \u001b[39m=\u001b[39m com\u001b[39m.\u001b[39mcast_scalar_indexer(key)\n\u001b[0;32m-> 5174\u001b[0m     \u001b[39mreturn\u001b[39;00m getitem(key)\n\u001b[1;32m   5176\u001b[0m \u001b[39mif\u001b[39;00m \u001b[39misinstance\u001b[39m(key, \u001b[39mslice\u001b[39m):\n\u001b[1;32m   5177\u001b[0m     \u001b[39m# This case is separated from the conditional above to avoid\u001b[39;00m\n\u001b[1;32m   5178\u001b[0m     \u001b[39m# pessimization com.is_bool_indexer and ndim checks.\u001b[39;00m\n\u001b[1;32m   5179\u001b[0m     result \u001b[39m=\u001b[39m getitem(key)\n",
      "File \u001b[0;32m~/Library/Python/3.9/lib/python/site-packages/pandas/core/arrays/datetimelike.py:370\u001b[0m, in \u001b[0;36mDatetimeLikeArrayMixin.__getitem__\u001b[0;34m(self, key)\u001b[0m\n\u001b[1;32m    362\u001b[0m \u001b[39m\u001b[39m\u001b[39m\"\"\"\u001b[39;00m\n\u001b[1;32m    363\u001b[0m \u001b[39mThis getitem defers to the underlying array, which by-definition can\u001b[39;00m\n\u001b[1;32m    364\u001b[0m \u001b[39monly handle list-likes, slices, and integer scalars\u001b[39;00m\n\u001b[1;32m    365\u001b[0m \u001b[39m\"\"\"\u001b[39;00m\n\u001b[1;32m    366\u001b[0m \u001b[39m# Use cast as we know we will get back a DatetimeLikeArray or DTScalar,\u001b[39;00m\n\u001b[1;32m    367\u001b[0m \u001b[39m# but skip evaluating the Union at runtime for performance\u001b[39;00m\n\u001b[1;32m    368\u001b[0m \u001b[39m# (see https://github.com/pandas-dev/pandas/pull/44624)\u001b[39;00m\n\u001b[1;32m    369\u001b[0m result \u001b[39m=\u001b[39m cast(\n\u001b[0;32m--> 370\u001b[0m     \u001b[39m\"\u001b[39m\u001b[39mUnion[DatetimeLikeArrayT, DTScalarOrNaT]\u001b[39m\u001b[39m\"\u001b[39m, \u001b[39msuper\u001b[39;49m()\u001b[39m.\u001b[39;49m\u001b[39m__getitem__\u001b[39;49m(key)\n\u001b[1;32m    371\u001b[0m )\n\u001b[1;32m    372\u001b[0m \u001b[39mif\u001b[39;00m lib\u001b[39m.\u001b[39mis_scalar(result):\n\u001b[1;32m    373\u001b[0m     \u001b[39mreturn\u001b[39;00m result\n",
      "File \u001b[0;32m~/Library/Python/3.9/lib/python/site-packages/pandas/core/arrays/_mixins.py:272\u001b[0m, in \u001b[0;36mNDArrayBackedExtensionArray.__getitem__\u001b[0;34m(self, key)\u001b[0m\n\u001b[1;32m    266\u001b[0m \u001b[39mdef\u001b[39;00m \u001b[39m__getitem__\u001b[39m(\n\u001b[1;32m    267\u001b[0m     \u001b[39mself\u001b[39m: NDArrayBackedExtensionArrayT,\n\u001b[1;32m    268\u001b[0m     key: PositionalIndexer2D,\n\u001b[1;32m    269\u001b[0m ) \u001b[39m-\u001b[39m\u001b[39m>\u001b[39m NDArrayBackedExtensionArrayT \u001b[39m|\u001b[39m Any:\n\u001b[1;32m    270\u001b[0m     \u001b[39mif\u001b[39;00m lib\u001b[39m.\u001b[39mis_integer(key):\n\u001b[1;32m    271\u001b[0m         \u001b[39m# fast-path\u001b[39;00m\n\u001b[0;32m--> 272\u001b[0m         result \u001b[39m=\u001b[39m \u001b[39mself\u001b[39;49m\u001b[39m.\u001b[39;49m_ndarray[key]\n\u001b[1;32m    273\u001b[0m         \u001b[39mif\u001b[39;00m \u001b[39mself\u001b[39m\u001b[39m.\u001b[39mndim \u001b[39m==\u001b[39m \u001b[39m1\u001b[39m:\n\u001b[1;32m    274\u001b[0m             \u001b[39mreturn\u001b[39;00m \u001b[39mself\u001b[39m\u001b[39m.\u001b[39m_box_func(result)\n",
      "\u001b[0;31mIndexError\u001b[0m: index -1 is out of bounds for axis 0 with size 0"
     ]
    }
   ],
   "source": [
    "forecast_periods=3\n",
    "# Tüm ayları içeren bir zaman serisi oluşturun\n",
    "#full_date_range = pd.date_range(start='2020-01-01', end='2023-07-01', freq='MS')\n",
    "forecast_index = pd.date_range(start=ts_log.index[-1], periods=forecast_periods+1, freq='MS')[1:]\n",
    "\n",
    "full_ts = pd.DataFrame(index=forecast_index)\n",
    "\n",
    "# Veri setini aylık olarak birleştirin\n",
    "df_full = full_ts.merge(ts, how='left', left_index=True, right_index=True)\n",
    "\n",
    "# Eksik verileri doldurun (örneğin, forward fill)\n",
    "df_full_filled = df_full.ffill()\n",
    "\n",
    "# Belirli bir 'id' için veriyi seçin\n",
    "merchant_id = 33179\n",
    "merchant_data = df_full_filled[df_full_filled['id'] == merchant_id]\n",
    "\n",
    "# Log dönüşümü yapın\n",
    "ts_log = np.log(merchant_data['net_payment_count'])\n",
    "\n",
    "# İlk farkı alın (differencing)\n",
    "ts_log_diff = ts_log - ts_log.shift()\n",
    "plt.plot(ts_log_diff)\n",
    "ts_log_diff.dropna(inplace=True)\n",
    "\n",
    "# ARIMA modelini oluşturun ve eğitin\n",
    "model = sm.tsa.ARIMA(ts_log, order=(0, 1, 1))\n",
    "results_ARIMA = model.fit()\n",
    "\n",
    "# Tahminleri alın\n",
    "start_date = df_full_filled.index[-3]  # 2023'ün son 3 ayı\n",
    "end_date = df_full_filled.index[-1]\n",
    "predictions = results_ARIMA.get_forecast(steps=len(ts_log_diff))\n",
    "y_pred_df = predictions.conf_int(alpha=0.05)\n",
    "y_pred_df[\"Predictions\"] = results_ARIMA.predict(start=start_date, end=end_date)\n",
    "\n",
    "# Tahminleri indeks ile eşleştirin\n",
    "y_pred_df.index = ts_log.index[1:]  # Fark aldığımız için birinci indeksi atladık\n",
    "y_pred_out = np.exp(y_pred_df[\"Predictions\"])  # Eğer log dönüşümü uygulandıysa, orijinal ölçekteki değerlere çevirin\n",
    "\n",
    "# Tahminleri DataFrame olarak oluşturun\n",
    "prediction_df = pd.DataFrame({\n",
    "    'Actual_Data': df_full_filled[df_full_filled['id'] == merchant_id]['net_payment_count'][-3:].values\n",
    "}, index=ts_log.index[-3:])\n",
    "\n",
    "# Tahminleri göster\n",
    "print(prediction_df)"
   ]
  },
  {
   "cell_type": "code",
   "execution_count": 26,
   "metadata": {},
   "outputs": [
    {
     "name": "stdout",
     "output_type": "stream",
     "text": [
      "Performing stepwise search to minimize aic\n",
      " ARIMA(0,1,0)(1,0,1)[12] intercept   : AIC=1257.380, Time=0.14 sec\n",
      " ARIMA(0,1,0)(0,0,0)[12] intercept   : AIC=1255.136, Time=0.01 sec\n",
      " ARIMA(1,1,0)(1,0,0)[12] intercept   : AIC=1249.738, Time=0.04 sec\n",
      " ARIMA(0,1,1)(0,0,1)[12] intercept   : AIC=1233.400, Time=0.09 sec\n",
      " ARIMA(0,1,0)(0,0,0)[12]             : AIC=1253.184, Time=0.01 sec\n",
      " ARIMA(0,1,1)(0,0,0)[12] intercept   : AIC=1231.933, Time=0.03 sec\n",
      " ARIMA(0,1,1)(1,0,0)[12] intercept   : AIC=1233.045, Time=0.05 sec\n",
      " ARIMA(0,1,1)(1,0,1)[12] intercept   : AIC=inf, Time=0.30 sec\n",
      " ARIMA(1,1,1)(0,0,0)[12] intercept   : AIC=1233.959, Time=0.04 sec\n",
      " ARIMA(0,1,2)(0,0,0)[12] intercept   : AIC=1236.198, Time=0.06 sec\n",
      " ARIMA(1,1,0)(0,0,0)[12] intercept   : AIC=1248.102, Time=0.02 sec\n",
      " ARIMA(1,1,2)(0,0,0)[12] intercept   : AIC=1234.853, Time=0.08 sec\n",
      " ARIMA(0,1,1)(0,0,0)[12]             : AIC=1227.227, Time=0.04 sec\n",
      " ARIMA(0,1,1)(1,0,0)[12]             : AIC=1228.777, Time=0.09 sec\n",
      " ARIMA(0,1,1)(0,0,1)[12]             : AIC=1228.749, Time=0.06 sec\n",
      " ARIMA(0,1,1)(1,0,1)[12]             : AIC=1230.746, Time=0.13 sec\n",
      " ARIMA(1,1,1)(0,0,0)[12]             : AIC=1229.149, Time=0.05 sec\n",
      " ARIMA(0,1,2)(0,0,0)[12]             : AIC=1229.747, Time=0.05 sec\n",
      " ARIMA(1,1,0)(0,0,0)[12]             : AIC=1246.142, Time=0.02 sec\n",
      " ARIMA(1,1,2)(0,0,0)[12]             : AIC=1230.161, Time=0.06 sec\n",
      "\n",
      "Best model:  ARIMA(0,1,1)(0,0,0)[12]          \n",
      "Total fit time: 1.409 seconds\n",
      "                               SARIMAX Results                                \n",
      "==============================================================================\n",
      "Dep. Variable:                      y   No. Observations:                   45\n",
      "Model:               SARIMAX(0, 1, 1)   Log Likelihood                -611.613\n",
      "Date:                Mon, 05 Feb 2024   AIC                           1227.227\n",
      "Time:                        10:54:20   BIC                           1230.795\n",
      "Sample:                             0   HQIC                          1228.550\n",
      "                                 - 45                                         \n",
      "Covariance Type:                  opg                                         \n",
      "==============================================================================\n",
      "                 coef    std err          z      P>|z|      [0.025      0.975]\n",
      "------------------------------------------------------------------------------\n",
      "ma.L1         -0.9800      0.294     -3.328      0.001      -1.557      -0.403\n",
      "sigma2      8.313e+10   2.21e-12   3.75e+22      0.000    8.31e+10    8.31e+10\n",
      "===================================================================================\n",
      "Ljung-Box (L1) (Q):                   0.13   Jarque-Bera (JB):                 4.75\n",
      "Prob(Q):                              0.72   Prob(JB):                         0.09\n",
      "Heteroskedasticity (H):               1.33   Skew:                             0.71\n",
      "Prob(H) (two-sided):                  0.59   Kurtosis:                         2.25\n",
      "===================================================================================\n",
      "\n",
      "Warnings:\n",
      "[1] Covariance matrix calculated using the outer product of gradients (complex-step).\n",
      "[2] Covariance matrix is singular or near-singular, with condition number    inf. Standard errors may be unstable.\n"
     ]
    }
   ],
   "source": [
    "from statsmodels.tsa.arima_model import ARIMA\n",
    "import pmdarima as pm\n",
    "\n",
    "merchant_data = ts[ts['id'] == '33179']\n",
    "\n",
    "data = merchant_data['net_payment_count']\n",
    "seasonal = True\n",
    "\n",
    "model = pm.auto_arima(data, \n",
    "                      m=12,               # frequency of series                      \n",
    "                      seasonal=seasonal,  # TRUE if seasonal series\n",
    "                      d=None,             # let model determine 'd'\n",
    "                      test='adf',         # use adftest to find optimal 'd'\n",
    "                      start_p=0, start_q=0, # minimum p and q\n",
    "                      max_p=3, max_q=3,   # maximum p and q\n",
    "                      D=None,             # let model determine 'D'\n",
    "                      trace=True,\n",
    "                      error_action='ignore',  \n",
    "                      suppress_warnings=True, \n",
    "                      stepwise=True)\n",
    "\n",
    "# print model summary\n",
    "print(model.summary())"
   ]
  },
  {
   "cell_type": "code",
   "execution_count": 94,
   "metadata": {},
   "outputs": [
    {
     "data": {
      "text/plain": [
       "((0, 2), (0,), (0, 2), (45,))"
      ]
     },
     "execution_count": 94,
     "metadata": {},
     "output_type": "execute_result"
    }
   ],
   "source": [
    "TEST_SIZE = 10\n",
    "train, test = merchant_data.iloc[:-TEST_SIZE], merchant_data.iloc[-TEST_SIZE:]\n",
    "x_train, x_test = np.array(range(train.shape[0])), np.array(range(train.shape[0], ts[ts['id'] == '33179'].shape[0]))\n",
    "train.shape, x_train.shape, test.shape, x_test.shape\n"
   ]
  },
  {
   "cell_type": "code",
   "execution_count": 95,
   "metadata": {},
   "outputs": [
    {
     "ename": "TypeError",
     "evalue": "predict() missing 1 required positional argument: 'params'",
     "output_type": "error",
     "traceback": [
      "\u001b[0;31m---------------------------------------------------------------------------\u001b[0m",
      "\u001b[0;31mTypeError\u001b[0m                                 Traceback (most recent call last)",
      "Cell \u001b[0;32mIn[95], line 1\u001b[0m\n\u001b[0;32m----> 1\u001b[0m prediction, confint \u001b[39m=\u001b[39m model\u001b[39m.\u001b[39;49mpredict(n_periods\u001b[39m=\u001b[39;49mTEST_SIZE, return_conf_int\u001b[39m=\u001b[39;49m\u001b[39mTrue\u001b[39;49;00m)\n\u001b[1;32m      3\u001b[0m prediction\n",
      "\u001b[0;31mTypeError\u001b[0m: predict() missing 1 required positional argument: 'params'"
     ]
    }
   ],
   "source": [
    "prediction, confint = model.predict(n_periods=TEST_SIZE, return_conf_int=True)\n",
    "\n",
    "prediction"
   ]
  },
  {
   "cell_type": "code",
   "execution_count": 30,
   "metadata": {},
   "outputs": [],
   "source": [
    "cf= pd.DataFrame(confint)\n"
   ]
  },
  {
   "cell_type": "code",
   "execution_count": 31,
   "metadata": {},
   "outputs": [],
   "source": [
    "pred_df = x_test.copy()\n"
   ]
  },
  {
   "cell_type": "code",
   "execution_count": 33,
   "metadata": {},
   "outputs": [
    {
     "data": {
      "text/html": [
       "<div>\n",
       "<style scoped>\n",
       "    .dataframe tbody tr th:only-of-type {\n",
       "        vertical-align: middle;\n",
       "    }\n",
       "\n",
       "    .dataframe tbody tr th {\n",
       "        vertical-align: top;\n",
       "    }\n",
       "\n",
       "    .dataframe thead th {\n",
       "        text-align: right;\n",
       "    }\n",
       "</style>\n",
       "<table border=\"1\" class=\"dataframe\">\n",
       "  <thead>\n",
       "    <tr style=\"text-align: right;\">\n",
       "      <th></th>\n",
       "      <th>net_payment_count</th>\n",
       "      <th>id</th>\n",
       "    </tr>\n",
       "    <tr>\n",
       "      <th>month_id</th>\n",
       "      <th></th>\n",
       "      <th></th>\n",
       "    </tr>\n",
       "  </thead>\n",
       "  <tbody>\n",
       "    <tr>\n",
       "      <th>2022-10-01</th>\n",
       "      <td>3</td>\n",
       "      <td>1</td>\n",
       "    </tr>\n",
       "    <tr>\n",
       "      <th>2021-08-01</th>\n",
       "      <td>3</td>\n",
       "      <td>1</td>\n",
       "    </tr>\n",
       "    <tr>\n",
       "      <th>2022-03-01</th>\n",
       "      <td>9</td>\n",
       "      <td>10</td>\n",
       "    </tr>\n",
       "    <tr>\n",
       "      <th>2021-11-01</th>\n",
       "      <td>6</td>\n",
       "      <td>10</td>\n",
       "    </tr>\n",
       "    <tr>\n",
       "      <th>2022-04-01</th>\n",
       "      <td>4</td>\n",
       "      <td>10</td>\n",
       "    </tr>\n",
       "    <tr>\n",
       "      <th>...</th>\n",
       "      <td>...</td>\n",
       "      <td>...</td>\n",
       "    </tr>\n",
       "    <tr>\n",
       "      <th>2023-06-01</th>\n",
       "      <td>4</td>\n",
       "      <td>9993</td>\n",
       "    </tr>\n",
       "    <tr>\n",
       "      <th>2022-12-01</th>\n",
       "      <td>3</td>\n",
       "      <td>9993</td>\n",
       "    </tr>\n",
       "    <tr>\n",
       "      <th>2023-02-01</th>\n",
       "      <td>3</td>\n",
       "      <td>9993</td>\n",
       "    </tr>\n",
       "    <tr>\n",
       "      <th>2022-10-01</th>\n",
       "      <td>8</td>\n",
       "      <td>9993</td>\n",
       "    </tr>\n",
       "    <tr>\n",
       "      <th>2022-11-01</th>\n",
       "      <td>3</td>\n",
       "      <td>9993</td>\n",
       "    </tr>\n",
       "  </tbody>\n",
       "</table>\n",
       "<p>291142 rows × 2 columns</p>\n",
       "</div>"
      ],
      "text/plain": [
       "            net_payment_count    id\n",
       "month_id                           \n",
       "2022-10-01                  3     1\n",
       "2021-08-01                  3     1\n",
       "2022-03-01                  9    10\n",
       "2021-11-01                  6    10\n",
       "2022-04-01                  4    10\n",
       "...                       ...   ...\n",
       "2023-06-01                  4  9993\n",
       "2022-12-01                  3  9993\n",
       "2023-02-01                  3  9993\n",
       "2022-10-01                  8  9993\n",
       "2022-11-01                  3  9993\n",
       "\n",
       "[291142 rows x 2 columns]"
      ]
     },
     "execution_count": 33,
     "metadata": {},
     "output_type": "execute_result"
    }
   ],
   "source": [
    "ts"
   ]
  },
  {
   "cell_type": "code",
   "execution_count": 34,
   "metadata": {},
   "outputs": [
    {
     "data": {
      "image/png": "[encoded data removed]",
      "text/plain": [
       "<Figure size 2000x700 with 1 Axes>"
      ]
     },
     "metadata": {},
     "output_type": "display_data"
    }
   ],
   "source": [
    "data = ts[ts['id'] == '9993']\n",
    "merchant_data = data.sort_values(by=['month_id'])\n",
    "\n",
    "ts_log = np.log(merchant_data['net_payment_count'])\n",
    "\n",
    "ts_log_diff = ts_log - ts_log.shift()\n",
    "plt.plot(ts_log_diff)\n",
    "ts_log_diff.dropna(inplace=True)"
   ]
  },
  {
   "cell_type": "code",
   "execution_count": 70,
   "metadata": {},
   "outputs": [
    {
     "data": {
      "text/html": [
       "<div>\n",
       "<style scoped>\n",
       "    .dataframe tbody tr th:only-of-type {\n",
       "        vertical-align: middle;\n",
       "    }\n",
       "\n",
       "    .dataframe tbody tr th {\n",
       "        vertical-align: top;\n",
       "    }\n",
       "\n",
       "    .dataframe thead th {\n",
       "        text-align: right;\n",
       "    }\n",
       "</style>\n",
       "<table border=\"1\" class=\"dataframe\">\n",
       "  <thead>\n",
       "    <tr style=\"text-align: right;\">\n",
       "      <th></th>\n",
       "      <th>net_payment_count</th>\n",
       "      <th>id</th>\n",
       "    </tr>\n",
       "    <tr>\n",
       "      <th>month_id</th>\n",
       "      <th></th>\n",
       "      <th></th>\n",
       "    </tr>\n",
       "  </thead>\n",
       "  <tbody>\n",
       "    <tr>\n",
       "      <th>2023-01-01</th>\n",
       "      <td>3</td>\n",
       "      <td>9993</td>\n",
       "    </tr>\n",
       "    <tr>\n",
       "      <th>2023-06-01</th>\n",
       "      <td>4</td>\n",
       "      <td>9993</td>\n",
       "    </tr>\n",
       "    <tr>\n",
       "      <th>2022-12-01</th>\n",
       "      <td>3</td>\n",
       "      <td>9993</td>\n",
       "    </tr>\n",
       "    <tr>\n",
       "      <th>2023-02-01</th>\n",
       "      <td>3</td>\n",
       "      <td>9993</td>\n",
       "    </tr>\n",
       "    <tr>\n",
       "      <th>2022-10-01</th>\n",
       "      <td>8</td>\n",
       "      <td>9993</td>\n",
       "    </tr>\n",
       "    <tr>\n",
       "      <th>2022-11-01</th>\n",
       "      <td>3</td>\n",
       "      <td>9993</td>\n",
       "    </tr>\n",
       "  </tbody>\n",
       "</table>\n",
       "</div>"
      ],
      "text/plain": [
       "            net_payment_count    id\n",
       "month_id                           \n",
       "2023-01-01                  3  9993\n",
       "2023-06-01                  4  9993\n",
       "2022-12-01                  3  9993\n",
       "2023-02-01                  3  9993\n",
       "2022-10-01                  8  9993\n",
       "2022-11-01                  3  9993"
      ]
     },
     "execution_count": 70,
     "metadata": {},
     "output_type": "execute_result"
    }
   ],
   "source": [
    "data"
   ]
  },
  {
   "cell_type": "code",
   "execution_count": 55,
   "metadata": {},
   "outputs": [
    {
     "name": "stderr",
     "output_type": "stream",
     "text": [
      "/Users/seydanurkayir/Library/Python/3.9/lib/python/site-packages/statsmodels/tsa/base/tsa_model.py:471: ValueWarning: A date index has been provided, but it has no associated frequency information and so will be ignored when e.g. forecasting.\n",
      "  self._init_dates(dates, freq)\n",
      "/Users/seydanurkayir/Library/Python/3.9/lib/python/site-packages/statsmodels/tsa/base/tsa_model.py:471: ValueWarning: A date index has been provided, but it has no associated frequency information and so will be ignored when e.g. forecasting.\n",
      "  self._init_dates(dates, freq)\n",
      "/Users/seydanurkayir/Library/Python/3.9/lib/python/site-packages/statsmodels/tsa/base/tsa_model.py:471: ValueWarning: A date index has been provided, but it has no associated frequency information and so will be ignored when e.g. forecasting.\n",
      "  self._init_dates(dates, freq)\n"
     ]
    },
    {
     "data": {
      "image/png": "[encoded data removed]",
      "text/plain": [
       "<Figure size 640x480 with 1 Axes>"
      ]
     },
     "metadata": {},
     "output_type": "display_data"
    }
   ],
   "source": [
    "merchant_id = '9993'\n",
    "merchant_data = ts[ts['id'] == merchant_id].sort_values(by=['month_id'])\n",
    "\n",
    "# Log dönüşümü yapın\n",
    "ts_log = np.log(merchant_data['net_payment_count'])\n",
    "\n",
    "# İlk farkı alın (differencing)\n",
    "ts_log_diff = ts_log - ts_log.shift()\n",
    "ts_log_diff.dropna(inplace=True)\n",
    "plt.plot(ts_log_diff)\n",
    "\n",
    "# ARIMA modelini oluşturun ve eğitin\n",
    "model = sm.tsa.ARIMA(ts_log, order=(0, 1, 1))\n",
    "results_ARIMA = model.fit()\n",
    "    #forecast = results_ARIMA.get_forecast(steps=forecast_periods)\n"
   ]
  },
  {
   "cell_type": "code",
   "execution_count": null,
   "metadata": {},
   "outputs": [],
   "source": [
    "\n",
    "# Tahminleri alın\n",
    "start_date = ts_log.index[-3]  # 2023'ün son 3 ayı\n",
    "end_date = ts_log.index[-1]\n",
    "predictions = results_ARIMA.get_forecast(steps=3)\n",
    "y_pred_df = predictions.conf_int(alpha=0.05)\n",
    "y_pred_df[\"Predictions\"] = results_ARIMA.predict(start=start_date, end=end_date)\n",
    "\n",
    "# Tahminleri indeks ile eşleştirin\n",
    "y_pred_df.index = ts_log.index[1:]  # Fark aldığımız için birinci indeksi atladık\n",
    "y_pred_out = np.exp(y_pred_df[\"Predictions\"])  # Eğer log dönüşümü uygulandıysa, orijinal ölçekteki değerlere çevirin\n",
    "\n",
    "# Grafik çizimi\n",
    "plt.plot(merchant_data['net_payment_count'], label='Actual Data')\n",
    "plt.plot(y_pred_out, color='yellow', label='ARIMA Predictions')\n",
    "plt.legend()\n",
    "plt.show()"
   ]
  },
  {
   "cell_type": "code",
   "execution_count": null,
   "metadata": {},
   "outputs": [],
   "source": [
    "start_date = ts_log.index[-3]  # 2023'ün son 3 ayı\n",
    "end_date = ts_log.index[-1]\n",
    "predictions = results_ARIMA.get_forecast(steps=len(ts_log_diff))\n",
    "y_pred_df = predictions.conf_int(alpha=0.05)\n",
    "y_pred_df[\"Predictions\"] = results_ARIMA.predict(start=start_date, end=end_date)\n",
    "\n",
    "# Tahminleri indeks ile eşleştirin\n",
    "y_pred_df.index = ts_log.index[1:]  # Fark aldığımız için birinci indeksi atladık\n",
    "y_pred_out = np.exp(y_pred_df[\"Predictions\"])  # Eğer log dönüşümü uygulandıysa, orijinal ölçekteki değerlere çevirin\n",
    "\n",
    "# Tahminleri DataFrame olarak oluşturun\n",
    "prediction_df = pd.DataFrame({\n",
    "    'Actual_Data': merchant_data['net_payment_count'][-3:].values,\n",
    "    'ARIMA_Predictions': y_pred_out.values,\n",
    "}, index=ts_log.index[-3:])\n",
    "\n",
    "# Tahminleri göster\n",
    "print(prediction_df)"
   ]
  },
  {
   "cell_type": "code",
   "execution_count": 76,
   "metadata": {},
   "outputs": [
    {
     "data": {
      "text/plain": [
       "month_id\n",
       "2022-10-01    2.079442\n",
       "2022-11-01    1.098612\n",
       "2022-12-01    1.098612\n",
       "2023-01-01    1.098612\n",
       "2023-02-01    1.098612\n",
       "2023-06-01    1.386294\n",
       "Name: net_payment_count, dtype: float64"
      ]
     },
     "execution_count": 76,
     "metadata": {},
     "output_type": "execute_result"
    }
   ],
   "source": [
    "ts_log"
   ]
  },
  {
   "cell_type": "code",
   "execution_count": 78,
   "metadata": {},
   "outputs": [
    {
     "data": {
      "text/plain": [
       "Timestamp('2023-06-01 00:00:00')"
      ]
     },
     "execution_count": 78,
     "metadata": {},
     "output_type": "execute_result"
    }
   ],
   "source": [
    "end_date"
   ]
  },
  {
   "cell_type": "code",
   "execution_count": 90,
   "metadata": {},
   "outputs": [
    {
     "data": {
      "text/plain": [
       "DatetimeIndex(['2023-01-01', '2023-02-01', '2023-06-01'], dtype='datetime64[ns]', name='month_id', freq=None)"
      ]
     },
     "execution_count": 90,
     "metadata": {},
     "output_type": "execute_result"
    }
   ],
   "source": [
    "start_date"
   ]
  },
  {
   "cell_type": "code",
   "execution_count": 89,
   "metadata": {},
   "outputs": [],
   "source": [
    "start_date = ts_log.index[-3:]  # 2023'ün son 3 ayı\n",
    "end_date = ts_log.index[-1]"
   ]
  },
  {
   "cell_type": "code",
   "execution_count": 60,
   "metadata": {},
   "outputs": [
    {
     "name": "stderr",
     "output_type": "stream",
     "text": [
      "/Users/seydanurkayir/Library/Python/3.9/lib/python/site-packages/statsmodels/tsa/base/tsa_model.py:471: ValueWarning: A date index has been provided, but it has no associated frequency information and so will be ignored when e.g. forecasting.\n",
      "  self._init_dates(dates, freq)\n",
      "/Users/seydanurkayir/Library/Python/3.9/lib/python/site-packages/statsmodels/tsa/base/tsa_model.py:471: ValueWarning: A date index has been provided, but it has no associated frequency information and so will be ignored when e.g. forecasting.\n",
      "  self._init_dates(dates, freq)\n",
      "/Users/seydanurkayir/Library/Python/3.9/lib/python/site-packages/statsmodels/tsa/base/tsa_model.py:471: ValueWarning: A date index has been provided, but it has no associated frequency information and so will be ignored when e.g. forecasting.\n",
      "  self._init_dates(dates, freq)\n"
     ]
    },
    {
     "data": {
      "text/plain": [
       "Text(0.5, 1.0, 'RSS: nan')"
      ]
     },
     "execution_count": 60,
     "metadata": {},
     "output_type": "execute_result"
    },
    {
     "data": {
      "image/png": "[encoded data removed]",
      "text/plain": [
       "<Figure size 2000x700 with 1 Axes>"
      ]
     },
     "metadata": {},
     "output_type": "display_data"
    }
   ],
   "source": [
    "\n",
    "model = sm.tsa.arima.ARIMA(ts_log, order=(0, 1, 1))  \n",
    "results_ARIMA = model.fit()  \n",
    "plt.plot(ts_log_diff)\n",
    "plt.plot(results_ARIMA.fittedvalues, color='red')\n",
    "plt.title('RSS: %.4f'% sum((results_ARIMA.fittedvalues-ts_log_diff)**2))"
   ]
  },
  {
   "cell_type": "code",
   "execution_count": 47,
   "metadata": {},
   "outputs": [
    {
     "name": "stderr",
     "output_type": "stream",
     "text": [
      "/Users/seydanurkayir/Library/Python/3.9/lib/python/site-packages/statsmodels/tsa/base/tsa_model.py:834: ValueWarning: No supported index is available. Prediction results will be given with an integer index beginning at `start`.\n",
      "  return get_prediction_index(\n"
     ]
    },
    {
     "data": {
      "text/plain": [
       "<statsmodels.tsa.statespace.mlemodel.PredictionResultsWrapper at 0x1335c9d90>"
      ]
     },
     "execution_count": 47,
     "metadata": {},
     "output_type": "execute_result"
    }
   ],
   "source": [
    "\n",
    "y_pred = results_ARIMA.get_forecast(steps = 3)\n",
    "#forecast = forecast_result.predicted_mean\n",
    "y_pred"
   ]
  },
  {
   "cell_type": "markdown",
   "metadata": {},
   "source": []
  },
  {
   "cell_type": "markdown",
   "metadata": {},
   "source": []
  },
  {
   "cell_type": "code",
   "execution_count": null,
   "metadata": {},
   "outputs": [],
   "source": [
    "#y_pred = model.get_forecast(len(ts.index))\n",
    "y_pred_df = y_pred.conf_int(alpha = 0.05) \n",
    "y_pred_df[\"Predictions\"] = results_ARIMA.predict(start = y_pred_df.index[0], end = y_pred_df.index[-1])\n",
    "y_pred_df.index = ts.index\n",
    "y_pred_out = y_pred_df[\"Predictions\"] \n",
    "plt.plot(y_pred_out, color='Yellow', label = 'ARIMA Predictions')\n",
    "plt.legend()"
   ]
  },
  {
   "cell_type": "code",
   "execution_count": null,
   "metadata": {},
   "outputs": [],
   "source": [
    "# İlk farkı alalım (differencing)\n",
    "ts_log_diff = ts_log.diff().dropna()\n",
    "\n",
    "# ARIMA modelini oluşturun ve eğitin\n",
    "model = sm.tsa.ARIMA(ts_log, order=(0, 1, 1))\n",
    "results_ARIMA = model.fit()\n",
    "\n",
    "# Tahminleri alın\n",
    "y_pred = results_ARIMA.get_forecast(steps=len(ts_log_diff))\n",
    "y_pred_df = y_pred.conf_int(alpha=0.05)\n",
    "y_pred_df[\"Predictions\"] = results_ARIMA.predict(start=y_pred_df.index[0], end=y_pred_df.index[-1])\n",
    "\n",
    "# Tahminleri indeks ile eşleştirin\n",
    "y_pred_df.index = ts_log.index[1:]  # Fark aldığımız için birinci indeksi atladık\n",
    "y_pred_out = np.exp(y_pred_df[\"Predictions\"])  # Eğer log dönüşümü uygulandıysa, orijinal ölçekteki değerlere çevirin\n",
    "\n",
    "# Grafik çizimi\n",
    "plt.plot(ts, label='Actual Data')\n",
    "plt.plot(y_pred_out, color='yellow', label='ARIMA Predictions')\n",
    "plt.legend()\n",
    "plt.show()"
   ]
  },
  {
   "cell_type": "code",
   "execution_count": 62,
   "metadata": {},
   "outputs": [
    {
     "data": {
      "text/plain": [
       "month_id\n",
       "2022-10-01    1.386293\n",
       "2021-08-01    1.386293\n",
       "2022-03-01    1.386293\n",
       "2021-11-01    1.386293\n",
       "2022-04-01    1.386293\n",
       "                ...   \n",
       "2023-06-01    1.386293\n",
       "2022-12-01    1.386293\n",
       "2023-02-01    1.386293\n",
       "2022-10-01    1.386293\n",
       "2022-11-01    1.386293\n",
       "Name: Predictions, Length: 291142, dtype: float64"
      ]
     },
     "execution_count": 62,
     "metadata": {},
     "output_type": "execute_result"
    }
   ],
   "source": [
    "y_pred_df[\"Predictions\"]"
   ]
  },
  {
   "cell_type": "code",
   "execution_count": 51,
   "metadata": {},
   "outputs": [
    {
     "data": {
      "text/html": [
       "<div>\n",
       "<style scoped>\n",
       "    .dataframe tbody tr th:only-of-type {\n",
       "        vertical-align: middle;\n",
       "    }\n",
       "\n",
       "    .dataframe tbody tr th {\n",
       "        vertical-align: top;\n",
       "    }\n",
       "\n",
       "    .dataframe thead th {\n",
       "        text-align: right;\n",
       "    }\n",
       "</style>\n",
       "<table border=\"1\" class=\"dataframe\">\n",
       "  <thead>\n",
       "    <tr style=\"text-align: right;\">\n",
       "      <th>net_payment_count</th>\n",
       "      <th>mean</th>\n",
       "      <th>mean_se</th>\n",
       "      <th>mean_ci_lower</th>\n",
       "      <th>mean_ci_upper</th>\n",
       "    </tr>\n",
       "  </thead>\n",
       "  <tbody>\n",
       "    <tr>\n",
       "      <th>6</th>\n",
       "      <td>1.386294</td>\n",
       "      <td>0.457114</td>\n",
       "      <td>0.490368</td>\n",
       "      <td>2.282221</td>\n",
       "    </tr>\n",
       "    <tr>\n",
       "      <th>7</th>\n",
       "      <td>1.386295</td>\n",
       "      <td>0.646456</td>\n",
       "      <td>0.119263</td>\n",
       "      <td>2.653326</td>\n",
       "    </tr>\n",
       "    <tr>\n",
       "      <th>8</th>\n",
       "      <td>1.386295</td>\n",
       "      <td>0.791744</td>\n",
       "      <td>-0.165496</td>\n",
       "      <td>2.938085</td>\n",
       "    </tr>\n",
       "    <tr>\n",
       "      <th>9</th>\n",
       "      <td>1.386295</td>\n",
       "      <td>0.914228</td>\n",
       "      <td>-0.405559</td>\n",
       "      <td>3.178148</td>\n",
       "    </tr>\n",
       "    <tr>\n",
       "      <th>10</th>\n",
       "      <td>1.386295</td>\n",
       "      <td>1.022138</td>\n",
       "      <td>-0.617059</td>\n",
       "      <td>3.389648</td>\n",
       "    </tr>\n",
       "    <tr>\n",
       "      <th>11</th>\n",
       "      <td>1.386295</td>\n",
       "      <td>1.119696</td>\n",
       "      <td>-0.808269</td>\n",
       "      <td>3.580858</td>\n",
       "    </tr>\n",
       "  </tbody>\n",
       "</table>\n",
       "</div>"
      ],
      "text/plain": [
       "net_payment_count      mean   mean_se  mean_ci_lower  mean_ci_upper\n",
       "6                  1.386294  0.457114       0.490368       2.282221\n",
       "7                  1.386295  0.646456       0.119263       2.653326\n",
       "8                  1.386295  0.791744      -0.165496       2.938085\n",
       "9                  1.386295  0.914228      -0.405559       3.178148\n",
       "10                 1.386295  1.022138      -0.617059       3.389648\n",
       "11                 1.386295  1.119696      -0.808269       3.580858"
      ]
     },
     "execution_count": 51,
     "metadata": {},
     "output_type": "execute_result"
    }
   ],
   "source": [
    "y_pred_df"
   ]
  },
  {
   "cell_type": "code",
   "execution_count": 44,
   "metadata": {},
   "outputs": [
    {
     "name": "stdout",
     "output_type": "stream",
     "text": [
      "DatetimeIndex(['2022-10-01', '2022-11-01', '2022-12-01', '2023-01-01',\n",
      "               '2023-02-01', '2023-06-01'],\n",
      "              dtype='datetime64[ns]', name='month_id', freq=None)\n"
     ]
    }
   ],
   "source": [
    "print(ts_log.index)\n"
   ]
  },
  {
   "cell_type": "code",
   "execution_count": 73,
   "metadata": {},
   "outputs": [],
   "source": [
    "predictions_ARIMA_diff = pd.Series(results_ARIMA.fittedvalues, copy=True)\n",
    "\n",
    "\n",
    "predictions_ARIMA_diff_cumsum = predictions_ARIMA_diff.cumsum()"
   ]
  },
  {
   "cell_type": "code",
   "execution_count": null,
   "metadata": {},
   "outputs": [],
   "source": []
  },
  {
   "cell_type": "code",
   "execution_count": 258,
   "metadata": {},
   "outputs": [
    {
     "data": {
      "text/plain": [
       "Text(0.5, 1.0, 'Time Series')"
      ]
     },
     "execution_count": 258,
     "metadata": {},
     "output_type": "execute_result"
    },
    {
     "data": {
      "image/png": "[encoded data removed]",
      "text/plain": [
       "<Figure size 1200x500 with 1 Axes>"
      ]
     },
     "metadata": {},
     "output_type": "display_data"
    }
   ],
   "source": [
    "dategroup=ts.groupby(ts.index).mean()\n",
    "plt.figure(figsize=(12,5))\n",
    "dategroup['net_payment_count'].plot(x=ts.index)\n",
    "plt.title('Time Series')"
   ]
  },
  {
   "cell_type": "code",
   "execution_count": 42,
   "metadata": {},
   "outputs": [
    {
     "data": {
      "text/html": [
       "<div>\n",
       "<style scoped>\n",
       "    .dataframe tbody tr th:only-of-type {\n",
       "        vertical-align: middle;\n",
       "    }\n",
       "\n",
       "    .dataframe tbody tr th {\n",
       "        vertical-align: top;\n",
       "    }\n",
       "\n",
       "    .dataframe thead th {\n",
       "        text-align: right;\n",
       "    }\n",
       "</style>\n",
       "<table border=\"1\" class=\"dataframe\">\n",
       "  <thead>\n",
       "    <tr style=\"text-align: right;\">\n",
       "      <th></th>\n",
       "      <th>net_payment_count</th>\n",
       "      <th>id</th>\n",
       "    </tr>\n",
       "    <tr>\n",
       "      <th>month_id</th>\n",
       "      <th></th>\n",
       "      <th></th>\n",
       "    </tr>\n",
       "  </thead>\n",
       "  <tbody>\n",
       "    <tr>\n",
       "      <th>2020-01-01</th>\n",
       "      <td>3</td>\n",
       "      <td>10005</td>\n",
       "    </tr>\n",
       "    <tr>\n",
       "      <th>2020-02-01</th>\n",
       "      <td>4</td>\n",
       "      <td>10005</td>\n",
       "    </tr>\n",
       "    <tr>\n",
       "      <th>2020-02-01</th>\n",
       "      <td>5</td>\n",
       "      <td>10034</td>\n",
       "    </tr>\n",
       "    <tr>\n",
       "      <th>2020-01-01</th>\n",
       "      <td>5</td>\n",
       "      <td>10034</td>\n",
       "    </tr>\n",
       "    <tr>\n",
       "      <th>2020-01-01</th>\n",
       "      <td>5</td>\n",
       "      <td>10052</td>\n",
       "    </tr>\n",
       "    <tr>\n",
       "      <th>...</th>\n",
       "      <td>...</td>\n",
       "      <td>...</td>\n",
       "    </tr>\n",
       "    <tr>\n",
       "      <th>2020-02-01</th>\n",
       "      <td>15</td>\n",
       "      <td>9938</td>\n",
       "    </tr>\n",
       "    <tr>\n",
       "      <th>2020-01-01</th>\n",
       "      <td>16</td>\n",
       "      <td>9938</td>\n",
       "    </tr>\n",
       "    <tr>\n",
       "      <th>2020-01-01</th>\n",
       "      <td>3</td>\n",
       "      <td>9942</td>\n",
       "    </tr>\n",
       "    <tr>\n",
       "      <th>2020-02-01</th>\n",
       "      <td>3</td>\n",
       "      <td>9959</td>\n",
       "    </tr>\n",
       "    <tr>\n",
       "      <th>2020-02-01</th>\n",
       "      <td>3</td>\n",
       "      <td>9969</td>\n",
       "    </tr>\n",
       "  </tbody>\n",
       "</table>\n",
       "<p>7616 rows × 2 columns</p>\n",
       "</div>"
      ],
      "text/plain": [
       "            net_payment_count     id\n",
       "month_id                            \n",
       "2020-01-01                  3  10005\n",
       "2020-02-01                  4  10005\n",
       "2020-02-01                  5  10034\n",
       "2020-01-01                  5  10034\n",
       "2020-01-01                  5  10052\n",
       "...                       ...    ...\n",
       "2020-02-01                 15   9938\n",
       "2020-01-01                 16   9938\n",
       "2020-01-01                  3   9942\n",
       "2020-02-01                  3   9959\n",
       "2020-02-01                  3   9969\n",
       "\n",
       "[7616 rows x 2 columns]"
      ]
     },
     "execution_count": 42,
     "metadata": {},
     "output_type": "execute_result"
    }
   ],
   "source": [
    "ts[:'2020-02']"
   ]
  },
  {
   "cell_type": "code",
   "execution_count": null,
   "metadata": {},
   "outputs": [],
   "source": []
  }
 ],
 "metadata": {
  "kernelspec": {
   "display_name": "Python 3",
   "language": "python",
   "name": "python3"
  },
  "language_info": {
   "codemirror_mode": {
    "name": "ipython",
    "version": 3
   },
   "file_extension": ".py",
   "mimetype": "text/x-python",
   "name": "python",
   "nbconvert_exporter": "python",
   "pygments_lexer": "ipython3",
   "version": "3.9.6"
  },
  "orig_nbformat": 4
 },
 "nbformat": 4,
 "nbformat_minor": 2
}
